{
  "cells": [
    {
      "cell_type": "markdown",
      "metadata": {
        "id": "view-in-github",
        "colab_type": "text"
      },
      "source": [
        "<a href=\"https://colab.research.google.com/github/Amayuru1999/Number-Plate-Detection/blob/master/Automatic_Number_Plate_Detection.ipynb\" target=\"_parent\"><img src=\"https://colab.research.google.com/assets/colab-badge.svg\" alt=\"Open In Colab\"/></a>"
      ]
    },
    {
      "cell_type": "markdown",
      "metadata": {
        "id": "QUANWN3rpfC9"
      },
      "source": [
        "# 0. Setup Paths"
      ]
    },
    {
      "cell_type": "code",
      "execution_count": 1,
      "metadata": {
        "id": "146BB11JpfDA"
      },
      "outputs": [],
      "source": [
        "import os"
      ]
    },
    {
      "cell_type": "code",
      "execution_count": 32,
      "metadata": {
        "id": "42hJEdo_pfDB"
      },
      "outputs": [],
      "source": [
        "CUSTOM_MODEL_NAME = 'my_ssd_mobnet'\n",
        "PRETRAINED_MODEL_NAME = 'ssd_mobilenet_v2_fpnlite_320x320_coco17_tpu-8'\n",
        "PRETRAINED_MODEL_URL = 'http://download.tensorflow.org/models/object_detection/tf2/20200711/ssd_mobilenet_v2_fpnlite_320x320_coco17_tpu-8.tar.gz'\n",
        "TF_RECORD_SCRIPT_NAME = 'generate_tfrecord.py'\n",
        "LABEL_MAP_NAME = 'label_map.pbtxt'"
      ]
    },
    {
      "cell_type": "code",
      "execution_count": 3,
      "metadata": {
        "id": "hbPhYVy_pfDB"
      },
      "outputs": [],
      "source": [
        "paths = {\n",
        "    'WORKSPACE_PATH': os.path.join('Tensorflow', 'workspace'),\n",
        "    'SCRIPTS_PATH': os.path.join('Tensorflow','scripts'),\n",
        "    'APIMODEL_PATH': os.path.join('Tensorflow','models'),\n",
        "    'ANNOTATION_PATH': os.path.join('Tensorflow', 'workspace','annotations'),\n",
        "    'IMAGE_PATH': os.path.join('Tensorflow', 'workspace','images'),\n",
        "    'MODEL_PATH': os.path.join('Tensorflow', 'workspace','models'),\n",
        "    'PRETRAINED_MODEL_PATH': os.path.join('Tensorflow', 'workspace','pre-trained-models'),\n",
        "    'CHECKPOINT_PATH': os.path.join('Tensorflow', 'workspace','models',CUSTOM_MODEL_NAME),\n",
        "    'OUTPUT_PATH': os.path.join('Tensorflow', 'workspace','models',CUSTOM_MODEL_NAME, 'export'),\n",
        "    'TFJS_PATH':os.path.join('Tensorflow', 'workspace','models',CUSTOM_MODEL_NAME, 'tfjsexport'),\n",
        "    'TFLITE_PATH':os.path.join('Tensorflow', 'workspace','models',CUSTOM_MODEL_NAME, 'tfliteexport'),\n",
        "    'PROTOC_PATH':os.path.join('Tensorflow','protoc')\n",
        " }"
      ]
    },
    {
      "cell_type": "code",
      "execution_count": 4,
      "metadata": {
        "id": "LwhWZMI0pfDC"
      },
      "outputs": [],
      "source": [
        "files = {\n",
        "    'PIPELINE_CONFIG':os.path.join('Tensorflow', 'workspace','models', CUSTOM_MODEL_NAME, 'pipeline.config'),\n",
        "    'TF_RECORD_SCRIPT': os.path.join(paths['SCRIPTS_PATH'], TF_RECORD_SCRIPT_NAME),\n",
        "    'LABELMAP': os.path.join(paths['ANNOTATION_PATH'], LABEL_MAP_NAME)\n",
        "}"
      ]
    },
    {
      "cell_type": "code",
      "execution_count": 5,
      "metadata": {
        "id": "HR-TfDGrpfDC"
      },
      "outputs": [],
      "source": [
        "for path in paths.values():\n",
        "    if not os.path.exists(path):\n",
        "        if os.name == 'posix':\n",
        "            !mkdir -p {path}\n",
        "        if os.name == 'nt':\n",
        "            !mkdir {path}"
      ]
    },
    {
      "cell_type": "markdown",
      "metadata": {
        "id": "OLU-rs_ipfDE"
      },
      "source": [
        "# 1. Download TF Models Pretrained Models from Tensorflow Model Zoo and Install TFOD"
      ]
    },
    {
      "cell_type": "code",
      "execution_count": null,
      "metadata": {
        "id": "begyeZOItr25"
      },
      "outputs": [],
      "source": [
        "# https://www.tensorflow.org/install/source_windows"
      ]
    },
    {
      "cell_type": "code",
      "execution_count": null,
      "metadata": {
        "id": "K-Cmz2edpfDE",
        "scrolled": true
      },
      "outputs": [],
      "source": [
        "if os.name=='nt':\n",
        "    !pip install wget\n",
        "    import wget"
      ]
    },
    {
      "cell_type": "code",
      "execution_count": null,
      "metadata": {
        "id": "iA1DIq5OpfDE",
        "colab": {
          "base_uri": "https://localhost:8080/"
        },
        "outputId": "299e780a-a20f-431b-cde4-621a7dad3fb6"
      },
      "outputs": [
        {
          "output_type": "stream",
          "name": "stdout",
          "text": [
            "Cloning into 'Tensorflow/models'...\n",
            "remote: Enumerating objects: 90205, done.\u001b[K\n",
            "remote: Total 90205 (delta 0), reused 0 (delta 0), pack-reused 90205\u001b[K\n",
            "Receiving objects: 100% (90205/90205), 604.89 MiB | 32.52 MiB/s, done.\n",
            "Resolving deltas: 100% (65022/65022), done.\n"
          ]
        }
      ],
      "source": [
        "if not os.path.exists(os.path.join(paths['APIMODEL_PATH'], 'research', 'object_detection')):\n",
        "    !git clone https://github.com/tensorflow/models {paths['APIMODEL_PATH']}"
      ]
    },
    {
      "cell_type": "code",
      "execution_count": null,
      "metadata": {
        "id": "rJjMHbnDs3Tv",
        "colab": {
          "base_uri": "https://localhost:8080/"
        },
        "outputId": "ca49f140-f60b-4382-ec17-98b485398e94"
      },
      "outputs": [
        {
          "output_type": "stream",
          "name": "stdout",
          "text": [
            "Reading package lists... Done\n",
            "Building dependency tree... Done\n",
            "Reading state information... Done\n",
            "protobuf-compiler is already the newest version (3.12.4-1ubuntu7.22.04.1).\n",
            "0 upgraded, 0 newly installed, 0 to remove and 24 not upgraded.\n",
            "Processing /content/Tensorflow/models/research\n",
            "  Preparing metadata (setup.py) ... \u001b[?25l\u001b[?25hdone\n",
            "Collecting avro-python3 (from object-detection==0.1)\n",
            "  Downloading avro-python3-1.10.2.tar.gz (38 kB)\n",
            "  Preparing metadata (setup.py) ... \u001b[?25l\u001b[?25hdone\n",
            "Collecting apache-beam (from object-detection==0.1)\n",
            "  Downloading apache_beam-2.52.0-cp310-cp310-manylinux_2_17_x86_64.manylinux2014_x86_64.whl (14.7 MB)\n",
            "\u001b[2K     \u001b[90m━━━━━━━━━━━━━━━━━━━━━━━━━━━━━━━━━━━━━━━━\u001b[0m \u001b[32m14.7/14.7 MB\u001b[0m \u001b[31m57.4 MB/s\u001b[0m eta \u001b[36m0:00:00\u001b[0m\n",
            "\u001b[?25hRequirement already satisfied: pillow in /usr/local/lib/python3.10/dist-packages (from object-detection==0.1) (9.4.0)\n",
            "Requirement already satisfied: lxml in /usr/local/lib/python3.10/dist-packages (from object-detection==0.1) (4.9.3)\n",
            "Requirement already satisfied: matplotlib in /usr/local/lib/python3.10/dist-packages (from object-detection==0.1) (3.7.1)\n",
            "Requirement already satisfied: Cython in /usr/local/lib/python3.10/dist-packages (from object-detection==0.1) (3.0.6)\n",
            "Requirement already satisfied: contextlib2 in /usr/local/lib/python3.10/dist-packages (from object-detection==0.1) (21.6.0)\n",
            "Requirement already satisfied: tf-slim in /usr/local/lib/python3.10/dist-packages (from object-detection==0.1) (1.1.0)\n",
            "Requirement already satisfied: six in /usr/local/lib/python3.10/dist-packages (from object-detection==0.1) (1.16.0)\n",
            "Requirement already satisfied: pycocotools in /usr/local/lib/python3.10/dist-packages (from object-detection==0.1) (2.0.7)\n",
            "Collecting lvis (from object-detection==0.1)\n",
            "  Downloading lvis-0.5.3-py3-none-any.whl (14 kB)\n",
            "Requirement already satisfied: scipy in /usr/local/lib/python3.10/dist-packages (from object-detection==0.1) (1.11.4)\n",
            "Requirement already satisfied: pandas in /usr/local/lib/python3.10/dist-packages (from object-detection==0.1) (1.5.3)\n",
            "Collecting tf-models-official>=2.5.1 (from object-detection==0.1)\n",
            "  Downloading tf_models_official-2.15.0-py2.py3-none-any.whl (2.7 MB)\n",
            "\u001b[2K     \u001b[90m━━━━━━━━━━━━━━━━━━━━━━━━━━━━━━━━━━━━━━━━\u001b[0m \u001b[32m2.7/2.7 MB\u001b[0m \u001b[31m84.0 MB/s\u001b[0m eta \u001b[36m0:00:00\u001b[0m\n",
            "\u001b[?25hCollecting tensorflow_io (from object-detection==0.1)\n",
            "  Downloading tensorflow_io-0.35.0-cp310-cp310-manylinux_2_17_x86_64.manylinux2014_x86_64.whl (47.3 MB)\n",
            "\u001b[2K     \u001b[90m━━━━━━━━━━━━━━━━━━━━━━━━━━━━━━━━━━━━━━━━\u001b[0m \u001b[32m47.3/47.3 MB\u001b[0m \u001b[31m11.2 MB/s\u001b[0m eta \u001b[36m0:00:00\u001b[0m\n",
            "\u001b[?25hRequirement already satisfied: keras in /usr/local/lib/python3.10/dist-packages (from object-detection==0.1) (2.15.0)\n",
            "Collecting pyparsing==2.4.7 (from object-detection==0.1)\n",
            "  Downloading pyparsing-2.4.7-py2.py3-none-any.whl (67 kB)\n",
            "\u001b[2K     \u001b[90m━━━━━━━━━━━━━━━━━━━━━━━━━━━━━━━━━━━━━━━━\u001b[0m \u001b[32m67.8/67.8 kB\u001b[0m \u001b[31m9.7 MB/s\u001b[0m eta \u001b[36m0:00:00\u001b[0m\n",
            "\u001b[?25hCollecting sacrebleu<=2.2.0 (from object-detection==0.1)\n",
            "  Downloading sacrebleu-2.2.0-py3-none-any.whl (116 kB)\n",
            "\u001b[2K     \u001b[90m━━━━━━━━━━━━━━━━━━━━━━━━━━━━━━━━━━━━━━━━\u001b[0m \u001b[32m116.6/116.6 kB\u001b[0m \u001b[31m17.0 MB/s\u001b[0m eta \u001b[36m0:00:00\u001b[0m\n",
            "\u001b[?25hCollecting portalocker (from sacrebleu<=2.2.0->object-detection==0.1)\n",
            "  Downloading portalocker-2.8.2-py3-none-any.whl (17 kB)\n",
            "Requirement already satisfied: regex in /usr/local/lib/python3.10/dist-packages (from sacrebleu<=2.2.0->object-detection==0.1) (2023.6.3)\n",
            "Requirement already satisfied: tabulate>=0.8.9 in /usr/local/lib/python3.10/dist-packages (from sacrebleu<=2.2.0->object-detection==0.1) (0.9.0)\n",
            "Requirement already satisfied: numpy>=1.17 in /usr/local/lib/python3.10/dist-packages (from sacrebleu<=2.2.0->object-detection==0.1) (1.23.5)\n",
            "Collecting colorama (from sacrebleu<=2.2.0->object-detection==0.1)\n",
            "  Downloading colorama-0.4.6-py2.py3-none-any.whl (25 kB)\n",
            "Requirement already satisfied: gin-config in /usr/local/lib/python3.10/dist-packages (from tf-models-official>=2.5.1->object-detection==0.1) (0.5.0)\n",
            "Requirement already satisfied: google-api-python-client>=1.6.7 in /usr/local/lib/python3.10/dist-packages (from tf-models-official>=2.5.1->object-detection==0.1) (2.84.0)\n",
            "Collecting immutabledict (from tf-models-official>=2.5.1->object-detection==0.1)\n",
            "  Downloading immutabledict-4.1.0-py3-none-any.whl (4.5 kB)\n",
            "Requirement already satisfied: kaggle>=1.3.9 in /usr/local/lib/python3.10/dist-packages (from tf-models-official>=2.5.1->object-detection==0.1) (1.5.16)\n",
            "Requirement already satisfied: oauth2client in /usr/local/lib/python3.10/dist-packages (from tf-models-official>=2.5.1->object-detection==0.1) (4.1.3)\n",
            "Requirement already satisfied: opencv-python-headless in /usr/local/lib/python3.10/dist-packages (from tf-models-official>=2.5.1->object-detection==0.1) (4.8.1.78)\n",
            "Requirement already satisfied: psutil>=5.4.3 in /usr/local/lib/python3.10/dist-packages (from tf-models-official>=2.5.1->object-detection==0.1) (5.9.5)\n",
            "Requirement already satisfied: py-cpuinfo>=3.3.0 in /usr/local/lib/python3.10/dist-packages (from tf-models-official>=2.5.1->object-detection==0.1) (9.0.0)\n",
            "Requirement already satisfied: pyyaml>=6.0.0 in /usr/local/lib/python3.10/dist-packages (from tf-models-official>=2.5.1->object-detection==0.1) (6.0.1)\n",
            "Collecting sentencepiece (from tf-models-official>=2.5.1->object-detection==0.1)\n",
            "  Downloading sentencepiece-0.1.99-cp310-cp310-manylinux_2_17_x86_64.manylinux2014_x86_64.whl (1.3 MB)\n",
            "\u001b[2K     \u001b[90m━━━━━━━━━━━━━━━━━━━━━━━━━━━━━━━━━━━━━━━━\u001b[0m \u001b[32m1.3/1.3 MB\u001b[0m \u001b[31m83.1 MB/s\u001b[0m eta \u001b[36m0:00:00\u001b[0m\n",
            "\u001b[?25hCollecting seqeval (from tf-models-official>=2.5.1->object-detection==0.1)\n",
            "  Downloading seqeval-1.2.2.tar.gz (43 kB)\n",
            "\u001b[2K     \u001b[90m━━━━━━━━━━━━━━━━━━━━━━━━━━━━━━━━━━━━━━━━\u001b[0m \u001b[32m43.6/43.6 kB\u001b[0m \u001b[31m6.5 MB/s\u001b[0m eta \u001b[36m0:00:00\u001b[0m\n",
            "\u001b[?25h  Preparing metadata (setup.py) ... \u001b[?25l\u001b[?25hdone\n",
            "Requirement already satisfied: tensorflow-datasets in /usr/local/lib/python3.10/dist-packages (from tf-models-official>=2.5.1->object-detection==0.1) (4.9.4)\n",
            "Requirement already satisfied: tensorflow-hub>=0.6.0 in /usr/local/lib/python3.10/dist-packages (from tf-models-official>=2.5.1->object-detection==0.1) (0.15.0)\n",
            "Collecting tensorflow-model-optimization>=0.4.1 (from tf-models-official>=2.5.1->object-detection==0.1)\n",
            "  Downloading tensorflow_model_optimization-0.7.5-py2.py3-none-any.whl (241 kB)\n",
            "\u001b[2K     \u001b[90m━━━━━━━━━━━━━━━━━━━━━━━━━━━━━━━━━━━━━━━━\u001b[0m \u001b[32m241.2/241.2 kB\u001b[0m \u001b[31m27.7 MB/s\u001b[0m eta \u001b[36m0:00:00\u001b[0m\n",
            "\u001b[?25hCollecting tensorflow-text~=2.15.0 (from tf-models-official>=2.5.1->object-detection==0.1)\n",
            "  Downloading tensorflow_text-2.15.0-cp310-cp310-manylinux_2_17_x86_64.manylinux2014_x86_64.whl (5.2 MB)\n",
            "\u001b[2K     \u001b[90m━━━━━━━━━━━━━━━━━━━━━━━━━━━━━━━━━━━━━━━━\u001b[0m \u001b[32m5.2/5.2 MB\u001b[0m \u001b[31m93.7 MB/s\u001b[0m eta \u001b[36m0:00:00\u001b[0m\n",
            "\u001b[?25hRequirement already satisfied: tensorflow~=2.15.0 in /usr/local/lib/python3.10/dist-packages (from tf-models-official>=2.5.1->object-detection==0.1) (2.15.0)\n",
            "Requirement already satisfied: python-dateutil>=2.8.1 in /usr/local/lib/python3.10/dist-packages (from pandas->object-detection==0.1) (2.8.2)\n",
            "Requirement already satisfied: pytz>=2020.1 in /usr/local/lib/python3.10/dist-packages (from pandas->object-detection==0.1) (2023.3.post1)\n",
            "Requirement already satisfied: absl-py>=0.2.2 in /usr/local/lib/python3.10/dist-packages (from tf-slim->object-detection==0.1) (1.4.0)\n",
            "Collecting crcmod<2.0,>=1.7 (from apache-beam->object-detection==0.1)\n",
            "  Downloading crcmod-1.7.tar.gz (89 kB)\n",
            "\u001b[2K     \u001b[90m━━━━━━━━━━━━━━━━━━━━━━━━━━━━━━━━━━━━━━━━\u001b[0m \u001b[32m89.7/89.7 kB\u001b[0m \u001b[31m11.6 MB/s\u001b[0m eta \u001b[36m0:00:00\u001b[0m\n",
            "\u001b[?25h  Preparing metadata (setup.py) ... \u001b[?25l\u001b[?25hdone\n",
            "Collecting orjson<4,>=3.9.7 (from apache-beam->object-detection==0.1)\n",
            "  Downloading orjson-3.9.10-cp310-cp310-manylinux_2_17_x86_64.manylinux2014_x86_64.whl (138 kB)\n",
            "\u001b[2K     \u001b[90m━━━━━━━━━━━━━━━━━━━━━━━━━━━━━━━━━━━━━━━━\u001b[0m \u001b[32m138.7/138.7 kB\u001b[0m \u001b[31m18.3 MB/s\u001b[0m eta \u001b[36m0:00:00\u001b[0m\n",
            "\u001b[?25hCollecting dill<0.3.2,>=0.3.1.1 (from apache-beam->object-detection==0.1)\n",
            "  Downloading dill-0.3.1.1.tar.gz (151 kB)\n",
            "\u001b[2K     \u001b[90m━━━━━━━━━━━━━━━━━━━━━━━━━━━━━━━━━━━━━━━━\u001b[0m \u001b[32m152.0/152.0 kB\u001b[0m \u001b[31m19.8 MB/s\u001b[0m eta \u001b[36m0:00:00\u001b[0m\n",
            "\u001b[?25h  Preparing metadata (setup.py) ... \u001b[?25l\u001b[?25hdone\n",
            "Requirement already satisfied: cloudpickle~=2.2.1 in /usr/local/lib/python3.10/dist-packages (from apache-beam->object-detection==0.1) (2.2.1)\n",
            "Collecting fastavro<2,>=0.23.6 (from apache-beam->object-detection==0.1)\n",
            "  Downloading fastavro-1.9.2-cp310-cp310-manylinux_2_17_x86_64.manylinux2014_x86_64.whl (3.1 MB)\n",
            "\u001b[2K     \u001b[90m━━━━━━━━━━━━━━━━━━━━━━━━━━━━━━━━━━━━━━━━\u001b[0m \u001b[32m3.1/3.1 MB\u001b[0m \u001b[31m93.2 MB/s\u001b[0m eta \u001b[36m0:00:00\u001b[0m\n",
            "\u001b[?25hCollecting fasteners<1.0,>=0.3 (from apache-beam->object-detection==0.1)\n",
            "  Downloading fasteners-0.19-py3-none-any.whl (18 kB)\n",
            "Requirement already satisfied: grpcio!=1.48.0,<2,>=1.33.1 in /usr/local/lib/python3.10/dist-packages (from apache-beam->object-detection==0.1) (1.60.0)\n",
            "Collecting hdfs<3.0.0,>=2.1.0 (from apache-beam->object-detection==0.1)\n",
            "  Downloading hdfs-2.7.3.tar.gz (43 kB)\n",
            "\u001b[2K     \u001b[90m━━━━━━━━━━━━━━━━━━━━━━━━━━━━━━━━━━━━━━━━\u001b[0m \u001b[32m43.5/43.5 kB\u001b[0m \u001b[31m6.5 MB/s\u001b[0m eta \u001b[36m0:00:00\u001b[0m\n",
            "\u001b[?25h  Preparing metadata (setup.py) ... \u001b[?25l\u001b[?25hdone\n",
            "Requirement already satisfied: httplib2<0.23.0,>=0.8 in /usr/local/lib/python3.10/dist-packages (from apache-beam->object-detection==0.1) (0.22.0)\n",
            "Collecting js2py<1,>=0.74 (from apache-beam->object-detection==0.1)\n",
            "  Downloading Js2Py-0.74-py3-none-any.whl (1.0 MB)\n",
            "\u001b[2K     \u001b[90m━━━━━━━━━━━━━━━━━━━━━━━━━━━━━━━━━━━━━━━━\u001b[0m \u001b[32m1.0/1.0 MB\u001b[0m \u001b[31m71.5 MB/s\u001b[0m eta \u001b[36m0:00:00\u001b[0m\n",
            "\u001b[?25hRequirement already satisfied: jsonschema<5.0.0,>=4.0.0 in /usr/local/lib/python3.10/dist-packages (from apache-beam->object-detection==0.1) (4.19.2)\n",
            "Collecting objsize<0.7.0,>=0.6.1 (from apache-beam->object-detection==0.1)\n",
            "  Downloading objsize-0.6.1-py3-none-any.whl (9.3 kB)\n",
            "Requirement already satisfied: packaging>=22.0 in /usr/local/lib/python3.10/dist-packages (from apache-beam->object-detection==0.1) (23.2)\n",
            "Collecting pymongo<5.0.0,>=3.8.0 (from apache-beam->object-detection==0.1)\n",
            "  Downloading pymongo-4.6.1-cp310-cp310-manylinux_2_17_x86_64.manylinux2014_x86_64.whl (677 kB)\n",
            "\u001b[2K     \u001b[90m━━━━━━━━━━━━━━━━━━━━━━━━━━━━━━━━━━━━━━━━\u001b[0m \u001b[32m677.1/677.1 kB\u001b[0m \u001b[31m44.6 MB/s\u001b[0m eta \u001b[36m0:00:00\u001b[0m\n",
            "\u001b[?25hRequirement already satisfied: proto-plus<2,>=1.7.1 in /usr/local/lib/python3.10/dist-packages (from apache-beam->object-detection==0.1) (1.23.0)\n",
            "Requirement already satisfied: protobuf!=4.0.*,!=4.21.*,!=4.22.0,!=4.23.*,!=4.24.*,<4.26.0,>=3.20.3 in /usr/local/lib/python3.10/dist-packages (from apache-beam->object-detection==0.1) (3.20.3)\n",
            "Requirement already satisfied: pydot<2,>=1.2.0 in /usr/local/lib/python3.10/dist-packages (from apache-beam->object-detection==0.1) (1.4.2)\n",
            "Requirement already satisfied: requests<3.0.0,>=2.24.0 in /usr/local/lib/python3.10/dist-packages (from apache-beam->object-detection==0.1) (2.31.0)\n",
            "Requirement already satisfied: typing-extensions>=3.7.0 in /usr/local/lib/python3.10/dist-packages (from apache-beam->object-detection==0.1) (4.5.0)\n",
            "Collecting zstandard<1,>=0.18.0 (from apache-beam->object-detection==0.1)\n",
            "  Downloading zstandard-0.22.0-cp310-cp310-manylinux_2_17_x86_64.manylinux2014_x86_64.whl (5.4 MB)\n",
            "\u001b[2K     \u001b[90m━━━━━━━━━━━━━━━━━━━━━━━━━━━━━━━━━━━━━━━━\u001b[0m \u001b[32m5.4/5.4 MB\u001b[0m \u001b[31m59.9 MB/s\u001b[0m eta \u001b[36m0:00:00\u001b[0m\n",
            "\u001b[?25hRequirement already satisfied: pyarrow<12.0.0,>=3.0.0 in /usr/local/lib/python3.10/dist-packages (from apache-beam->object-detection==0.1) (10.0.1)\n",
            "Collecting pyarrow-hotfix<1 (from apache-beam->object-detection==0.1)\n",
            "  Downloading pyarrow_hotfix-0.6-py3-none-any.whl (7.9 kB)\n",
            "Requirement already satisfied: cycler>=0.10.0 in /usr/local/lib/python3.10/dist-packages (from lvis->object-detection==0.1) (0.12.1)\n",
            "Requirement already satisfied: kiwisolver>=1.1.0 in /usr/local/lib/python3.10/dist-packages (from lvis->object-detection==0.1) (1.4.5)\n",
            "Requirement already satisfied: opencv-python>=4.1.0.25 in /usr/local/lib/python3.10/dist-packages (from lvis->object-detection==0.1) (4.8.0.76)\n",
            "Requirement already satisfied: contourpy>=1.0.1 in /usr/local/lib/python3.10/dist-packages (from matplotlib->object-detection==0.1) (1.2.0)\n",
            "Requirement already satisfied: fonttools>=4.22.0 in /usr/local/lib/python3.10/dist-packages (from matplotlib->object-detection==0.1) (4.46.0)\n",
            "Collecting tensorflow-io-gcs-filesystem==0.35.0 (from tensorflow_io->object-detection==0.1)\n",
            "  Downloading tensorflow_io_gcs_filesystem-0.35.0-cp310-cp310-manylinux_2_17_x86_64.manylinux2014_x86_64.whl (3.2 MB)\n",
            "\u001b[2K     \u001b[90m━━━━━━━━━━━━━━━━━━━━━━━━━━━━━━━━━━━━━━━━\u001b[0m \u001b[32m3.2/3.2 MB\u001b[0m \u001b[31m53.5 MB/s\u001b[0m eta \u001b[36m0:00:00\u001b[0m\n",
            "\u001b[?25hRequirement already satisfied: google-auth<3.0.0dev,>=1.19.0 in /usr/local/lib/python3.10/dist-packages (from google-api-python-client>=1.6.7->tf-models-official>=2.5.1->object-detection==0.1) (2.17.3)\n",
            "Requirement already satisfied: google-auth-httplib2>=0.1.0 in /usr/local/lib/python3.10/dist-packages (from google-api-python-client>=1.6.7->tf-models-official>=2.5.1->object-detection==0.1) (0.1.1)\n",
            "Requirement already satisfied: google-api-core!=2.0.*,!=2.1.*,!=2.2.*,!=2.3.0,<3.0.0dev,>=1.31.5 in /usr/local/lib/python3.10/dist-packages (from google-api-python-client>=1.6.7->tf-models-official>=2.5.1->object-detection==0.1) (2.11.1)\n",
            "Requirement already satisfied: uritemplate<5,>=3.0.1 in /usr/local/lib/python3.10/dist-packages (from google-api-python-client>=1.6.7->tf-models-official>=2.5.1->object-detection==0.1) (4.1.1)\n",
            "Collecting docopt (from hdfs<3.0.0,>=2.1.0->apache-beam->object-detection==0.1)\n",
            "  Downloading docopt-0.6.2.tar.gz (25 kB)\n",
            "  Preparing metadata (setup.py) ... \u001b[?25l\u001b[?25hdone\n",
            "Requirement already satisfied: tzlocal>=1.2 in /usr/local/lib/python3.10/dist-packages (from js2py<1,>=0.74->apache-beam->object-detection==0.1) (5.2)\n",
            "Collecting pyjsparser>=2.5.1 (from js2py<1,>=0.74->apache-beam->object-detection==0.1)\n",
            "  Downloading pyjsparser-2.7.1.tar.gz (24 kB)\n",
            "  Preparing metadata (setup.py) ... \u001b[?25l\u001b[?25hdone\n",
            "Requirement already satisfied: attrs>=22.2.0 in /usr/local/lib/python3.10/dist-packages (from jsonschema<5.0.0,>=4.0.0->apache-beam->object-detection==0.1) (23.1.0)\n",
            "Requirement already satisfied: jsonschema-specifications>=2023.03.6 in /usr/local/lib/python3.10/dist-packages (from jsonschema<5.0.0,>=4.0.0->apache-beam->object-detection==0.1) (2023.11.2)\n",
            "Requirement already satisfied: referencing>=0.28.4 in /usr/local/lib/python3.10/dist-packages (from jsonschema<5.0.0,>=4.0.0->apache-beam->object-detection==0.1) (0.32.0)\n",
            "Requirement already satisfied: rpds-py>=0.7.1 in /usr/local/lib/python3.10/dist-packages (from jsonschema<5.0.0,>=4.0.0->apache-beam->object-detection==0.1) (0.15.2)\n",
            "Requirement already satisfied: certifi in /usr/local/lib/python3.10/dist-packages (from kaggle>=1.3.9->tf-models-official>=2.5.1->object-detection==0.1) (2023.11.17)\n",
            "Requirement already satisfied: tqdm in /usr/local/lib/python3.10/dist-packages (from kaggle>=1.3.9->tf-models-official>=2.5.1->object-detection==0.1) (4.66.1)\n",
            "Requirement already satisfied: python-slugify in /usr/local/lib/python3.10/dist-packages (from kaggle>=1.3.9->tf-models-official>=2.5.1->object-detection==0.1) (8.0.1)\n",
            "Requirement already satisfied: urllib3 in /usr/local/lib/python3.10/dist-packages (from kaggle>=1.3.9->tf-models-official>=2.5.1->object-detection==0.1) (2.0.7)\n",
            "Requirement already satisfied: bleach in /usr/local/lib/python3.10/dist-packages (from kaggle>=1.3.9->tf-models-official>=2.5.1->object-detection==0.1) (6.1.0)\n",
            "Collecting dnspython<3.0.0,>=1.16.0 (from pymongo<5.0.0,>=3.8.0->apache-beam->object-detection==0.1)\n",
            "  Downloading dnspython-2.4.2-py3-none-any.whl (300 kB)\n",
            "\u001b[2K     \u001b[90m━━━━━━━━━━━━━━━━━━━━━━━━━━━━━━━━━━━━━━━━\u001b[0m \u001b[32m300.4/300.4 kB\u001b[0m \u001b[31m34.3 MB/s\u001b[0m eta \u001b[36m0:00:00\u001b[0m\n",
            "\u001b[?25hRequirement already satisfied: charset-normalizer<4,>=2 in /usr/local/lib/python3.10/dist-packages (from requests<3.0.0,>=2.24.0->apache-beam->object-detection==0.1) (3.3.2)\n",
            "Requirement already satisfied: idna<4,>=2.5 in /usr/local/lib/python3.10/dist-packages (from requests<3.0.0,>=2.24.0->apache-beam->object-detection==0.1) (3.6)\n",
            "Requirement already satisfied: astunparse>=1.6.0 in /usr/local/lib/python3.10/dist-packages (from tensorflow~=2.15.0->tf-models-official>=2.5.1->object-detection==0.1) (1.6.3)\n",
            "Requirement already satisfied: flatbuffers>=23.5.26 in /usr/local/lib/python3.10/dist-packages (from tensorflow~=2.15.0->tf-models-official>=2.5.1->object-detection==0.1) (23.5.26)\n",
            "Requirement already satisfied: gast!=0.5.0,!=0.5.1,!=0.5.2,>=0.2.1 in /usr/local/lib/python3.10/dist-packages (from tensorflow~=2.15.0->tf-models-official>=2.5.1->object-detection==0.1) (0.5.4)\n",
            "Requirement already satisfied: google-pasta>=0.1.1 in /usr/local/lib/python3.10/dist-packages (from tensorflow~=2.15.0->tf-models-official>=2.5.1->object-detection==0.1) (0.2.0)\n",
            "Requirement already satisfied: h5py>=2.9.0 in /usr/local/lib/python3.10/dist-packages (from tensorflow~=2.15.0->tf-models-official>=2.5.1->object-detection==0.1) (3.9.0)\n",
            "Requirement already satisfied: libclang>=13.0.0 in /usr/local/lib/python3.10/dist-packages (from tensorflow~=2.15.0->tf-models-official>=2.5.1->object-detection==0.1) (16.0.6)\n",
            "Requirement already satisfied: ml-dtypes~=0.2.0 in /usr/local/lib/python3.10/dist-packages (from tensorflow~=2.15.0->tf-models-official>=2.5.1->object-detection==0.1) (0.2.0)\n",
            "Requirement already satisfied: opt-einsum>=2.3.2 in /usr/local/lib/python3.10/dist-packages (from tensorflow~=2.15.0->tf-models-official>=2.5.1->object-detection==0.1) (3.3.0)\n",
            "Requirement already satisfied: setuptools in /usr/local/lib/python3.10/dist-packages (from tensorflow~=2.15.0->tf-models-official>=2.5.1->object-detection==0.1) (67.7.2)\n",
            "Requirement already satisfied: termcolor>=1.1.0 in /usr/local/lib/python3.10/dist-packages (from tensorflow~=2.15.0->tf-models-official>=2.5.1->object-detection==0.1) (2.4.0)\n",
            "Requirement already satisfied: wrapt<1.15,>=1.11.0 in /usr/local/lib/python3.10/dist-packages (from tensorflow~=2.15.0->tf-models-official>=2.5.1->object-detection==0.1) (1.14.1)\n",
            "Requirement already satisfied: tensorboard<2.16,>=2.15 in /usr/local/lib/python3.10/dist-packages (from tensorflow~=2.15.0->tf-models-official>=2.5.1->object-detection==0.1) (2.15.1)\n",
            "Requirement already satisfied: tensorflow-estimator<2.16,>=2.15.0 in /usr/local/lib/python3.10/dist-packages (from tensorflow~=2.15.0->tf-models-official>=2.5.1->object-detection==0.1) (2.15.0)\n",
            "Requirement already satisfied: dm-tree~=0.1.1 in /usr/local/lib/python3.10/dist-packages (from tensorflow-model-optimization>=0.4.1->tf-models-official>=2.5.1->object-detection==0.1) (0.1.8)\n",
            "Requirement already satisfied: pyasn1>=0.1.7 in /usr/local/lib/python3.10/dist-packages (from oauth2client->tf-models-official>=2.5.1->object-detection==0.1) (0.5.1)\n",
            "Requirement already satisfied: pyasn1-modules>=0.0.5 in /usr/local/lib/python3.10/dist-packages (from oauth2client->tf-models-official>=2.5.1->object-detection==0.1) (0.3.0)\n",
            "Requirement already satisfied: rsa>=3.1.4 in /usr/local/lib/python3.10/dist-packages (from oauth2client->tf-models-official>=2.5.1->object-detection==0.1) (4.9)\n",
            "Requirement already satisfied: scikit-learn>=0.21.3 in /usr/local/lib/python3.10/dist-packages (from seqeval->tf-models-official>=2.5.1->object-detection==0.1) (1.2.2)\n",
            "Requirement already satisfied: click in /usr/local/lib/python3.10/dist-packages (from tensorflow-datasets->tf-models-official>=2.5.1->object-detection==0.1) (8.1.7)\n",
            "Requirement already satisfied: etils[enp,epath,etree]>=0.9.0 in /usr/local/lib/python3.10/dist-packages (from tensorflow-datasets->tf-models-official>=2.5.1->object-detection==0.1) (1.6.0)\n",
            "Requirement already satisfied: promise in /usr/local/lib/python3.10/dist-packages (from tensorflow-datasets->tf-models-official>=2.5.1->object-detection==0.1) (2.3)\n",
            "Requirement already satisfied: tensorflow-metadata in /usr/local/lib/python3.10/dist-packages (from tensorflow-datasets->tf-models-official>=2.5.1->object-detection==0.1) (1.14.0)\n",
            "Requirement already satisfied: toml in /usr/local/lib/python3.10/dist-packages (from tensorflow-datasets->tf-models-official>=2.5.1->object-detection==0.1) (0.10.2)\n",
            "Requirement already satisfied: array-record>=0.5.0 in /usr/local/lib/python3.10/dist-packages (from tensorflow-datasets->tf-models-official>=2.5.1->object-detection==0.1) (0.5.0)\n",
            "Requirement already satisfied: wheel<1.0,>=0.23.0 in /usr/local/lib/python3.10/dist-packages (from astunparse>=1.6.0->tensorflow~=2.15.0->tf-models-official>=2.5.1->object-detection==0.1) (0.42.0)\n",
            "Requirement already satisfied: fsspec in /usr/local/lib/python3.10/dist-packages (from etils[enp,epath,etree]>=0.9.0->tensorflow-datasets->tf-models-official>=2.5.1->object-detection==0.1) (2023.6.0)\n",
            "Requirement already satisfied: importlib_resources in /usr/local/lib/python3.10/dist-packages (from etils[enp,epath,etree]>=0.9.0->tensorflow-datasets->tf-models-official>=2.5.1->object-detection==0.1) (6.1.1)\n",
            "Requirement already satisfied: zipp in /usr/local/lib/python3.10/dist-packages (from etils[enp,epath,etree]>=0.9.0->tensorflow-datasets->tf-models-official>=2.5.1->object-detection==0.1) (3.17.0)\n",
            "Requirement already satisfied: googleapis-common-protos<2.0.dev0,>=1.56.2 in /usr/local/lib/python3.10/dist-packages (from google-api-core!=2.0.*,!=2.1.*,!=2.2.*,!=2.3.0,<3.0.0dev,>=1.31.5->google-api-python-client>=1.6.7->tf-models-official>=2.5.1->object-detection==0.1) (1.62.0)\n",
            "Requirement already satisfied: cachetools<6.0,>=2.0.0 in /usr/local/lib/python3.10/dist-packages (from google-auth<3.0.0dev,>=1.19.0->google-api-python-client>=1.6.7->tf-models-official>=2.5.1->object-detection==0.1) (5.3.2)\n",
            "Requirement already satisfied: joblib>=1.1.1 in /usr/local/lib/python3.10/dist-packages (from scikit-learn>=0.21.3->seqeval->tf-models-official>=2.5.1->object-detection==0.1) (1.3.2)\n",
            "Requirement already satisfied: threadpoolctl>=2.0.0 in /usr/local/lib/python3.10/dist-packages (from scikit-learn>=0.21.3->seqeval->tf-models-official>=2.5.1->object-detection==0.1) (3.2.0)\n",
            "Requirement already satisfied: google-auth-oauthlib<2,>=0.5 in /usr/local/lib/python3.10/dist-packages (from tensorboard<2.16,>=2.15->tensorflow~=2.15.0->tf-models-official>=2.5.1->object-detection==0.1) (1.2.0)\n",
            "Requirement already satisfied: markdown>=2.6.8 in /usr/local/lib/python3.10/dist-packages (from tensorboard<2.16,>=2.15->tensorflow~=2.15.0->tf-models-official>=2.5.1->object-detection==0.1) (3.5.1)\n",
            "Requirement already satisfied: tensorboard-data-server<0.8.0,>=0.7.0 in /usr/local/lib/python3.10/dist-packages (from tensorboard<2.16,>=2.15->tensorflow~=2.15.0->tf-models-official>=2.5.1->object-detection==0.1) (0.7.2)\n",
            "Requirement already satisfied: werkzeug>=1.0.1 in /usr/local/lib/python3.10/dist-packages (from tensorboard<2.16,>=2.15->tensorflow~=2.15.0->tf-models-official>=2.5.1->object-detection==0.1) (3.0.1)\n",
            "Requirement already satisfied: webencodings in /usr/local/lib/python3.10/dist-packages (from bleach->kaggle>=1.3.9->tf-models-official>=2.5.1->object-detection==0.1) (0.5.1)\n",
            "Requirement already satisfied: text-unidecode>=1.3 in /usr/local/lib/python3.10/dist-packages (from python-slugify->kaggle>=1.3.9->tf-models-official>=2.5.1->object-detection==0.1) (1.3)\n",
            "Requirement already satisfied: requests-oauthlib>=0.7.0 in /usr/local/lib/python3.10/dist-packages (from google-auth-oauthlib<2,>=0.5->tensorboard<2.16,>=2.15->tensorflow~=2.15.0->tf-models-official>=2.5.1->object-detection==0.1) (1.3.1)\n",
            "Requirement already satisfied: MarkupSafe>=2.1.1 in /usr/local/lib/python3.10/dist-packages (from werkzeug>=1.0.1->tensorboard<2.16,>=2.15->tensorflow~=2.15.0->tf-models-official>=2.5.1->object-detection==0.1) (2.1.3)\n",
            "Requirement already satisfied: oauthlib>=3.0.0 in /usr/local/lib/python3.10/dist-packages (from requests-oauthlib>=0.7.0->google-auth-oauthlib<2,>=0.5->tensorboard<2.16,>=2.15->tensorflow~=2.15.0->tf-models-official>=2.5.1->object-detection==0.1) (3.2.2)\n",
            "Building wheels for collected packages: object-detection, avro-python3, crcmod, dill, hdfs, seqeval, pyjsparser, docopt\n",
            "  Building wheel for object-detection (setup.py) ... \u001b[?25l\u001b[?25hdone\n",
            "  Created wheel for object-detection: filename=object_detection-0.1-py3-none-any.whl size=1697356 sha256=d8bd7a294b6135bcf18596763c5aa6add1c84c06c21be2f238de0d1001b1e4e8\n",
            "  Stored in directory: /tmp/pip-ephem-wheel-cache-ky0_n6c3/wheels/fb/c9/43/709f88e66b36649c7a29812ca4f6236f31caed949aabc3e335\n",
            "  Building wheel for avro-python3 (setup.py) ... \u001b[?25l\u001b[?25hdone\n",
            "  Created wheel for avro-python3: filename=avro_python3-1.10.2-py3-none-any.whl size=43992 sha256=6f01ed315a6b61ea28af354c9eab18878c2d397e68d8c3158adaaa7da9cca029\n",
            "  Stored in directory: /root/.cache/pip/wheels/bc/85/62/6cdd81c56f923946b401cecff38055b94c9b766927f7d8ca82\n",
            "  Building wheel for crcmod (setup.py) ... \u001b[?25l\u001b[?25hdone\n",
            "  Created wheel for crcmod: filename=crcmod-1.7-cp310-cp310-linux_x86_64.whl size=31407 sha256=0308bdc2081ae397f943b2964d0000442defce322c2f71b9d117a895a93187e9\n",
            "  Stored in directory: /root/.cache/pip/wheels/85/4c/07/72215c529bd59d67e3dac29711d7aba1b692f543c808ba9e86\n",
            "  Building wheel for dill (setup.py) ... \u001b[?25l\u001b[?25hdone\n",
            "  Created wheel for dill: filename=dill-0.3.1.1-py3-none-any.whl size=78540 sha256=f0c998bdb2008cc8f805a1b97ecd803aacb3a79db83b750126689175384cb45a\n",
            "  Stored in directory: /root/.cache/pip/wheels/ea/e2/86/64980d90e297e7bf2ce588c2b96e818f5399c515c4bb8a7e4f\n",
            "  Building wheel for hdfs (setup.py) ... \u001b[?25l\u001b[?25hdone\n",
            "  Created wheel for hdfs: filename=hdfs-2.7.3-py3-none-any.whl size=34325 sha256=da08721fa3551549f74feb4b907d6625361cf2b51e2e0f9cd481e1c98b724e17\n",
            "  Stored in directory: /root/.cache/pip/wheels/e5/8d/b6/99c1c0a3ac5788c866b0ecd3f48b0134a5910e6ed26011800b\n",
            "  Building wheel for seqeval (setup.py) ... \u001b[?25l\u001b[?25hdone\n",
            "  Created wheel for seqeval: filename=seqeval-1.2.2-py3-none-any.whl size=16162 sha256=c294a6da9ea596387a393230d2b9edd8ddc109e7ebdfdc8c6326937924e021c6\n",
            "  Stored in directory: /root/.cache/pip/wheels/1a/67/4a/ad4082dd7dfc30f2abfe4d80a2ed5926a506eb8a972b4767fa\n",
            "  Building wheel for pyjsparser (setup.py) ... \u001b[?25l\u001b[?25hdone\n",
            "  Created wheel for pyjsparser: filename=pyjsparser-2.7.1-py3-none-any.whl size=25984 sha256=da7451fe7b2ee909025ab0b99af3f6b0fdb3ac1821ac5ff574a129756f3b0d20\n",
            "  Stored in directory: /root/.cache/pip/wheels/5e/81/26/5956478df303e2bf5a85a5df595bb307bd25948a4bab69f7c7\n",
            "  Building wheel for docopt (setup.py) ... \u001b[?25l\u001b[?25hdone\n",
            "  Created wheel for docopt: filename=docopt-0.6.2-py2.py3-none-any.whl size=13706 sha256=de2de2e9762ddd07259bb70254a0563b4a76e71c9bda020250e85a1475ca5d05\n",
            "  Stored in directory: /root/.cache/pip/wheels/fc/ab/d4/5da2067ac95b36618c629a5f93f809425700506f72c9732fac\n",
            "Successfully built object-detection avro-python3 crcmod dill hdfs seqeval pyjsparser docopt\n",
            "Installing collected packages: sentencepiece, pyjsparser, docopt, crcmod, zstandard, tensorflow-model-optimization, tensorflow-io-gcs-filesystem, pyparsing, pyarrow-hotfix, portalocker, orjson, objsize, js2py, immutabledict, fasteners, fastavro, dnspython, dill, colorama, avro-python3, tensorflow_io, sacrebleu, pymongo, hdfs, seqeval, lvis, apache-beam, tensorflow-text, tf-models-official, object-detection\n",
            "  Attempting uninstall: tensorflow-io-gcs-filesystem\n",
            "    Found existing installation: tensorflow-io-gcs-filesystem 0.34.0\n",
            "    Uninstalling tensorflow-io-gcs-filesystem-0.34.0:\n",
            "      Successfully uninstalled tensorflow-io-gcs-filesystem-0.34.0\n",
            "  Attempting uninstall: pyparsing\n",
            "    Found existing installation: pyparsing 3.1.1\n",
            "    Uninstalling pyparsing-3.1.1:\n",
            "      Successfully uninstalled pyparsing-3.1.1\n",
            "Successfully installed apache-beam-2.52.0 avro-python3-1.10.2 colorama-0.4.6 crcmod-1.7 dill-0.3.1.1 dnspython-2.4.2 docopt-0.6.2 fastavro-1.9.2 fasteners-0.19 hdfs-2.7.3 immutabledict-4.1.0 js2py-0.74 lvis-0.5.3 object-detection-0.1 objsize-0.6.1 orjson-3.9.10 portalocker-2.8.2 pyarrow-hotfix-0.6 pyjsparser-2.7.1 pymongo-4.6.1 pyparsing-2.4.7 sacrebleu-2.2.0 sentencepiece-0.1.99 seqeval-1.2.2 tensorflow-io-gcs-filesystem-0.35.0 tensorflow-model-optimization-0.7.5 tensorflow-text-2.15.0 tensorflow_io-0.35.0 tf-models-official-2.15.0 zstandard-0.22.0\n"
          ]
        }
      ],
      "source": [
        "# Install Tensorflow Object Detection\n",
        "if os.name=='posix':\n",
        "    !apt-get install protobuf-compiler\n",
        "    !cd Tensorflow/models/research && protoc object_detection/protos/*.proto --python_out=. && cp object_detection/packages/tf2/setup.py . && python -m pip install .\n",
        "\n",
        "if os.name=='nt':\n",
        "    url=\"https://github.com/protocolbuffers/protobuf/releases/download/v3.15.6/protoc-3.15.6-win64.zip\"\n",
        "    wget.download(url)\n",
        "    !move protoc-3.15.6-win64.zip {paths['PROTOC_PATH']}\n",
        "    !cd {paths['PROTOC_PATH']} && tar -xf protoc-3.15.6-win64.zip\n",
        "    os.environ['PATH'] += os.pathsep + os.path.abspath(os.path.join(paths['PROTOC_PATH'], 'bin'))\n",
        "    !cd Tensorflow/models/research && protoc object_detection/protos/*.proto --python_out=. && copy object_detection\\\\packages\\\\tf2\\\\setup.py setup.py && python setup.py build && python setup.py install\n",
        "    !cd Tensorflow/models/research/slim && pip install -e ."
      ]
    },
    {
      "cell_type": "code",
      "execution_count": null,
      "metadata": {
        "scrolled": true,
        "id": "n0azOlITtr26"
      },
      "outputs": [],
      "source": [
        "!pip list"
      ]
    },
    {
      "cell_type": "code",
      "execution_count": 12,
      "metadata": {
        "scrolled": true,
        "id": "gYEYynSDtr26",
        "colab": {
          "base_uri": "https://localhost:8080/"
        },
        "outputId": "57dfd732-ea0e-418c-a25a-b9c450656c3f"
      },
      "outputs": [
        {
          "output_type": "stream",
          "name": "stdout",
          "text": [
            "2023-12-25 01:37:37.569343: W tensorflow/compiler/tf2tensorrt/utils/py_utils.cc:38] TF-TRT Warning: Could not find TensorRT\n",
            "2023-12-25 01:37:41.092389: W tensorflow/core/common_runtime/gpu/gpu_device.cc:1960] Cannot dlopen some GPU libraries. Please make sure the missing libraries mentioned above are installed properly if you would like to use GPU. Follow the guide at https://www.tensorflow.org/install/gpu for how to download and setup the required libraries for your platform.\n",
            "Skipping registering GPU devices...\n",
            "Running tests under Python 3.10.12: /usr/bin/python3\n",
            "[ RUN      ] ModelBuilderTF2Test.test_create_center_net_deepmac\n",
            "WARNING:tensorflow:`tf.keras.layers.experimental.SyncBatchNormalization` endpoint is deprecated and will be removed in a future release. Please use `tf.keras.layers.BatchNormalization` with parameter `synchronized` set to True.\n",
            "W1225 01:37:41.162722 133752475549696 batch_normalization.py:1531] `tf.keras.layers.experimental.SyncBatchNormalization` endpoint is deprecated and will be removed in a future release. Please use `tf.keras.layers.BatchNormalization` with parameter `synchronized` set to True.\n",
            "W1225 01:37:41.779696 133752475549696 model_builder.py:1112] Building experimental DeepMAC meta-arch. Some features may be omitted.\n",
            "INFO:tensorflow:time(__main__.ModelBuilderTF2Test.test_create_center_net_deepmac): 1.17s\n",
            "I1225 01:37:42.268548 133752475549696 test_util.py:2462] time(__main__.ModelBuilderTF2Test.test_create_center_net_deepmac): 1.17s\n",
            "[       OK ] ModelBuilderTF2Test.test_create_center_net_deepmac\n",
            "[ RUN      ] ModelBuilderTF2Test.test_create_center_net_model0 (customize_head_params=True)\n",
            "INFO:tensorflow:time(__main__.ModelBuilderTF2Test.test_create_center_net_model0 (customize_head_params=True)): 0.95s\n",
            "I1225 01:37:43.215506 133752475549696 test_util.py:2462] time(__main__.ModelBuilderTF2Test.test_create_center_net_model0 (customize_head_params=True)): 0.95s\n",
            "[       OK ] ModelBuilderTF2Test.test_create_center_net_model0 (customize_head_params=True)\n",
            "[ RUN      ] ModelBuilderTF2Test.test_create_center_net_model1 (customize_head_params=False)\n",
            "INFO:tensorflow:time(__main__.ModelBuilderTF2Test.test_create_center_net_model1 (customize_head_params=False)): 0.48s\n",
            "I1225 01:37:43.700711 133752475549696 test_util.py:2462] time(__main__.ModelBuilderTF2Test.test_create_center_net_model1 (customize_head_params=False)): 0.48s\n",
            "[       OK ] ModelBuilderTF2Test.test_create_center_net_model1 (customize_head_params=False)\n",
            "[ RUN      ] ModelBuilderTF2Test.test_create_center_net_model_from_keypoints\n",
            "INFO:tensorflow:time(__main__.ModelBuilderTF2Test.test_create_center_net_model_from_keypoints): 0.54s\n",
            "I1225 01:37:44.242707 133752475549696 test_util.py:2462] time(__main__.ModelBuilderTF2Test.test_create_center_net_model_from_keypoints): 0.54s\n",
            "[       OK ] ModelBuilderTF2Test.test_create_center_net_model_from_keypoints\n",
            "[ RUN      ] ModelBuilderTF2Test.test_create_center_net_model_mobilenet\n",
            "INFO:tensorflow:time(__main__.ModelBuilderTF2Test.test_create_center_net_model_mobilenet): 2.83s\n",
            "I1225 01:37:47.072215 133752475549696 test_util.py:2462] time(__main__.ModelBuilderTF2Test.test_create_center_net_model_mobilenet): 2.83s\n",
            "[       OK ] ModelBuilderTF2Test.test_create_center_net_model_mobilenet\n",
            "[ RUN      ] ModelBuilderTF2Test.test_create_experimental_model\n",
            "INFO:tensorflow:time(__main__.ModelBuilderTF2Test.test_create_experimental_model): 0.0s\n",
            "I1225 01:37:47.077579 133752475549696 test_util.py:2462] time(__main__.ModelBuilderTF2Test.test_create_experimental_model): 0.0s\n",
            "[       OK ] ModelBuilderTF2Test.test_create_experimental_model\n",
            "[ RUN      ] ModelBuilderTF2Test.test_create_faster_rcnn_from_config_with_crop_feature0 (True)\n",
            "INFO:tensorflow:time(__main__.ModelBuilderTF2Test.test_create_faster_rcnn_from_config_with_crop_feature0 (True)): 0.03s\n",
            "I1225 01:37:47.104737 133752475549696 test_util.py:2462] time(__main__.ModelBuilderTF2Test.test_create_faster_rcnn_from_config_with_crop_feature0 (True)): 0.03s\n",
            "[       OK ] ModelBuilderTF2Test.test_create_faster_rcnn_from_config_with_crop_feature0 (True)\n",
            "[ RUN      ] ModelBuilderTF2Test.test_create_faster_rcnn_from_config_with_crop_feature1 (False)\n",
            "INFO:tensorflow:time(__main__.ModelBuilderTF2Test.test_create_faster_rcnn_from_config_with_crop_feature1 (False)): 0.02s\n",
            "I1225 01:37:47.123368 133752475549696 test_util.py:2462] time(__main__.ModelBuilderTF2Test.test_create_faster_rcnn_from_config_with_crop_feature1 (False)): 0.02s\n",
            "[       OK ] ModelBuilderTF2Test.test_create_faster_rcnn_from_config_with_crop_feature1 (False)\n",
            "[ RUN      ] ModelBuilderTF2Test.test_create_faster_rcnn_model_from_config_with_example_miner\n",
            "INFO:tensorflow:time(__main__.ModelBuilderTF2Test.test_create_faster_rcnn_model_from_config_with_example_miner): 0.02s\n",
            "I1225 01:37:47.144263 133752475549696 test_util.py:2462] time(__main__.ModelBuilderTF2Test.test_create_faster_rcnn_model_from_config_with_example_miner): 0.02s\n",
            "[       OK ] ModelBuilderTF2Test.test_create_faster_rcnn_model_from_config_with_example_miner\n",
            "[ RUN      ] ModelBuilderTF2Test.test_create_faster_rcnn_models_from_config_faster_rcnn_with_matmul\n",
            "INFO:tensorflow:time(__main__.ModelBuilderTF2Test.test_create_faster_rcnn_models_from_config_faster_rcnn_with_matmul): 0.11s\n",
            "I1225 01:37:47.259215 133752475549696 test_util.py:2462] time(__main__.ModelBuilderTF2Test.test_create_faster_rcnn_models_from_config_faster_rcnn_with_matmul): 0.11s\n",
            "[       OK ] ModelBuilderTF2Test.test_create_faster_rcnn_models_from_config_faster_rcnn_with_matmul\n",
            "[ RUN      ] ModelBuilderTF2Test.test_create_faster_rcnn_models_from_config_faster_rcnn_without_matmul\n",
            "INFO:tensorflow:time(__main__.ModelBuilderTF2Test.test_create_faster_rcnn_models_from_config_faster_rcnn_without_matmul): 0.11s\n",
            "I1225 01:37:47.369793 133752475549696 test_util.py:2462] time(__main__.ModelBuilderTF2Test.test_create_faster_rcnn_models_from_config_faster_rcnn_without_matmul): 0.11s\n",
            "[       OK ] ModelBuilderTF2Test.test_create_faster_rcnn_models_from_config_faster_rcnn_without_matmul\n",
            "[ RUN      ] ModelBuilderTF2Test.test_create_faster_rcnn_models_from_config_mask_rcnn_with_matmul\n",
            "INFO:tensorflow:time(__main__.ModelBuilderTF2Test.test_create_faster_rcnn_models_from_config_mask_rcnn_with_matmul): 0.11s\n",
            "I1225 01:37:47.483472 133752475549696 test_util.py:2462] time(__main__.ModelBuilderTF2Test.test_create_faster_rcnn_models_from_config_mask_rcnn_with_matmul): 0.11s\n",
            "[       OK ] ModelBuilderTF2Test.test_create_faster_rcnn_models_from_config_mask_rcnn_with_matmul\n",
            "[ RUN      ] ModelBuilderTF2Test.test_create_faster_rcnn_models_from_config_mask_rcnn_without_matmul\n",
            "INFO:tensorflow:time(__main__.ModelBuilderTF2Test.test_create_faster_rcnn_models_from_config_mask_rcnn_without_matmul): 0.1s\n",
            "I1225 01:37:47.588851 133752475549696 test_util.py:2462] time(__main__.ModelBuilderTF2Test.test_create_faster_rcnn_models_from_config_mask_rcnn_without_matmul): 0.1s\n",
            "[       OK ] ModelBuilderTF2Test.test_create_faster_rcnn_models_from_config_mask_rcnn_without_matmul\n",
            "[ RUN      ] ModelBuilderTF2Test.test_create_rfcn_model_from_config\n",
            "INFO:tensorflow:time(__main__.ModelBuilderTF2Test.test_create_rfcn_model_from_config): 0.11s\n",
            "I1225 01:37:47.695014 133752475549696 test_util.py:2462] time(__main__.ModelBuilderTF2Test.test_create_rfcn_model_from_config): 0.11s\n",
            "[       OK ] ModelBuilderTF2Test.test_create_rfcn_model_from_config\n",
            "[ RUN      ] ModelBuilderTF2Test.test_create_ssd_fpn_model_from_config\n",
            "INFO:tensorflow:time(__main__.ModelBuilderTF2Test.test_create_ssd_fpn_model_from_config): 0.03s\n",
            "I1225 01:37:47.726765 133752475549696 test_util.py:2462] time(__main__.ModelBuilderTF2Test.test_create_ssd_fpn_model_from_config): 0.03s\n",
            "[       OK ] ModelBuilderTF2Test.test_create_ssd_fpn_model_from_config\n",
            "[ RUN      ] ModelBuilderTF2Test.test_create_ssd_models_from_config\n",
            "I1225 01:37:47.920796 133752475549696 ssd_efficientnet_bifpn_feature_extractor.py:161] EfficientDet EfficientNet backbone version: efficientnet-b0\n",
            "I1225 01:37:47.920956 133752475549696 ssd_efficientnet_bifpn_feature_extractor.py:163] EfficientDet BiFPN num filters: 64\n",
            "I1225 01:37:47.921030 133752475549696 ssd_efficientnet_bifpn_feature_extractor.py:164] EfficientDet BiFPN num iterations: 3\n",
            "I1225 01:37:47.923592 133752475549696 efficientnet_model.py:143] round_filter input=32 output=32\n",
            "I1225 01:37:47.951869 133752475549696 efficientnet_model.py:143] round_filter input=32 output=32\n",
            "I1225 01:37:47.952033 133752475549696 efficientnet_model.py:143] round_filter input=16 output=16\n",
            "I1225 01:37:48.042807 133752475549696 efficientnet_model.py:143] round_filter input=16 output=16\n",
            "I1225 01:37:48.042961 133752475549696 efficientnet_model.py:143] round_filter input=24 output=24\n",
            "I1225 01:37:48.241997 133752475549696 efficientnet_model.py:143] round_filter input=24 output=24\n",
            "I1225 01:37:48.242153 133752475549696 efficientnet_model.py:143] round_filter input=40 output=40\n",
            "I1225 01:37:48.436424 133752475549696 efficientnet_model.py:143] round_filter input=40 output=40\n",
            "I1225 01:37:48.436630 133752475549696 efficientnet_model.py:143] round_filter input=80 output=80\n",
            "I1225 01:37:48.721407 133752475549696 efficientnet_model.py:143] round_filter input=80 output=80\n",
            "I1225 01:37:48.721597 133752475549696 efficientnet_model.py:143] round_filter input=112 output=112\n",
            "I1225 01:37:49.030718 133752475549696 efficientnet_model.py:143] round_filter input=112 output=112\n",
            "I1225 01:37:49.030875 133752475549696 efficientnet_model.py:143] round_filter input=192 output=192\n",
            "I1225 01:37:49.451638 133752475549696 efficientnet_model.py:143] round_filter input=192 output=192\n",
            "I1225 01:37:49.451802 133752475549696 efficientnet_model.py:143] round_filter input=320 output=320\n",
            "I1225 01:37:49.558027 133752475549696 efficientnet_model.py:143] round_filter input=1280 output=1280\n",
            "I1225 01:37:49.623787 133752475549696 efficientnet_model.py:453] Building model efficientnet with params ModelConfig(width_coefficient=1.0, depth_coefficient=1.0, resolution=224, dropout_rate=0.2, blocks=(BlockConfig(input_filters=32, output_filters=16, kernel_size=3, num_repeat=1, expand_ratio=1, strides=(1, 1), se_ratio=0.25, id_skip=True, fused_conv=False, conv_type='depthwise'), BlockConfig(input_filters=16, output_filters=24, kernel_size=3, num_repeat=2, expand_ratio=6, strides=(2, 2), se_ratio=0.25, id_skip=True, fused_conv=False, conv_type='depthwise'), BlockConfig(input_filters=24, output_filters=40, kernel_size=5, num_repeat=2, expand_ratio=6, strides=(2, 2), se_ratio=0.25, id_skip=True, fused_conv=False, conv_type='depthwise'), BlockConfig(input_filters=40, output_filters=80, kernel_size=3, num_repeat=3, expand_ratio=6, strides=(2, 2), se_ratio=0.25, id_skip=True, fused_conv=False, conv_type='depthwise'), BlockConfig(input_filters=80, output_filters=112, kernel_size=5, num_repeat=3, expand_ratio=6, strides=(1, 1), se_ratio=0.25, id_skip=True, fused_conv=False, conv_type='depthwise'), BlockConfig(input_filters=112, output_filters=192, kernel_size=5, num_repeat=4, expand_ratio=6, strides=(2, 2), se_ratio=0.25, id_skip=True, fused_conv=False, conv_type='depthwise'), BlockConfig(input_filters=192, output_filters=320, kernel_size=3, num_repeat=1, expand_ratio=6, strides=(1, 1), se_ratio=0.25, id_skip=True, fused_conv=False, conv_type='depthwise')), stem_base_filters=32, top_base_filters=1280, activation='simple_swish', batch_norm='default', bn_momentum=0.99, bn_epsilon=0.001, weight_decay=5e-06, drop_connect_rate=0.2, depth_divisor=8, min_depth=None, use_se=True, input_channels=3, num_classes=1000, model_name='efficientnet', rescale_input=False, data_format='channels_last', dtype='float32')\n",
            "I1225 01:37:49.681469 133752475549696 ssd_efficientnet_bifpn_feature_extractor.py:161] EfficientDet EfficientNet backbone version: efficientnet-b1\n",
            "I1225 01:37:49.681637 133752475549696 ssd_efficientnet_bifpn_feature_extractor.py:163] EfficientDet BiFPN num filters: 88\n",
            "I1225 01:37:49.681714 133752475549696 ssd_efficientnet_bifpn_feature_extractor.py:164] EfficientDet BiFPN num iterations: 4\n",
            "I1225 01:37:49.683620 133752475549696 efficientnet_model.py:143] round_filter input=32 output=32\n",
            "I1225 01:37:49.702912 133752475549696 efficientnet_model.py:143] round_filter input=32 output=32\n",
            "I1225 01:37:49.703044 133752475549696 efficientnet_model.py:143] round_filter input=16 output=16\n",
            "I1225 01:37:49.853607 133752475549696 efficientnet_model.py:143] round_filter input=16 output=16\n",
            "I1225 01:37:49.853770 133752475549696 efficientnet_model.py:143] round_filter input=24 output=24\n",
            "I1225 01:37:50.146061 133752475549696 efficientnet_model.py:143] round_filter input=24 output=24\n",
            "I1225 01:37:50.146254 133752475549696 efficientnet_model.py:143] round_filter input=40 output=40\n",
            "I1225 01:37:50.424780 133752475549696 efficientnet_model.py:143] round_filter input=40 output=40\n",
            "I1225 01:37:50.424948 133752475549696 efficientnet_model.py:143] round_filter input=80 output=80\n",
            "I1225 01:37:51.005700 133752475549696 efficientnet_model.py:143] round_filter input=80 output=80\n",
            "I1225 01:37:51.005864 133752475549696 efficientnet_model.py:143] round_filter input=112 output=112\n",
            "I1225 01:37:51.406166 133752475549696 efficientnet_model.py:143] round_filter input=112 output=112\n",
            "I1225 01:37:51.406325 133752475549696 efficientnet_model.py:143] round_filter input=192 output=192\n",
            "I1225 01:37:51.915114 133752475549696 efficientnet_model.py:143] round_filter input=192 output=192\n",
            "I1225 01:37:51.915276 133752475549696 efficientnet_model.py:143] round_filter input=320 output=320\n",
            "I1225 01:37:52.164868 133752475549696 efficientnet_model.py:143] round_filter input=1280 output=1280\n",
            "I1225 01:37:52.221712 133752475549696 efficientnet_model.py:453] Building model efficientnet with params ModelConfig(width_coefficient=1.0, depth_coefficient=1.1, resolution=240, dropout_rate=0.2, blocks=(BlockConfig(input_filters=32, output_filters=16, kernel_size=3, num_repeat=1, expand_ratio=1, strides=(1, 1), se_ratio=0.25, id_skip=True, fused_conv=False, conv_type='depthwise'), BlockConfig(input_filters=16, output_filters=24, kernel_size=3, num_repeat=2, expand_ratio=6, strides=(2, 2), se_ratio=0.25, id_skip=True, fused_conv=False, conv_type='depthwise'), BlockConfig(input_filters=24, output_filters=40, kernel_size=5, num_repeat=2, expand_ratio=6, strides=(2, 2), se_ratio=0.25, id_skip=True, fused_conv=False, conv_type='depthwise'), BlockConfig(input_filters=40, output_filters=80, kernel_size=3, num_repeat=3, expand_ratio=6, strides=(2, 2), se_ratio=0.25, id_skip=True, fused_conv=False, conv_type='depthwise'), BlockConfig(input_filters=80, output_filters=112, kernel_size=5, num_repeat=3, expand_ratio=6, strides=(1, 1), se_ratio=0.25, id_skip=True, fused_conv=False, conv_type='depthwise'), BlockConfig(input_filters=112, output_filters=192, kernel_size=5, num_repeat=4, expand_ratio=6, strides=(2, 2), se_ratio=0.25, id_skip=True, fused_conv=False, conv_type='depthwise'), BlockConfig(input_filters=192, output_filters=320, kernel_size=3, num_repeat=1, expand_ratio=6, strides=(1, 1), se_ratio=0.25, id_skip=True, fused_conv=False, conv_type='depthwise')), stem_base_filters=32, top_base_filters=1280, activation='simple_swish', batch_norm='default', bn_momentum=0.99, bn_epsilon=0.001, weight_decay=5e-06, drop_connect_rate=0.2, depth_divisor=8, min_depth=None, use_se=True, input_channels=3, num_classes=1000, model_name='efficientnet', rescale_input=False, data_format='channels_last', dtype='float32')\n",
            "I1225 01:37:52.287740 133752475549696 ssd_efficientnet_bifpn_feature_extractor.py:161] EfficientDet EfficientNet backbone version: efficientnet-b2\n",
            "I1225 01:37:52.287902 133752475549696 ssd_efficientnet_bifpn_feature_extractor.py:163] EfficientDet BiFPN num filters: 112\n",
            "I1225 01:37:52.287971 133752475549696 ssd_efficientnet_bifpn_feature_extractor.py:164] EfficientDet BiFPN num iterations: 5\n",
            "I1225 01:37:52.289908 133752475549696 efficientnet_model.py:143] round_filter input=32 output=32\n",
            "I1225 01:37:52.307622 133752475549696 efficientnet_model.py:143] round_filter input=32 output=32\n",
            "I1225 01:37:52.307741 133752475549696 efficientnet_model.py:143] round_filter input=16 output=16\n",
            "I1225 01:37:52.444121 133752475549696 efficientnet_model.py:143] round_filter input=16 output=16\n",
            "I1225 01:37:52.444272 133752475549696 efficientnet_model.py:143] round_filter input=24 output=24\n",
            "I1225 01:37:52.722103 133752475549696 efficientnet_model.py:143] round_filter input=24 output=24\n",
            "I1225 01:37:52.722332 133752475549696 efficientnet_model.py:143] round_filter input=40 output=48\n",
            "I1225 01:37:52.996075 133752475549696 efficientnet_model.py:143] round_filter input=40 output=48\n",
            "I1225 01:37:52.996238 133752475549696 efficientnet_model.py:143] round_filter input=80 output=88\n",
            "I1225 01:37:53.416637 133752475549696 efficientnet_model.py:143] round_filter input=80 output=88\n",
            "I1225 01:37:53.416794 133752475549696 efficientnet_model.py:143] round_filter input=112 output=120\n",
            "I1225 01:37:53.808163 133752475549696 efficientnet_model.py:143] round_filter input=112 output=120\n",
            "I1225 01:37:53.808382 133752475549696 efficientnet_model.py:143] round_filter input=192 output=208\n",
            "I1225 01:37:54.357282 133752475549696 efficientnet_model.py:143] round_filter input=192 output=208\n",
            "I1225 01:37:54.357451 133752475549696 efficientnet_model.py:143] round_filter input=320 output=352\n",
            "I1225 01:37:54.605546 133752475549696 efficientnet_model.py:143] round_filter input=1280 output=1408\n",
            "I1225 01:37:54.675405 133752475549696 efficientnet_model.py:453] Building model efficientnet with params ModelConfig(width_coefficient=1.1, depth_coefficient=1.2, resolution=260, dropout_rate=0.3, blocks=(BlockConfig(input_filters=32, output_filters=16, kernel_size=3, num_repeat=1, expand_ratio=1, strides=(1, 1), se_ratio=0.25, id_skip=True, fused_conv=False, conv_type='depthwise'), BlockConfig(input_filters=16, output_filters=24, kernel_size=3, num_repeat=2, expand_ratio=6, strides=(2, 2), se_ratio=0.25, id_skip=True, fused_conv=False, conv_type='depthwise'), BlockConfig(input_filters=24, output_filters=40, kernel_size=5, num_repeat=2, expand_ratio=6, strides=(2, 2), se_ratio=0.25, id_skip=True, fused_conv=False, conv_type='depthwise'), BlockConfig(input_filters=40, output_filters=80, kernel_size=3, num_repeat=3, expand_ratio=6, strides=(2, 2), se_ratio=0.25, id_skip=True, fused_conv=False, conv_type='depthwise'), BlockConfig(input_filters=80, output_filters=112, kernel_size=5, num_repeat=3, expand_ratio=6, strides=(1, 1), se_ratio=0.25, id_skip=True, fused_conv=False, conv_type='depthwise'), BlockConfig(input_filters=112, output_filters=192, kernel_size=5, num_repeat=4, expand_ratio=6, strides=(2, 2), se_ratio=0.25, id_skip=True, fused_conv=False, conv_type='depthwise'), BlockConfig(input_filters=192, output_filters=320, kernel_size=3, num_repeat=1, expand_ratio=6, strides=(1, 1), se_ratio=0.25, id_skip=True, fused_conv=False, conv_type='depthwise')), stem_base_filters=32, top_base_filters=1280, activation='simple_swish', batch_norm='default', bn_momentum=0.99, bn_epsilon=0.001, weight_decay=5e-06, drop_connect_rate=0.2, depth_divisor=8, min_depth=None, use_se=True, input_channels=3, num_classes=1000, model_name='efficientnet', rescale_input=False, data_format='channels_last', dtype='float32')\n",
            "I1225 01:37:54.740803 133752475549696 ssd_efficientnet_bifpn_feature_extractor.py:161] EfficientDet EfficientNet backbone version: efficientnet-b3\n",
            "I1225 01:37:54.740958 133752475549696 ssd_efficientnet_bifpn_feature_extractor.py:163] EfficientDet BiFPN num filters: 160\n",
            "I1225 01:37:54.741030 133752475549696 ssd_efficientnet_bifpn_feature_extractor.py:164] EfficientDet BiFPN num iterations: 6\n",
            "I1225 01:37:54.742873 133752475549696 efficientnet_model.py:143] round_filter input=32 output=40\n",
            "I1225 01:37:54.761836 133752475549696 efficientnet_model.py:143] round_filter input=32 output=40\n",
            "I1225 01:37:54.761966 133752475549696 efficientnet_model.py:143] round_filter input=16 output=24\n",
            "I1225 01:37:54.975862 133752475549696 efficientnet_model.py:143] round_filter input=16 output=24\n",
            "I1225 01:37:54.976061 133752475549696 efficientnet_model.py:143] round_filter input=24 output=32\n",
            "I1225 01:37:55.283226 133752475549696 efficientnet_model.py:143] round_filter input=24 output=32\n",
            "I1225 01:37:55.283384 133752475549696 efficientnet_model.py:143] round_filter input=40 output=48\n",
            "I1225 01:37:55.555350 133752475549696 efficientnet_model.py:143] round_filter input=40 output=48\n",
            "I1225 01:37:55.555536 133752475549696 efficientnet_model.py:143] round_filter input=80 output=96\n",
            "I1225 01:37:56.151009 133752475549696 efficientnet_model.py:143] round_filter input=80 output=96\n",
            "I1225 01:37:56.151198 133752475549696 efficientnet_model.py:143] round_filter input=112 output=136\n",
            "I1225 01:37:56.829033 133752475549696 efficientnet_model.py:143] round_filter input=112 output=136\n",
            "I1225 01:37:56.829234 133752475549696 efficientnet_model.py:143] round_filter input=192 output=232\n",
            "I1225 01:37:57.770978 133752475549696 efficientnet_model.py:143] round_filter input=192 output=232\n",
            "I1225 01:37:57.771205 133752475549696 efficientnet_model.py:143] round_filter input=320 output=384\n",
            "I1225 01:37:58.161227 133752475549696 efficientnet_model.py:143] round_filter input=1280 output=1536\n",
            "I1225 01:37:58.260563 133752475549696 efficientnet_model.py:453] Building model efficientnet with params ModelConfig(width_coefficient=1.2, depth_coefficient=1.4, resolution=300, dropout_rate=0.3, blocks=(BlockConfig(input_filters=32, output_filters=16, kernel_size=3, num_repeat=1, expand_ratio=1, strides=(1, 1), se_ratio=0.25, id_skip=True, fused_conv=False, conv_type='depthwise'), BlockConfig(input_filters=16, output_filters=24, kernel_size=3, num_repeat=2, expand_ratio=6, strides=(2, 2), se_ratio=0.25, id_skip=True, fused_conv=False, conv_type='depthwise'), BlockConfig(input_filters=24, output_filters=40, kernel_size=5, num_repeat=2, expand_ratio=6, strides=(2, 2), se_ratio=0.25, id_skip=True, fused_conv=False, conv_type='depthwise'), BlockConfig(input_filters=40, output_filters=80, kernel_size=3, num_repeat=3, expand_ratio=6, strides=(2, 2), se_ratio=0.25, id_skip=True, fused_conv=False, conv_type='depthwise'), BlockConfig(input_filters=80, output_filters=112, kernel_size=5, num_repeat=3, expand_ratio=6, strides=(1, 1), se_ratio=0.25, id_skip=True, fused_conv=False, conv_type='depthwise'), BlockConfig(input_filters=112, output_filters=192, kernel_size=5, num_repeat=4, expand_ratio=6, strides=(2, 2), se_ratio=0.25, id_skip=True, fused_conv=False, conv_type='depthwise'), BlockConfig(input_filters=192, output_filters=320, kernel_size=3, num_repeat=1, expand_ratio=6, strides=(1, 1), se_ratio=0.25, id_skip=True, fused_conv=False, conv_type='depthwise')), stem_base_filters=32, top_base_filters=1280, activation='simple_swish', batch_norm='default', bn_momentum=0.99, bn_epsilon=0.001, weight_decay=5e-06, drop_connect_rate=0.2, depth_divisor=8, min_depth=None, use_se=True, input_channels=3, num_classes=1000, model_name='efficientnet', rescale_input=False, data_format='channels_last', dtype='float32')\n",
            "I1225 01:37:58.381034 133752475549696 ssd_efficientnet_bifpn_feature_extractor.py:161] EfficientDet EfficientNet backbone version: efficientnet-b4\n",
            "I1225 01:37:58.381193 133752475549696 ssd_efficientnet_bifpn_feature_extractor.py:163] EfficientDet BiFPN num filters: 224\n",
            "I1225 01:37:58.381270 133752475549696 ssd_efficientnet_bifpn_feature_extractor.py:164] EfficientDet BiFPN num iterations: 7\n",
            "I1225 01:37:58.383253 133752475549696 efficientnet_model.py:143] round_filter input=32 output=48\n",
            "I1225 01:37:58.410468 133752475549696 efficientnet_model.py:143] round_filter input=32 output=48\n",
            "I1225 01:37:58.410627 133752475549696 efficientnet_model.py:143] round_filter input=16 output=24\n",
            "I1225 01:37:58.609520 133752475549696 efficientnet_model.py:143] round_filter input=16 output=24\n",
            "I1225 01:37:58.609724 133752475549696 efficientnet_model.py:143] round_filter input=24 output=32\n",
            "I1225 01:37:59.083607 133752475549696 efficientnet_model.py:143] round_filter input=24 output=32\n",
            "I1225 01:37:59.083799 133752475549696 efficientnet_model.py:143] round_filter input=40 output=56\n",
            "I1225 01:37:59.592293 133752475549696 efficientnet_model.py:143] round_filter input=40 output=56\n",
            "I1225 01:37:59.592501 133752475549696 efficientnet_model.py:143] round_filter input=80 output=112\n",
            "I1225 01:38:00.680879 133752475549696 efficientnet_model.py:143] round_filter input=80 output=112\n",
            "I1225 01:38:00.681040 133752475549696 efficientnet_model.py:143] round_filter input=112 output=160\n",
            "I1225 01:38:01.317041 133752475549696 efficientnet_model.py:143] round_filter input=112 output=160\n",
            "I1225 01:38:01.317209 133752475549696 efficientnet_model.py:143] round_filter input=192 output=272\n",
            "I1225 01:38:02.266969 133752475549696 efficientnet_model.py:143] round_filter input=192 output=272\n",
            "I1225 01:38:02.267128 133752475549696 efficientnet_model.py:143] round_filter input=320 output=448\n",
            "I1225 01:38:02.573292 133752475549696 efficientnet_model.py:143] round_filter input=1280 output=1792\n",
            "I1225 01:38:02.647930 133752475549696 efficientnet_model.py:453] Building model efficientnet with params ModelConfig(width_coefficient=1.4, depth_coefficient=1.8, resolution=380, dropout_rate=0.4, blocks=(BlockConfig(input_filters=32, output_filters=16, kernel_size=3, num_repeat=1, expand_ratio=1, strides=(1, 1), se_ratio=0.25, id_skip=True, fused_conv=False, conv_type='depthwise'), BlockConfig(input_filters=16, output_filters=24, kernel_size=3, num_repeat=2, expand_ratio=6, strides=(2, 2), se_ratio=0.25, id_skip=True, fused_conv=False, conv_type='depthwise'), BlockConfig(input_filters=24, output_filters=40, kernel_size=5, num_repeat=2, expand_ratio=6, strides=(2, 2), se_ratio=0.25, id_skip=True, fused_conv=False, conv_type='depthwise'), BlockConfig(input_filters=40, output_filters=80, kernel_size=3, num_repeat=3, expand_ratio=6, strides=(2, 2), se_ratio=0.25, id_skip=True, fused_conv=False, conv_type='depthwise'), BlockConfig(input_filters=80, output_filters=112, kernel_size=5, num_repeat=3, expand_ratio=6, strides=(1, 1), se_ratio=0.25, id_skip=True, fused_conv=False, conv_type='depthwise'), BlockConfig(input_filters=112, output_filters=192, kernel_size=5, num_repeat=4, expand_ratio=6, strides=(2, 2), se_ratio=0.25, id_skip=True, fused_conv=False, conv_type='depthwise'), BlockConfig(input_filters=192, output_filters=320, kernel_size=3, num_repeat=1, expand_ratio=6, strides=(1, 1), se_ratio=0.25, id_skip=True, fused_conv=False, conv_type='depthwise')), stem_base_filters=32, top_base_filters=1280, activation='simple_swish', batch_norm='default', bn_momentum=0.99, bn_epsilon=0.001, weight_decay=5e-06, drop_connect_rate=0.2, depth_divisor=8, min_depth=None, use_se=True, input_channels=3, num_classes=1000, model_name='efficientnet', rescale_input=False, data_format='channels_last', dtype='float32')\n",
            "I1225 01:38:02.729733 133752475549696 ssd_efficientnet_bifpn_feature_extractor.py:161] EfficientDet EfficientNet backbone version: efficientnet-b5\n",
            "I1225 01:38:02.729887 133752475549696 ssd_efficientnet_bifpn_feature_extractor.py:163] EfficientDet BiFPN num filters: 288\n",
            "I1225 01:38:02.729963 133752475549696 ssd_efficientnet_bifpn_feature_extractor.py:164] EfficientDet BiFPN num iterations: 7\n",
            "I1225 01:38:02.731879 133752475549696 efficientnet_model.py:143] round_filter input=32 output=48\n",
            "I1225 01:38:02.749966 133752475549696 efficientnet_model.py:143] round_filter input=32 output=48\n",
            "I1225 01:38:02.750084 133752475549696 efficientnet_model.py:143] round_filter input=16 output=24\n",
            "I1225 01:38:02.971113 133752475549696 efficientnet_model.py:143] round_filter input=16 output=24\n",
            "I1225 01:38:02.971279 133752475549696 efficientnet_model.py:143] round_filter input=24 output=40\n",
            "I1225 01:38:03.440254 133752475549696 efficientnet_model.py:143] round_filter input=24 output=40\n",
            "I1225 01:38:03.440429 133752475549696 efficientnet_model.py:143] round_filter input=40 output=64\n",
            "I1225 01:38:03.922985 133752475549696 efficientnet_model.py:143] round_filter input=40 output=64\n",
            "I1225 01:38:03.923152 133752475549696 efficientnet_model.py:143] round_filter input=80 output=128\n",
            "I1225 01:38:04.632886 133752475549696 efficientnet_model.py:143] round_filter input=80 output=128\n",
            "I1225 01:38:04.633053 133752475549696 efficientnet_model.py:143] round_filter input=112 output=176\n",
            "I1225 01:38:05.357591 133752475549696 efficientnet_model.py:143] round_filter input=112 output=176\n",
            "I1225 01:38:05.357746 133752475549696 efficientnet_model.py:143] round_filter input=192 output=304\n",
            "I1225 01:38:06.443612 133752475549696 efficientnet_model.py:143] round_filter input=192 output=304\n",
            "I1225 01:38:06.443774 133752475549696 efficientnet_model.py:143] round_filter input=320 output=512\n",
            "I1225 01:38:06.944729 133752475549696 efficientnet_model.py:143] round_filter input=1280 output=2048\n",
            "I1225 01:38:07.022014 133752475549696 efficientnet_model.py:453] Building model efficientnet with params ModelConfig(width_coefficient=1.6, depth_coefficient=2.2, resolution=456, dropout_rate=0.4, blocks=(BlockConfig(input_filters=32, output_filters=16, kernel_size=3, num_repeat=1, expand_ratio=1, strides=(1, 1), se_ratio=0.25, id_skip=True, fused_conv=False, conv_type='depthwise'), BlockConfig(input_filters=16, output_filters=24, kernel_size=3, num_repeat=2, expand_ratio=6, strides=(2, 2), se_ratio=0.25, id_skip=True, fused_conv=False, conv_type='depthwise'), BlockConfig(input_filters=24, output_filters=40, kernel_size=5, num_repeat=2, expand_ratio=6, strides=(2, 2), se_ratio=0.25, id_skip=True, fused_conv=False, conv_type='depthwise'), BlockConfig(input_filters=40, output_filters=80, kernel_size=3, num_repeat=3, expand_ratio=6, strides=(2, 2), se_ratio=0.25, id_skip=True, fused_conv=False, conv_type='depthwise'), BlockConfig(input_filters=80, output_filters=112, kernel_size=5, num_repeat=3, expand_ratio=6, strides=(1, 1), se_ratio=0.25, id_skip=True, fused_conv=False, conv_type='depthwise'), BlockConfig(input_filters=112, output_filters=192, kernel_size=5, num_repeat=4, expand_ratio=6, strides=(2, 2), se_ratio=0.25, id_skip=True, fused_conv=False, conv_type='depthwise'), BlockConfig(input_filters=192, output_filters=320, kernel_size=3, num_repeat=1, expand_ratio=6, strides=(1, 1), se_ratio=0.25, id_skip=True, fused_conv=False, conv_type='depthwise')), stem_base_filters=32, top_base_filters=1280, activation='simple_swish', batch_norm='default', bn_momentum=0.99, bn_epsilon=0.001, weight_decay=5e-06, drop_connect_rate=0.2, depth_divisor=8, min_depth=None, use_se=True, input_channels=3, num_classes=1000, model_name='efficientnet', rescale_input=False, data_format='channels_last', dtype='float32')\n",
            "I1225 01:38:07.115502 133752475549696 ssd_efficientnet_bifpn_feature_extractor.py:161] EfficientDet EfficientNet backbone version: efficientnet-b6\n",
            "I1225 01:38:07.115657 133752475549696 ssd_efficientnet_bifpn_feature_extractor.py:163] EfficientDet BiFPN num filters: 384\n",
            "I1225 01:38:07.115728 133752475549696 ssd_efficientnet_bifpn_feature_extractor.py:164] EfficientDet BiFPN num iterations: 8\n",
            "I1225 01:38:07.117663 133752475549696 efficientnet_model.py:143] round_filter input=32 output=56\n",
            "I1225 01:38:07.137609 133752475549696 efficientnet_model.py:143] round_filter input=32 output=56\n",
            "I1225 01:38:07.137725 133752475549696 efficientnet_model.py:143] round_filter input=16 output=32\n",
            "I1225 01:38:07.363511 133752475549696 efficientnet_model.py:143] round_filter input=16 output=32\n",
            "I1225 01:38:07.363677 133752475549696 efficientnet_model.py:143] round_filter input=24 output=40\n",
            "I1225 01:38:07.921063 133752475549696 efficientnet_model.py:143] round_filter input=24 output=40\n",
            "I1225 01:38:07.921229 133752475549696 efficientnet_model.py:143] round_filter input=40 output=72\n",
            "I1225 01:38:08.490993 133752475549696 efficientnet_model.py:143] round_filter input=40 output=72\n",
            "I1225 01:38:08.491155 133752475549696 efficientnet_model.py:143] round_filter input=80 output=144\n",
            "I1225 01:38:09.281826 133752475549696 efficientnet_model.py:143] round_filter input=80 output=144\n",
            "I1225 01:38:09.281991 133752475549696 efficientnet_model.py:143] round_filter input=112 output=200\n",
            "I1225 01:38:10.414645 133752475549696 efficientnet_model.py:143] round_filter input=112 output=200\n",
            "I1225 01:38:10.414812 133752475549696 efficientnet_model.py:143] round_filter input=192 output=344\n",
            "I1225 01:38:12.630246 133752475549696 efficientnet_model.py:143] round_filter input=192 output=344\n",
            "I1225 01:38:12.630444 133752475549696 efficientnet_model.py:143] round_filter input=320 output=576\n",
            "I1225 01:38:13.554687 133752475549696 efficientnet_model.py:143] round_filter input=1280 output=2304\n",
            "I1225 01:38:13.695911 133752475549696 efficientnet_model.py:453] Building model efficientnet with params ModelConfig(width_coefficient=1.8, depth_coefficient=2.6, resolution=528, dropout_rate=0.5, blocks=(BlockConfig(input_filters=32, output_filters=16, kernel_size=3, num_repeat=1, expand_ratio=1, strides=(1, 1), se_ratio=0.25, id_skip=True, fused_conv=False, conv_type='depthwise'), BlockConfig(input_filters=16, output_filters=24, kernel_size=3, num_repeat=2, expand_ratio=6, strides=(2, 2), se_ratio=0.25, id_skip=True, fused_conv=False, conv_type='depthwise'), BlockConfig(input_filters=24, output_filters=40, kernel_size=5, num_repeat=2, expand_ratio=6, strides=(2, 2), se_ratio=0.25, id_skip=True, fused_conv=False, conv_type='depthwise'), BlockConfig(input_filters=40, output_filters=80, kernel_size=3, num_repeat=3, expand_ratio=6, strides=(2, 2), se_ratio=0.25, id_skip=True, fused_conv=False, conv_type='depthwise'), BlockConfig(input_filters=80, output_filters=112, kernel_size=5, num_repeat=3, expand_ratio=6, strides=(1, 1), se_ratio=0.25, id_skip=True, fused_conv=False, conv_type='depthwise'), BlockConfig(input_filters=112, output_filters=192, kernel_size=5, num_repeat=4, expand_ratio=6, strides=(2, 2), se_ratio=0.25, id_skip=True, fused_conv=False, conv_type='depthwise'), BlockConfig(input_filters=192, output_filters=320, kernel_size=3, num_repeat=1, expand_ratio=6, strides=(1, 1), se_ratio=0.25, id_skip=True, fused_conv=False, conv_type='depthwise')), stem_base_filters=32, top_base_filters=1280, activation='simple_swish', batch_norm='default', bn_momentum=0.99, bn_epsilon=0.001, weight_decay=5e-06, drop_connect_rate=0.2, depth_divisor=8, min_depth=None, use_se=True, input_channels=3, num_classes=1000, model_name='efficientnet', rescale_input=False, data_format='channels_last', dtype='float32')\n",
            "I1225 01:38:13.871046 133752475549696 ssd_efficientnet_bifpn_feature_extractor.py:161] EfficientDet EfficientNet backbone version: efficientnet-b7\n",
            "I1225 01:38:13.871264 133752475549696 ssd_efficientnet_bifpn_feature_extractor.py:163] EfficientDet BiFPN num filters: 384\n",
            "I1225 01:38:13.871370 133752475549696 ssd_efficientnet_bifpn_feature_extractor.py:164] EfficientDet BiFPN num iterations: 8\n",
            "I1225 01:38:13.874215 133752475549696 efficientnet_model.py:143] round_filter input=32 output=64\n",
            "I1225 01:38:13.903248 133752475549696 efficientnet_model.py:143] round_filter input=32 output=64\n",
            "I1225 01:38:13.903566 133752475549696 efficientnet_model.py:143] round_filter input=16 output=32\n",
            "I1225 01:38:14.297202 133752475549696 efficientnet_model.py:143] round_filter input=16 output=32\n",
            "I1225 01:38:14.297401 133752475549696 efficientnet_model.py:143] round_filter input=24 output=48\n",
            "I1225 01:38:15.172269 133752475549696 efficientnet_model.py:143] round_filter input=24 output=48\n",
            "I1225 01:38:15.172481 133752475549696 efficientnet_model.py:143] round_filter input=40 output=80\n",
            "I1225 01:38:15.898294 133752475549696 efficientnet_model.py:143] round_filter input=40 output=80\n",
            "I1225 01:38:15.898473 133752475549696 efficientnet_model.py:143] round_filter input=80 output=160\n",
            "I1225 01:38:16.906522 133752475549696 efficientnet_model.py:143] round_filter input=80 output=160\n",
            "I1225 01:38:16.906705 133752475549696 efficientnet_model.py:143] round_filter input=112 output=224\n",
            "I1225 01:38:18.192290 133752475549696 efficientnet_model.py:143] round_filter input=112 output=224\n",
            "I1225 01:38:18.192459 133752475549696 efficientnet_model.py:143] round_filter input=192 output=384\n",
            "I1225 01:38:20.075721 133752475549696 efficientnet_model.py:143] round_filter input=192 output=384\n",
            "I1225 01:38:20.076014 133752475549696 efficientnet_model.py:143] round_filter input=320 output=640\n",
            "I1225 01:38:20.934723 133752475549696 efficientnet_model.py:143] round_filter input=1280 output=2560\n",
            "I1225 01:38:21.030397 133752475549696 efficientnet_model.py:453] Building model efficientnet with params ModelConfig(width_coefficient=2.0, depth_coefficient=3.1, resolution=600, dropout_rate=0.5, blocks=(BlockConfig(input_filters=32, output_filters=16, kernel_size=3, num_repeat=1, expand_ratio=1, strides=(1, 1), se_ratio=0.25, id_skip=True, fused_conv=False, conv_type='depthwise'), BlockConfig(input_filters=16, output_filters=24, kernel_size=3, num_repeat=2, expand_ratio=6, strides=(2, 2), se_ratio=0.25, id_skip=True, fused_conv=False, conv_type='depthwise'), BlockConfig(input_filters=24, output_filters=40, kernel_size=5, num_repeat=2, expand_ratio=6, strides=(2, 2), se_ratio=0.25, id_skip=True, fused_conv=False, conv_type='depthwise'), BlockConfig(input_filters=40, output_filters=80, kernel_size=3, num_repeat=3, expand_ratio=6, strides=(2, 2), se_ratio=0.25, id_skip=True, fused_conv=False, conv_type='depthwise'), BlockConfig(input_filters=80, output_filters=112, kernel_size=5, num_repeat=3, expand_ratio=6, strides=(1, 1), se_ratio=0.25, id_skip=True, fused_conv=False, conv_type='depthwise'), BlockConfig(input_filters=112, output_filters=192, kernel_size=5, num_repeat=4, expand_ratio=6, strides=(2, 2), se_ratio=0.25, id_skip=True, fused_conv=False, conv_type='depthwise'), BlockConfig(input_filters=192, output_filters=320, kernel_size=3, num_repeat=1, expand_ratio=6, strides=(1, 1), se_ratio=0.25, id_skip=True, fused_conv=False, conv_type='depthwise')), stem_base_filters=32, top_base_filters=1280, activation='simple_swish', batch_norm='default', bn_momentum=0.99, bn_epsilon=0.001, weight_decay=5e-06, drop_connect_rate=0.2, depth_divisor=8, min_depth=None, use_se=True, input_channels=3, num_classes=1000, model_name='efficientnet', rescale_input=False, data_format='channels_last', dtype='float32')\n",
            "INFO:tensorflow:time(__main__.ModelBuilderTF2Test.test_create_ssd_models_from_config): 33.44s\n",
            "I1225 01:38:21.169477 133752475549696 test_util.py:2462] time(__main__.ModelBuilderTF2Test.test_create_ssd_models_from_config): 33.44s\n",
            "[       OK ] ModelBuilderTF2Test.test_create_ssd_models_from_config\n",
            "[ RUN      ] ModelBuilderTF2Test.test_invalid_faster_rcnn_batchnorm_update\n",
            "INFO:tensorflow:time(__main__.ModelBuilderTF2Test.test_invalid_faster_rcnn_batchnorm_update): 0.0s\n",
            "I1225 01:38:21.200670 133752475549696 test_util.py:2462] time(__main__.ModelBuilderTF2Test.test_invalid_faster_rcnn_batchnorm_update): 0.0s\n",
            "[       OK ] ModelBuilderTF2Test.test_invalid_faster_rcnn_batchnorm_update\n",
            "[ RUN      ] ModelBuilderTF2Test.test_invalid_first_stage_nms_iou_threshold\n",
            "INFO:tensorflow:time(__main__.ModelBuilderTF2Test.test_invalid_first_stage_nms_iou_threshold): 0.0s\n",
            "I1225 01:38:21.202414 133752475549696 test_util.py:2462] time(__main__.ModelBuilderTF2Test.test_invalid_first_stage_nms_iou_threshold): 0.0s\n",
            "[       OK ] ModelBuilderTF2Test.test_invalid_first_stage_nms_iou_threshold\n",
            "[ RUN      ] ModelBuilderTF2Test.test_invalid_model_config_proto\n",
            "INFO:tensorflow:time(__main__.ModelBuilderTF2Test.test_invalid_model_config_proto): 0.0s\n",
            "I1225 01:38:21.202924 133752475549696 test_util.py:2462] time(__main__.ModelBuilderTF2Test.test_invalid_model_config_proto): 0.0s\n",
            "[       OK ] ModelBuilderTF2Test.test_invalid_model_config_proto\n",
            "[ RUN      ] ModelBuilderTF2Test.test_invalid_second_stage_batch_size\n",
            "INFO:tensorflow:time(__main__.ModelBuilderTF2Test.test_invalid_second_stage_batch_size): 0.0s\n",
            "I1225 01:38:21.204332 133752475549696 test_util.py:2462] time(__main__.ModelBuilderTF2Test.test_invalid_second_stage_batch_size): 0.0s\n",
            "[       OK ] ModelBuilderTF2Test.test_invalid_second_stage_batch_size\n",
            "[ RUN      ] ModelBuilderTF2Test.test_session\n",
            "[  SKIPPED ] ModelBuilderTF2Test.test_session\n",
            "[ RUN      ] ModelBuilderTF2Test.test_unknown_faster_rcnn_feature_extractor\n",
            "INFO:tensorflow:time(__main__.ModelBuilderTF2Test.test_unknown_faster_rcnn_feature_extractor): 0.0s\n",
            "I1225 01:38:21.205655 133752475549696 test_util.py:2462] time(__main__.ModelBuilderTF2Test.test_unknown_faster_rcnn_feature_extractor): 0.0s\n",
            "[       OK ] ModelBuilderTF2Test.test_unknown_faster_rcnn_feature_extractor\n",
            "[ RUN      ] ModelBuilderTF2Test.test_unknown_meta_architecture\n",
            "INFO:tensorflow:time(__main__.ModelBuilderTF2Test.test_unknown_meta_architecture): 0.0s\n",
            "I1225 01:38:21.206060 133752475549696 test_util.py:2462] time(__main__.ModelBuilderTF2Test.test_unknown_meta_architecture): 0.0s\n",
            "[       OK ] ModelBuilderTF2Test.test_unknown_meta_architecture\n",
            "[ RUN      ] ModelBuilderTF2Test.test_unknown_ssd_feature_extractor\n",
            "INFO:tensorflow:time(__main__.ModelBuilderTF2Test.test_unknown_ssd_feature_extractor): 0.0s\n",
            "I1225 01:38:21.207325 133752475549696 test_util.py:2462] time(__main__.ModelBuilderTF2Test.test_unknown_ssd_feature_extractor): 0.0s\n",
            "[       OK ] ModelBuilderTF2Test.test_unknown_ssd_feature_extractor\n",
            "----------------------------------------------------------------------\n",
            "Ran 24 tests in 40.111s\n",
            "\n",
            "OK (skipped=1)\n"
          ]
        }
      ],
      "source": [
        "VERIFICATION_SCRIPT = os.path.join(paths['APIMODEL_PATH'], 'research', 'object_detection', 'builders', 'model_builder_tf2_test.py')\n",
        "# Verify Installation\n",
        "!python {VERIFICATION_SCRIPT}"
      ]
    },
    {
      "cell_type": "code",
      "execution_count": null,
      "metadata": {
        "id": "rueIeipCtr27",
        "colab": {
          "base_uri": "https://localhost:8080/"
        },
        "outputId": "c27f313e-1bc7-47d8-eb36-1be5de1477c5"
      },
      "outputs": [
        {
          "output_type": "stream",
          "name": "stdout",
          "text": [
            "\u001b[31mERROR: Could not find a version that satisfies the requirement tensorflow==2.4.1 (from versions: 2.8.0rc0, 2.8.0rc1, 2.8.0, 2.8.1, 2.8.2, 2.8.3, 2.8.4, 2.9.0rc0, 2.9.0rc1, 2.9.0rc2, 2.9.0, 2.9.1, 2.9.2, 2.9.3, 2.10.0rc0, 2.10.0rc1, 2.10.0rc2, 2.10.0rc3, 2.10.0, 2.10.1, 2.11.0rc0, 2.11.0rc1, 2.11.0rc2, 2.11.0, 2.11.1, 2.12.0rc0, 2.12.0rc1, 2.12.0, 2.12.1, 2.13.0rc0, 2.13.0rc1, 2.13.0rc2, 2.13.0, 2.13.1, 2.14.0rc0, 2.14.0rc1, 2.14.0, 2.14.1, 2.15.0rc0, 2.15.0rc1, 2.15.0, 2.15.0.post1)\u001b[0m\u001b[31m\n",
            "\u001b[0m\u001b[31mERROR: No matching distribution found for tensorflow==2.4.1\u001b[0m\u001b[31m\n",
            "\u001b[0m"
          ]
        }
      ],
      "source": [
        "!pip install tensorflow==2.4.1 tensorflow-gpu==2.4.1 --upgrade"
      ]
    },
    {
      "cell_type": "code",
      "execution_count": null,
      "metadata": {
        "id": "Mjr3u_vKtr27",
        "colab": {
          "base_uri": "https://localhost:8080/",
          "height": 582
        },
        "outputId": "7596dd1f-a147-458c-d12d-1a4f16d38383"
      },
      "outputs": [
        {
          "output_type": "stream",
          "name": "stdout",
          "text": [
            "Found existing installation: protobuf 4.25.1\n",
            "Uninstalling protobuf-4.25.1:\n",
            "  Successfully uninstalled protobuf-4.25.1\n",
            "Found existing installation: matplotlib 3.2.0\n",
            "Uninstalling matplotlib-3.2.0:\n",
            "  Successfully uninstalled matplotlib-3.2.0\n",
            "Collecting protobuf\n",
            "  Using cached protobuf-4.25.1-cp37-abi3-manylinux2014_x86_64.whl (294 kB)\n",
            "Collecting matplotlib==3.2\n",
            "  Using cached matplotlib-3.2.0-cp310-cp310-linux_x86_64.whl\n",
            "Requirement already satisfied: cycler>=0.10 in /usr/local/lib/python3.10/dist-packages (from matplotlib==3.2) (0.12.1)\n",
            "Requirement already satisfied: kiwisolver>=1.0.1 in /usr/local/lib/python3.10/dist-packages (from matplotlib==3.2) (1.4.5)\n",
            "Requirement already satisfied: numpy>=1.11 in /usr/local/lib/python3.10/dist-packages (from matplotlib==3.2) (1.23.5)\n",
            "Requirement already satisfied: pyparsing!=2.0.4,!=2.1.2,!=2.1.6,>=2.0.1 in /usr/local/lib/python3.10/dist-packages (from matplotlib==3.2) (2.4.7)\n",
            "Requirement already satisfied: python-dateutil>=2.1 in /usr/local/lib/python3.10/dist-packages (from matplotlib==3.2) (2.8.2)\n",
            "Requirement already satisfied: six>=1.5 in /usr/local/lib/python3.10/dist-packages (from python-dateutil>=2.1->matplotlib==3.2) (1.16.0)\n",
            "Installing collected packages: protobuf, matplotlib\n",
            "\u001b[31mERROR: pip's dependency resolver does not currently take into account all the packages that are installed. This behaviour is the source of the following dependency conflicts.\n",
            "lida 0.0.10 requires fastapi, which is not installed.\n",
            "lida 0.0.10 requires kaleido, which is not installed.\n",
            "lida 0.0.10 requires python-multipart, which is not installed.\n",
            "lida 0.0.10 requires uvicorn, which is not installed.\n",
            "mizani 0.9.3 requires matplotlib>=3.5.0, but you have matplotlib 3.2.0 which is incompatible.\n",
            "plotnine 0.12.4 requires matplotlib>=3.6.0, but you have matplotlib 3.2.0 which is incompatible.\n",
            "tensorboard 2.15.1 requires protobuf<4.24,>=3.19.6, but you have protobuf 4.25.1 which is incompatible.\n",
            "tensorflow-metadata 1.14.0 requires protobuf<4.21,>=3.20.3, but you have protobuf 4.25.1 which is incompatible.\u001b[0m\u001b[31m\n",
            "\u001b[0mSuccessfully installed matplotlib-3.2.0 protobuf-4.25.1\n"
          ]
        },
        {
          "output_type": "display_data",
          "data": {
            "application/vnd.colab-display-data+json": {
              "pip_warning": {
                "packages": [
                  "matplotlib",
                  "mpl_toolkits"
                ]
              }
            }
          },
          "metadata": {}
        }
      ],
      "source": [
        "!pip uninstall protobuf matplotlib -y\n",
        "!pip install protobuf matplotlib==3.2"
      ]
    },
    {
      "cell_type": "code",
      "execution_count": null,
      "metadata": {
        "id": "A38hgQ_7tr27",
        "colab": {
          "base_uri": "https://localhost:8080/"
        },
        "outputId": "ba905286-0017-4152-f691-d8dc12b3a683"
      },
      "outputs": [
        {
          "output_type": "stream",
          "name": "stdout",
          "text": [
            "Requirement already satisfied: Pillow in /usr/local/lib/python3.10/dist-packages (9.4.0)\n"
          ]
        }
      ],
      "source": [
        "!pip install Pillow"
      ]
    },
    {
      "cell_type": "code",
      "execution_count": null,
      "metadata": {
        "id": "ktUw2Bo0tr27",
        "colab": {
          "base_uri": "https://localhost:8080/"
        },
        "outputId": "f36333f6-34d1-4c61-f003-034a14f8609a"
      },
      "outputs": [
        {
          "output_type": "stream",
          "name": "stdout",
          "text": [
            "Requirement already satisfied: pyyaml in /usr/local/lib/python3.10/dist-packages (6.0.1)\n"
          ]
        }
      ],
      "source": [
        "!pip install pyyaml"
      ]
    },
    {
      "cell_type": "code",
      "execution_count": null,
      "metadata": {
        "id": "fGrZDkjdtr27"
      },
      "outputs": [],
      "source": [
        "!pip list"
      ]
    },
    {
      "cell_type": "code",
      "execution_count": 14,
      "metadata": {
        "id": "EmPTw0Zjtr27"
      },
      "outputs": [],
      "source": [
        "import object_detection"
      ]
    },
    {
      "cell_type": "code",
      "execution_count": 15,
      "metadata": {
        "id": "csofht2npfDE",
        "colab": {
          "base_uri": "https://localhost:8080/"
        },
        "outputId": "ffd988fe-ba04-4b5e-b7ba-fee909105b8c"
      },
      "outputs": [
        {
          "output_type": "stream",
          "name": "stdout",
          "text": [
            "--2023-12-25 01:38:30--  http://download.tensorflow.org/models/object_detection/tf2/20200711/ssd_mobilenet_v2_fpnlite_320x320_coco17_tpu-8.tar.gz\n",
            "Resolving download.tensorflow.org (download.tensorflow.org)... 142.250.97.207, 142.251.107.207, 74.125.196.207, ...\n",
            "Connecting to download.tensorflow.org (download.tensorflow.org)|142.250.97.207|:80... connected.\n",
            "HTTP request sent, awaiting response... 200 OK\n",
            "Length: 20515344 (20M) [application/x-tar]\n",
            "Saving to: ‘ssd_mobilenet_v2_fpnlite_320x320_coco17_tpu-8.tar.gz’\n",
            "\n",
            "\r          ssd_mobil   0%[                    ]       0  --.-KB/s               \rssd_mobilenet_v2_fp 100%[===================>]  19.56M  --.-KB/s    in 0.07s   \n",
            "\n",
            "2023-12-25 01:38:30 (274 MB/s) - ‘ssd_mobilenet_v2_fpnlite_320x320_coco17_tpu-8.tar.gz’ saved [20515344/20515344]\n",
            "\n",
            "ssd_mobilenet_v2_fpnlite_320x320_coco17_tpu-8/\n",
            "ssd_mobilenet_v2_fpnlite_320x320_coco17_tpu-8/checkpoint/\n",
            "ssd_mobilenet_v2_fpnlite_320x320_coco17_tpu-8/checkpoint/ckpt-0.data-00000-of-00001\n",
            "ssd_mobilenet_v2_fpnlite_320x320_coco17_tpu-8/checkpoint/checkpoint\n",
            "ssd_mobilenet_v2_fpnlite_320x320_coco17_tpu-8/checkpoint/ckpt-0.index\n",
            "ssd_mobilenet_v2_fpnlite_320x320_coco17_tpu-8/pipeline.config\n",
            "ssd_mobilenet_v2_fpnlite_320x320_coco17_tpu-8/saved_model/\n",
            "ssd_mobilenet_v2_fpnlite_320x320_coco17_tpu-8/saved_model/saved_model.pb\n",
            "ssd_mobilenet_v2_fpnlite_320x320_coco17_tpu-8/saved_model/variables/\n",
            "ssd_mobilenet_v2_fpnlite_320x320_coco17_tpu-8/saved_model/variables/variables.data-00000-of-00001\n",
            "ssd_mobilenet_v2_fpnlite_320x320_coco17_tpu-8/saved_model/variables/variables.index\n"
          ]
        }
      ],
      "source": [
        "if os.name =='posix':\n",
        "    !wget {PRETRAINED_MODEL_URL}\n",
        "    !mv {PRETRAINED_MODEL_NAME+'.tar.gz'} {paths['PRETRAINED_MODEL_PATH']}\n",
        "    !cd {paths['PRETRAINED_MODEL_PATH']} && tar -zxvf {PRETRAINED_MODEL_NAME+'.tar.gz'}\n",
        "if os.name == 'nt':\n",
        "    wget.download(PRETRAINED_MODEL_URL)\n",
        "    !move {PRETRAINED_MODEL_NAME+'.tar.gz'} {paths['PRETRAINED_MODEL_PATH']}\n",
        "    !cd {paths['PRETRAINED_MODEL_PATH']} && tar -zxvf {PRETRAINED_MODEL_NAME+'.tar.gz'}"
      ]
    },
    {
      "cell_type": "markdown",
      "metadata": {
        "id": "M5KJTnkfpfDC"
      },
      "source": [
        "# 2. Create Label Map"
      ]
    },
    {
      "cell_type": "code",
      "execution_count": 33,
      "metadata": {
        "id": "p1BVDWo7pfDC"
      },
      "outputs": [],
      "source": [
        "labels = [{'name':'licence', 'id':1}]\n",
        "\n",
        "with open(files['LABELMAP'], 'w') as f:\n",
        "    for label in labels:\n",
        "        f.write('item { \\n')\n",
        "        f.write('\\tname:\\'{}\\'\\n'.format(label['name']))\n",
        "        f.write('\\tid:{}\\n'.format(label['id']))\n",
        "        f.write('}\\n')"
      ]
    },
    {
      "cell_type": "markdown",
      "metadata": {
        "id": "C88zyVELpfDC"
      },
      "source": [
        "# 3. Create TF records"
      ]
    },
    {
      "cell_type": "code",
      "execution_count": 34,
      "metadata": {
        "id": "kvf5WccwrFGq"
      },
      "outputs": [],
      "source": [
        "# OPTIONAL IF RUNNING ON COLAB\n",
        "ARCHIVE_FILES = os.path.join(paths['IMAGE_PATH'], 'archive.tar.gz')\n",
        "if os.path.exists(ARCHIVE_FILES):\n",
        "  !tar -zxvf {ARCHIVE_FILES}"
      ]
    },
    {
      "cell_type": "code",
      "execution_count": 35,
      "metadata": {
        "id": "KWpb_BVUpfDD"
      },
      "outputs": [],
      "source": [
        "if not os.path.exists(files['TF_RECORD_SCRIPT']):\n",
        "    !git clone https://github.com/nicknochnack/GenerateTFRecord {paths['SCRIPTS_PATH']}"
      ]
    },
    {
      "cell_type": "code",
      "execution_count": 16,
      "metadata": {
        "id": "Q-3QAAottr28",
        "colab": {
          "base_uri": "https://localhost:8080/"
        },
        "outputId": "04d6ec3f-eec4-4392-e78f-95d7312ea1a6"
      },
      "outputs": [
        {
          "output_type": "stream",
          "name": "stdout",
          "text": [
            "Requirement already satisfied: pytz in /usr/local/lib/python3.10/dist-packages (2023.3.post1)\n"
          ]
        }
      ],
      "source": [
        "!pip install pytz"
      ]
    },
    {
      "cell_type": "code",
      "execution_count": 18,
      "metadata": {
        "id": "UPFToGZqpfDD",
        "colab": {
          "base_uri": "https://localhost:8080/"
        },
        "outputId": "38bffe4b-de7e-4671-c497-315d2d63cc57"
      },
      "outputs": [
        {
          "output_type": "stream",
          "name": "stdout",
          "text": [
            "2023-12-25 01:32:23.430369: E external/local_xla/xla/stream_executor/cuda/cuda_dnn.cc:9261] Unable to register cuDNN factory: Attempting to register factory for plugin cuDNN when one has already been registered\n",
            "2023-12-25 01:32:23.430412: E external/local_xla/xla/stream_executor/cuda/cuda_fft.cc:607] Unable to register cuFFT factory: Attempting to register factory for plugin cuFFT when one has already been registered\n",
            "2023-12-25 01:32:23.431682: E external/local_xla/xla/stream_executor/cuda/cuda_blas.cc:1515] Unable to register cuBLAS factory: Attempting to register factory for plugin cuBLAS when one has already been registered\n",
            "Successfully created the TFRecord file: Tensorflow/workspace/annotations/train.record\n",
            "2023-12-25 01:32:27.660796: E external/local_xla/xla/stream_executor/cuda/cuda_dnn.cc:9261] Unable to register cuDNN factory: Attempting to register factory for plugin cuDNN when one has already been registered\n",
            "2023-12-25 01:32:27.660842: E external/local_xla/xla/stream_executor/cuda/cuda_fft.cc:607] Unable to register cuFFT factory: Attempting to register factory for plugin cuFFT when one has already been registered\n",
            "2023-12-25 01:32:27.662140: E external/local_xla/xla/stream_executor/cuda/cuda_blas.cc:1515] Unable to register cuBLAS factory: Attempting to register factory for plugin cuBLAS when one has already been registered\n",
            "Successfully created the TFRecord file: Tensorflow/workspace/annotations/test.record\n"
          ]
        }
      ],
      "source": [
        "!python {files['TF_RECORD_SCRIPT']} -x {os.path.join(paths['IMAGE_PATH'], 'train')} -l {files['LABELMAP']} -o {os.path.join(paths['ANNOTATION_PATH'], 'train.record')}\n",
        "!python {files['TF_RECORD_SCRIPT']} -x {os.path.join(paths['IMAGE_PATH'], 'test')} -l {files['LABELMAP']} -o {os.path.join(paths['ANNOTATION_PATH'], 'test.record')}"
      ]
    },
    {
      "cell_type": "markdown",
      "metadata": {
        "id": "qT4QU7pLpfDE"
      },
      "source": [
        "# 4. Copy Model Config to Training Folder"
      ]
    },
    {
      "cell_type": "code",
      "execution_count": 19,
      "metadata": {
        "id": "cOjuTFbwpfDF"
      },
      "outputs": [],
      "source": [
        "if os.name =='posix':\n",
        "    !cp {os.path.join(paths['PRETRAINED_MODEL_PATH'], PRETRAINED_MODEL_NAME, 'pipeline.config')} {os.path.join(paths['CHECKPOINT_PATH'])}\n",
        "if os.name == 'nt':\n",
        "    !copy {os.path.join(paths['PRETRAINED_MODEL_PATH'], PRETRAINED_MODEL_NAME, 'pipeline.config')} {os.path.join(paths['CHECKPOINT_PATH'])}"
      ]
    },
    {
      "cell_type": "markdown",
      "metadata": {
        "id": "Ga8gpNslpfDF"
      },
      "source": [
        "# 5. Update Config For Transfer Learning"
      ]
    },
    {
      "cell_type": "code",
      "execution_count": 20,
      "metadata": {
        "id": "Z9hRrO_ppfDF"
      },
      "outputs": [],
      "source": [
        "import tensorflow as tf\n",
        "from object_detection.utils import config_util\n",
        "from object_detection.protos import pipeline_pb2\n",
        "from google.protobuf import text_format"
      ]
    },
    {
      "cell_type": "code",
      "execution_count": 21,
      "metadata": {
        "id": "c2A0mn4ipfDF"
      },
      "outputs": [],
      "source": [
        "config = config_util.get_configs_from_pipeline_file(files['PIPELINE_CONFIG'])"
      ]
    },
    {
      "cell_type": "code",
      "execution_count": 22,
      "metadata": {
        "id": "uQA13-afpfDF",
        "colab": {
          "base_uri": "https://localhost:8080/"
        },
        "outputId": "ad89fd13-339d-4267-b532-dcfc797196ce"
      },
      "outputs": [
        {
          "output_type": "execute_result",
          "data": {
            "text/plain": [
              "{'model': ssd {\n",
              "   num_classes: 90\n",
              "   image_resizer {\n",
              "     fixed_shape_resizer {\n",
              "       height: 320\n",
              "       width: 320\n",
              "     }\n",
              "   }\n",
              "   feature_extractor {\n",
              "     type: \"ssd_mobilenet_v2_fpn_keras\"\n",
              "     depth_multiplier: 1.0\n",
              "     min_depth: 16\n",
              "     conv_hyperparams {\n",
              "       regularizer {\n",
              "         l2_regularizer {\n",
              "           weight: 3.9999998989515007e-05\n",
              "         }\n",
              "       }\n",
              "       initializer {\n",
              "         random_normal_initializer {\n",
              "           mean: 0.0\n",
              "           stddev: 0.009999999776482582\n",
              "         }\n",
              "       }\n",
              "       activation: RELU_6\n",
              "       batch_norm {\n",
              "         decay: 0.996999979019165\n",
              "         scale: true\n",
              "         epsilon: 0.0010000000474974513\n",
              "       }\n",
              "     }\n",
              "     use_depthwise: true\n",
              "     override_base_feature_extractor_hyperparams: true\n",
              "     fpn {\n",
              "       min_level: 3\n",
              "       max_level: 7\n",
              "       additional_layer_depth: 128\n",
              "     }\n",
              "   }\n",
              "   box_coder {\n",
              "     faster_rcnn_box_coder {\n",
              "       y_scale: 10.0\n",
              "       x_scale: 10.0\n",
              "       height_scale: 5.0\n",
              "       width_scale: 5.0\n",
              "     }\n",
              "   }\n",
              "   matcher {\n",
              "     argmax_matcher {\n",
              "       matched_threshold: 0.5\n",
              "       unmatched_threshold: 0.5\n",
              "       ignore_thresholds: false\n",
              "       negatives_lower_than_unmatched: true\n",
              "       force_match_for_each_row: true\n",
              "       use_matmul_gather: true\n",
              "     }\n",
              "   }\n",
              "   similarity_calculator {\n",
              "     iou_similarity {\n",
              "     }\n",
              "   }\n",
              "   box_predictor {\n",
              "     weight_shared_convolutional_box_predictor {\n",
              "       conv_hyperparams {\n",
              "         regularizer {\n",
              "           l2_regularizer {\n",
              "             weight: 3.9999998989515007e-05\n",
              "           }\n",
              "         }\n",
              "         initializer {\n",
              "           random_normal_initializer {\n",
              "             mean: 0.0\n",
              "             stddev: 0.009999999776482582\n",
              "           }\n",
              "         }\n",
              "         activation: RELU_6\n",
              "         batch_norm {\n",
              "           decay: 0.996999979019165\n",
              "           scale: true\n",
              "           epsilon: 0.0010000000474974513\n",
              "         }\n",
              "       }\n",
              "       depth: 128\n",
              "       num_layers_before_predictor: 4\n",
              "       kernel_size: 3\n",
              "       class_prediction_bias_init: -4.599999904632568\n",
              "       share_prediction_tower: true\n",
              "       use_depthwise: true\n",
              "     }\n",
              "   }\n",
              "   anchor_generator {\n",
              "     multiscale_anchor_generator {\n",
              "       min_level: 3\n",
              "       max_level: 7\n",
              "       anchor_scale: 4.0\n",
              "       aspect_ratios: 1.0\n",
              "       aspect_ratios: 2.0\n",
              "       aspect_ratios: 0.5\n",
              "       scales_per_octave: 2\n",
              "     }\n",
              "   }\n",
              "   post_processing {\n",
              "     batch_non_max_suppression {\n",
              "       score_threshold: 9.99999993922529e-09\n",
              "       iou_threshold: 0.6000000238418579\n",
              "       max_detections_per_class: 100\n",
              "       max_total_detections: 100\n",
              "       use_static_shapes: false\n",
              "     }\n",
              "     score_converter: SIGMOID\n",
              "   }\n",
              "   normalize_loss_by_num_matches: true\n",
              "   loss {\n",
              "     localization_loss {\n",
              "       weighted_smooth_l1 {\n",
              "       }\n",
              "     }\n",
              "     classification_loss {\n",
              "       weighted_sigmoid_focal {\n",
              "         gamma: 2.0\n",
              "         alpha: 0.25\n",
              "       }\n",
              "     }\n",
              "     classification_weight: 1.0\n",
              "     localization_weight: 1.0\n",
              "   }\n",
              "   encode_background_as_zeros: true\n",
              "   normalize_loc_loss_by_codesize: true\n",
              "   inplace_batchnorm_update: true\n",
              "   freeze_batchnorm: false\n",
              " },\n",
              " 'train_config': batch_size: 128\n",
              " data_augmentation_options {\n",
              "   random_horizontal_flip {\n",
              "   }\n",
              " }\n",
              " data_augmentation_options {\n",
              "   random_crop_image {\n",
              "     min_object_covered: 0.0\n",
              "     min_aspect_ratio: 0.75\n",
              "     max_aspect_ratio: 3.0\n",
              "     min_area: 0.75\n",
              "     max_area: 1.0\n",
              "     overlap_thresh: 0.0\n",
              "   }\n",
              " }\n",
              " sync_replicas: true\n",
              " optimizer {\n",
              "   momentum_optimizer {\n",
              "     learning_rate {\n",
              "       cosine_decay_learning_rate {\n",
              "         learning_rate_base: 0.07999999821186066\n",
              "         total_steps: 50000\n",
              "         warmup_learning_rate: 0.026666000485420227\n",
              "         warmup_steps: 1000\n",
              "       }\n",
              "     }\n",
              "     momentum_optimizer_value: 0.8999999761581421\n",
              "   }\n",
              "   use_moving_average: false\n",
              " }\n",
              " fine_tune_checkpoint: \"PATH_TO_BE_CONFIGURED\"\n",
              " num_steps: 50000\n",
              " startup_delay_steps: 0.0\n",
              " replicas_to_aggregate: 8\n",
              " max_number_of_boxes: 100\n",
              " unpad_groundtruth_tensors: false\n",
              " fine_tune_checkpoint_type: \"classification\"\n",
              " fine_tune_checkpoint_version: V2,\n",
              " 'train_input_config': label_map_path: \"PATH_TO_BE_CONFIGURED\"\n",
              " tf_record_input_reader {\n",
              "   input_path: \"PATH_TO_BE_CONFIGURED\"\n",
              " },\n",
              " 'eval_config': metrics_set: \"coco_detection_metrics\"\n",
              " use_moving_averages: false,\n",
              " 'eval_input_configs': [label_map_path: \"PATH_TO_BE_CONFIGURED\"\n",
              " shuffle: false\n",
              " num_epochs: 1\n",
              " tf_record_input_reader {\n",
              "   input_path: \"PATH_TO_BE_CONFIGURED\"\n",
              " }\n",
              " ],\n",
              " 'eval_input_config': label_map_path: \"PATH_TO_BE_CONFIGURED\"\n",
              " shuffle: false\n",
              " num_epochs: 1\n",
              " tf_record_input_reader {\n",
              "   input_path: \"PATH_TO_BE_CONFIGURED\"\n",
              " }}"
            ]
          },
          "metadata": {},
          "execution_count": 22
        }
      ],
      "source": [
        "config"
      ]
    },
    {
      "cell_type": "code",
      "execution_count": 23,
      "metadata": {
        "id": "9vK5lotDpfDF"
      },
      "outputs": [],
      "source": [
        "pipeline_config = pipeline_pb2.TrainEvalPipelineConfig()\n",
        "with tf.io.gfile.GFile(files['PIPELINE_CONFIG'], \"r\") as f:\n",
        "    proto_str = f.read()\n",
        "    text_format.Merge(proto_str, pipeline_config)"
      ]
    },
    {
      "cell_type": "code",
      "execution_count": 24,
      "metadata": {
        "id": "rP43Ph0JpfDG"
      },
      "outputs": [],
      "source": [
        "pipeline_config.model.ssd.num_classes = len(labels)\n",
        "pipeline_config.train_config.batch_size = 4\n",
        "pipeline_config.train_config.fine_tune_checkpoint = os.path.join(paths['PRETRAINED_MODEL_PATH'], PRETRAINED_MODEL_NAME, 'checkpoint', 'ckpt-0')\n",
        "pipeline_config.train_config.fine_tune_checkpoint_type = \"detection\"\n",
        "pipeline_config.train_input_reader.label_map_path= files['LABELMAP']\n",
        "pipeline_config.train_input_reader.tf_record_input_reader.input_path[:] = [os.path.join(paths['ANNOTATION_PATH'], 'train.record')]\n",
        "pipeline_config.eval_input_reader[0].label_map_path = files['LABELMAP']\n",
        "pipeline_config.eval_input_reader[0].tf_record_input_reader.input_path[:] = [os.path.join(paths['ANNOTATION_PATH'], 'test.record')]"
      ]
    },
    {
      "cell_type": "code",
      "execution_count": 25,
      "metadata": {
        "id": "oJvfgwWqpfDG"
      },
      "outputs": [],
      "source": [
        "config_text = text_format.MessageToString(pipeline_config)\n",
        "with tf.io.gfile.GFile(files['PIPELINE_CONFIG'], \"wb\") as f:\n",
        "    f.write(config_text)"
      ]
    },
    {
      "cell_type": "markdown",
      "metadata": {
        "id": "Zr3ON7xMpfDG"
      },
      "source": [
        "# 6. Train the model"
      ]
    },
    {
      "cell_type": "code",
      "execution_count": 26,
      "metadata": {
        "id": "B-Y2UQmQpfDG"
      },
      "outputs": [],
      "source": [
        "TRAINING_SCRIPT = os.path.join(paths['APIMODEL_PATH'], 'research', 'object_detection', 'model_main_tf2.py')"
      ]
    },
    {
      "cell_type": "code",
      "execution_count": 27,
      "metadata": {
        "id": "jMP2XDfQpfDH"
      },
      "outputs": [],
      "source": [
        "command = \"python {} --model_dir={} --pipeline_config_path={} --num_train_steps=10000\".format(TRAINING_SCRIPT, paths['CHECKPOINT_PATH'],files['PIPELINE_CONFIG'])"
      ]
    },
    {
      "cell_type": "code",
      "execution_count": 28,
      "metadata": {
        "id": "A4OXXi-ApfDH",
        "colab": {
          "base_uri": "https://localhost:8080/"
        },
        "outputId": "daefee0d-d52f-4f71-ef5d-a39cbf829884"
      },
      "outputs": [
        {
          "output_type": "stream",
          "name": "stdout",
          "text": [
            "python Tensorflow/models/research/object_detection/model_main_tf2.py --model_dir=Tensorflow/workspace/models/my_ssd_mobnet --pipeline_config_path=Tensorflow/workspace/models/my_ssd_mobnet/pipeline.config --num_train_steps=10000\n"
          ]
        }
      ],
      "source": [
        "print(command)"
      ]
    },
    {
      "cell_type": "code",
      "source": [
        "!pip install tensorflow==2.13.0"
      ],
      "metadata": {
        "colab": {
          "base_uri": "https://localhost:8080/",
          "height": 1000
        },
        "id": "bJ6UFqO1a95s",
        "outputId": "c66e6c90-56e9-43dc-9d18-e369b974300b"
      },
      "execution_count": 29,
      "outputs": [
        {
          "output_type": "stream",
          "name": "stdout",
          "text": [
            "Collecting tensorflow==2.13.0\n",
            "  Downloading tensorflow-2.13.0-cp310-cp310-manylinux_2_17_x86_64.manylinux2014_x86_64.whl (524.1 MB)\n",
            "\u001b[2K     \u001b[90m━━━━━━━━━━━━━━━━━━━━━━━━━━━━━━━━━━━━━━━━\u001b[0m \u001b[32m524.1/524.1 MB\u001b[0m \u001b[31m3.2 MB/s\u001b[0m eta \u001b[36m0:00:00\u001b[0m\n",
            "\u001b[?25hRequirement already satisfied: absl-py>=1.0.0 in /usr/local/lib/python3.10/dist-packages (from tensorflow==2.13.0) (1.4.0)\n",
            "Requirement already satisfied: astunparse>=1.6.0 in /usr/local/lib/python3.10/dist-packages (from tensorflow==2.13.0) (1.6.3)\n",
            "Requirement already satisfied: flatbuffers>=23.1.21 in /usr/local/lib/python3.10/dist-packages (from tensorflow==2.13.0) (23.5.26)\n",
            "Collecting gast<=0.4.0,>=0.2.1 (from tensorflow==2.13.0)\n",
            "  Downloading gast-0.4.0-py3-none-any.whl (9.8 kB)\n",
            "Requirement already satisfied: google-pasta>=0.1.1 in /usr/local/lib/python3.10/dist-packages (from tensorflow==2.13.0) (0.2.0)\n",
            "Requirement already satisfied: grpcio<2.0,>=1.24.3 in /usr/local/lib/python3.10/dist-packages (from tensorflow==2.13.0) (1.60.0)\n",
            "Requirement already satisfied: h5py>=2.9.0 in /usr/local/lib/python3.10/dist-packages (from tensorflow==2.13.0) (3.9.0)\n",
            "Collecting keras<2.14,>=2.13.1 (from tensorflow==2.13.0)\n",
            "  Downloading keras-2.13.1-py3-none-any.whl (1.7 MB)\n",
            "\u001b[2K     \u001b[90m━━━━━━━━━━━━━━━━━━━━━━━━━━━━━━━━━━━━━━━━\u001b[0m \u001b[32m1.7/1.7 MB\u001b[0m \u001b[31m91.2 MB/s\u001b[0m eta \u001b[36m0:00:00\u001b[0m\n",
            "\u001b[?25hRequirement already satisfied: libclang>=13.0.0 in /usr/local/lib/python3.10/dist-packages (from tensorflow==2.13.0) (16.0.6)\n",
            "Requirement already satisfied: numpy<=1.24.3,>=1.22 in /usr/local/lib/python3.10/dist-packages (from tensorflow==2.13.0) (1.23.5)\n",
            "Requirement already satisfied: opt-einsum>=2.3.2 in /usr/local/lib/python3.10/dist-packages (from tensorflow==2.13.0) (3.3.0)\n",
            "Requirement already satisfied: packaging in /usr/local/lib/python3.10/dist-packages (from tensorflow==2.13.0) (23.2)\n",
            "Requirement already satisfied: protobuf!=4.21.0,!=4.21.1,!=4.21.2,!=4.21.3,!=4.21.4,!=4.21.5,<5.0.0dev,>=3.20.3 in /usr/local/lib/python3.10/dist-packages (from tensorflow==2.13.0) (3.20.3)\n",
            "Requirement already satisfied: setuptools in /usr/local/lib/python3.10/dist-packages (from tensorflow==2.13.0) (67.7.2)\n",
            "Requirement already satisfied: six>=1.12.0 in /usr/local/lib/python3.10/dist-packages (from tensorflow==2.13.0) (1.16.0)\n",
            "Collecting tensorboard<2.14,>=2.13 (from tensorflow==2.13.0)\n",
            "  Downloading tensorboard-2.13.0-py3-none-any.whl (5.6 MB)\n",
            "\u001b[2K     \u001b[90m━━━━━━━━━━━━━━━━━━━━━━━━━━━━━━━━━━━━━━━━\u001b[0m \u001b[32m5.6/5.6 MB\u001b[0m \u001b[31m65.5 MB/s\u001b[0m eta \u001b[36m0:00:00\u001b[0m\n",
            "\u001b[?25hCollecting tensorflow-estimator<2.14,>=2.13.0 (from tensorflow==2.13.0)\n",
            "  Downloading tensorflow_estimator-2.13.0-py2.py3-none-any.whl (440 kB)\n",
            "\u001b[2K     \u001b[90m━━━━━━━━━━━━━━━━━━━━━━━━━━━━━━━━━━━━━━━━\u001b[0m \u001b[32m440.8/440.8 kB\u001b[0m \u001b[31m48.9 MB/s\u001b[0m eta \u001b[36m0:00:00\u001b[0m\n",
            "\u001b[?25hRequirement already satisfied: termcolor>=1.1.0 in /usr/local/lib/python3.10/dist-packages (from tensorflow==2.13.0) (2.4.0)\n",
            "Requirement already satisfied: typing-extensions<4.6.0,>=3.6.6 in /usr/local/lib/python3.10/dist-packages (from tensorflow==2.13.0) (4.5.0)\n",
            "Requirement already satisfied: wrapt>=1.11.0 in /usr/local/lib/python3.10/dist-packages (from tensorflow==2.13.0) (1.14.1)\n",
            "Requirement already satisfied: tensorflow-io-gcs-filesystem>=0.23.1 in /usr/local/lib/python3.10/dist-packages (from tensorflow==2.13.0) (0.35.0)\n",
            "Requirement already satisfied: wheel<1.0,>=0.23.0 in /usr/local/lib/python3.10/dist-packages (from astunparse>=1.6.0->tensorflow==2.13.0) (0.42.0)\n",
            "Requirement already satisfied: google-auth<3,>=1.6.3 in /usr/local/lib/python3.10/dist-packages (from tensorboard<2.14,>=2.13->tensorflow==2.13.0) (2.17.3)\n",
            "Collecting google-auth-oauthlib<1.1,>=0.5 (from tensorboard<2.14,>=2.13->tensorflow==2.13.0)\n",
            "  Downloading google_auth_oauthlib-1.0.0-py2.py3-none-any.whl (18 kB)\n",
            "Requirement already satisfied: markdown>=2.6.8 in /usr/local/lib/python3.10/dist-packages (from tensorboard<2.14,>=2.13->tensorflow==2.13.0) (3.5.1)\n",
            "Requirement already satisfied: requests<3,>=2.21.0 in /usr/local/lib/python3.10/dist-packages (from tensorboard<2.14,>=2.13->tensorflow==2.13.0) (2.31.0)\n",
            "Requirement already satisfied: tensorboard-data-server<0.8.0,>=0.7.0 in /usr/local/lib/python3.10/dist-packages (from tensorboard<2.14,>=2.13->tensorflow==2.13.0) (0.7.2)\n",
            "Requirement already satisfied: werkzeug>=1.0.1 in /usr/local/lib/python3.10/dist-packages (from tensorboard<2.14,>=2.13->tensorflow==2.13.0) (3.0.1)\n",
            "Requirement already satisfied: cachetools<6.0,>=2.0.0 in /usr/local/lib/python3.10/dist-packages (from google-auth<3,>=1.6.3->tensorboard<2.14,>=2.13->tensorflow==2.13.0) (5.3.2)\n",
            "Requirement already satisfied: pyasn1-modules>=0.2.1 in /usr/local/lib/python3.10/dist-packages (from google-auth<3,>=1.6.3->tensorboard<2.14,>=2.13->tensorflow==2.13.0) (0.3.0)\n",
            "Requirement already satisfied: rsa<5,>=3.1.4 in /usr/local/lib/python3.10/dist-packages (from google-auth<3,>=1.6.3->tensorboard<2.14,>=2.13->tensorflow==2.13.0) (4.9)\n",
            "Requirement already satisfied: requests-oauthlib>=0.7.0 in /usr/local/lib/python3.10/dist-packages (from google-auth-oauthlib<1.1,>=0.5->tensorboard<2.14,>=2.13->tensorflow==2.13.0) (1.3.1)\n",
            "Requirement already satisfied: charset-normalizer<4,>=2 in /usr/local/lib/python3.10/dist-packages (from requests<3,>=2.21.0->tensorboard<2.14,>=2.13->tensorflow==2.13.0) (3.3.2)\n",
            "Requirement already satisfied: idna<4,>=2.5 in /usr/local/lib/python3.10/dist-packages (from requests<3,>=2.21.0->tensorboard<2.14,>=2.13->tensorflow==2.13.0) (3.6)\n",
            "Requirement already satisfied: urllib3<3,>=1.21.1 in /usr/local/lib/python3.10/dist-packages (from requests<3,>=2.21.0->tensorboard<2.14,>=2.13->tensorflow==2.13.0) (2.0.7)\n",
            "Requirement already satisfied: certifi>=2017.4.17 in /usr/local/lib/python3.10/dist-packages (from requests<3,>=2.21.0->tensorboard<2.14,>=2.13->tensorflow==2.13.0) (2023.11.17)\n",
            "Requirement already satisfied: MarkupSafe>=2.1.1 in /usr/local/lib/python3.10/dist-packages (from werkzeug>=1.0.1->tensorboard<2.14,>=2.13->tensorflow==2.13.0) (2.1.3)\n",
            "Requirement already satisfied: pyasn1<0.6.0,>=0.4.6 in /usr/local/lib/python3.10/dist-packages (from pyasn1-modules>=0.2.1->google-auth<3,>=1.6.3->tensorboard<2.14,>=2.13->tensorflow==2.13.0) (0.5.1)\n",
            "Requirement already satisfied: oauthlib>=3.0.0 in /usr/local/lib/python3.10/dist-packages (from requests-oauthlib>=0.7.0->google-auth-oauthlib<1.1,>=0.5->tensorboard<2.14,>=2.13->tensorflow==2.13.0) (3.2.2)\n",
            "Installing collected packages: tensorflow-estimator, keras, gast, google-auth-oauthlib, tensorboard, tensorflow\n",
            "  Attempting uninstall: tensorflow-estimator\n",
            "    Found existing installation: tensorflow-estimator 2.15.0\n",
            "    Uninstalling tensorflow-estimator-2.15.0:\n",
            "      Successfully uninstalled tensorflow-estimator-2.15.0\n",
            "  Attempting uninstall: keras\n",
            "    Found existing installation: keras 2.15.0\n",
            "    Uninstalling keras-2.15.0:\n",
            "      Successfully uninstalled keras-2.15.0\n",
            "  Attempting uninstall: gast\n",
            "    Found existing installation: gast 0.5.4\n",
            "    Uninstalling gast-0.5.4:\n",
            "      Successfully uninstalled gast-0.5.4\n",
            "  Attempting uninstall: google-auth-oauthlib\n",
            "    Found existing installation: google-auth-oauthlib 1.2.0\n",
            "    Uninstalling google-auth-oauthlib-1.2.0:\n",
            "      Successfully uninstalled google-auth-oauthlib-1.2.0\n",
            "  Attempting uninstall: tensorboard\n",
            "    Found existing installation: tensorboard 2.15.1\n",
            "    Uninstalling tensorboard-2.15.1:\n",
            "      Successfully uninstalled tensorboard-2.15.1\n",
            "  Attempting uninstall: tensorflow\n",
            "    Found existing installation: tensorflow 2.15.0\n",
            "    Uninstalling tensorflow-2.15.0:\n",
            "      Successfully uninstalled tensorflow-2.15.0\n",
            "\u001b[31mERROR: pip's dependency resolver does not currently take into account all the packages that are installed. This behaviour is the source of the following dependency conflicts.\n",
            "tensorflow-text 2.15.0 requires tensorflow<2.16,>=2.15.0; platform_machine != \"arm64\" or platform_system != \"Darwin\", but you have tensorflow 2.13.0 which is incompatible.\n",
            "tf-models-official 2.15.0 requires tensorflow~=2.15.0, but you have tensorflow 2.13.0 which is incompatible.\u001b[0m\u001b[31m\n",
            "\u001b[0mSuccessfully installed gast-0.4.0 google-auth-oauthlib-1.0.0 keras-2.13.1 tensorboard-2.13.0 tensorflow-2.13.0 tensorflow-estimator-2.13.0\n"
          ]
        },
        {
          "output_type": "display_data",
          "data": {
            "application/vnd.colab-display-data+json": {
              "pip_warning": {
                "packages": [
                  "gast",
                  "keras",
                  "tensorboard",
                  "tensorflow"
                ]
              }
            }
          },
          "metadata": {}
        }
      ]
    },
    {
      "cell_type": "code",
      "execution_count": 29,
      "metadata": {
        "id": "i3ZsJR-qpfDH",
        "colab": {
          "base_uri": "https://localhost:8080/"
        },
        "outputId": "8835fb4c-aaa0-4e2d-de6a-7b3251993f05"
      },
      "outputs": [
        {
          "output_type": "stream",
          "name": "stdout",
          "text": [
            "2023-12-25 01:39:26.566719: W tensorflow/compiler/tf2tensorrt/utils/py_utils.cc:38] TF-TRT Warning: Could not find TensorRT\n",
            "2023-12-25 01:39:29.724189: W tensorflow/core/common_runtime/gpu/gpu_device.cc:1960] Cannot dlopen some GPU libraries. Please make sure the missing libraries mentioned above are installed properly if you would like to use GPU. Follow the guide at https://www.tensorflow.org/install/gpu for how to download and setup the required libraries for your platform.\n",
            "Skipping registering GPU devices...\n",
            "INFO:tensorflow:Using MirroredStrategy with devices ('/job:localhost/replica:0/task:0/device:CPU:0',)\n",
            "I1225 01:39:29.725848 137911135928320 mirrored_strategy.py:419] Using MirroredStrategy with devices ('/job:localhost/replica:0/task:0/device:CPU:0',)\n",
            "INFO:tensorflow:Maybe overwriting train_steps: 10000\n",
            "I1225 01:39:29.756855 137911135928320 config_util.py:552] Maybe overwriting train_steps: 10000\n",
            "INFO:tensorflow:Maybe overwriting use_bfloat16: False\n",
            "I1225 01:39:29.757147 137911135928320 config_util.py:552] Maybe overwriting use_bfloat16: False\n",
            "WARNING:tensorflow:From /usr/local/lib/python3.10/dist-packages/object_detection/model_lib_v2.py:563: StrategyBase.experimental_distribute_datasets_from_function (from tensorflow.python.distribute.distribute_lib) is deprecated and will be removed in a future version.\n",
            "Instructions for updating:\n",
            "rename to distribute_datasets_from_function\n",
            "W1225 01:39:29.795821 137911135928320 deprecation.py:364] From /usr/local/lib/python3.10/dist-packages/object_detection/model_lib_v2.py:563: StrategyBase.experimental_distribute_datasets_from_function (from tensorflow.python.distribute.distribute_lib) is deprecated and will be removed in a future version.\n",
            "Instructions for updating:\n",
            "rename to distribute_datasets_from_function\n",
            "INFO:tensorflow:Reading unweighted datasets: ['Tensorflow/workspace/annotations/train.record']\n",
            "I1225 01:39:29.804314 137911135928320 dataset_builder.py:162] Reading unweighted datasets: ['Tensorflow/workspace/annotations/train.record']\n",
            "INFO:tensorflow:Reading record datasets for input file: ['Tensorflow/workspace/annotations/train.record']\n",
            "I1225 01:39:29.804559 137911135928320 dataset_builder.py:79] Reading record datasets for input file: ['Tensorflow/workspace/annotations/train.record']\n",
            "INFO:tensorflow:Number of filenames to read: 1\n",
            "I1225 01:39:29.804654 137911135928320 dataset_builder.py:80] Number of filenames to read: 1\n",
            "WARNING:tensorflow:num_readers has been reduced to 1 to match input file shards.\n",
            "W1225 01:39:29.804724 137911135928320 dataset_builder.py:86] num_readers has been reduced to 1 to match input file shards.\n",
            "WARNING:tensorflow:From /usr/local/lib/python3.10/dist-packages/object_detection/builders/dataset_builder.py:100: parallel_interleave (from tensorflow.python.data.experimental.ops.interleave_ops) is deprecated and will be removed in a future version.\n",
            "Instructions for updating:\n",
            "Use `tf.data.Dataset.interleave(map_func, cycle_length, block_length, num_parallel_calls=tf.data.AUTOTUNE)` instead. If sloppy execution is desired, use `tf.data.Options.deterministic`.\n",
            "W1225 01:39:29.813789 137911135928320 deprecation.py:364] From /usr/local/lib/python3.10/dist-packages/object_detection/builders/dataset_builder.py:100: parallel_interleave (from tensorflow.python.data.experimental.ops.interleave_ops) is deprecated and will be removed in a future version.\n",
            "Instructions for updating:\n",
            "Use `tf.data.Dataset.interleave(map_func, cycle_length, block_length, num_parallel_calls=tf.data.AUTOTUNE)` instead. If sloppy execution is desired, use `tf.data.Options.deterministic`.\n",
            "WARNING:tensorflow:From /usr/local/lib/python3.10/dist-packages/object_detection/builders/dataset_builder.py:235: DatasetV1.map_with_legacy_function (from tensorflow.python.data.ops.dataset_ops) is deprecated and will be removed in a future version.\n",
            "Instructions for updating:\n",
            "Use `tf.data.Dataset.map()\n",
            "W1225 01:39:29.838504 137911135928320 deprecation.py:364] From /usr/local/lib/python3.10/dist-packages/object_detection/builders/dataset_builder.py:235: DatasetV1.map_with_legacy_function (from tensorflow.python.data.ops.dataset_ops) is deprecated and will be removed in a future version.\n",
            "Instructions for updating:\n",
            "Use `tf.data.Dataset.map()\n",
            "WARNING:tensorflow:From /usr/local/lib/python3.10/dist-packages/tensorflow/python/util/dispatch.py:1176: sparse_to_dense (from tensorflow.python.ops.sparse_ops) is deprecated and will be removed in a future version.\n",
            "Instructions for updating:\n",
            "Create a `tf.sparse.SparseTensor` and use `tf.sparse.to_dense` instead.\n",
            "W1225 01:39:37.946998 137911135928320 deprecation.py:364] From /usr/local/lib/python3.10/dist-packages/tensorflow/python/util/dispatch.py:1176: sparse_to_dense (from tensorflow.python.ops.sparse_ops) is deprecated and will be removed in a future version.\n",
            "Instructions for updating:\n",
            "Create a `tf.sparse.SparseTensor` and use `tf.sparse.to_dense` instead.\n",
            "WARNING:tensorflow:From /usr/local/lib/python3.10/dist-packages/tensorflow/python/util/dispatch.py:1176: sample_distorted_bounding_box (from tensorflow.python.ops.image_ops_impl) is deprecated and will be removed in a future version.\n",
            "Instructions for updating:\n",
            "`seed2` arg is deprecated.Use sample_distorted_bounding_box_v2 instead.\n",
            "W1225 01:39:40.476089 137911135928320 deprecation.py:364] From /usr/local/lib/python3.10/dist-packages/tensorflow/python/util/dispatch.py:1176: sample_distorted_bounding_box (from tensorflow.python.ops.image_ops_impl) is deprecated and will be removed in a future version.\n",
            "Instructions for updating:\n",
            "`seed2` arg is deprecated.Use sample_distorted_bounding_box_v2 instead.\n",
            "WARNING:tensorflow:From /usr/local/lib/python3.10/dist-packages/tensorflow/python/util/dispatch.py:1176: to_float (from tensorflow.python.ops.math_ops) is deprecated and will be removed in a future version.\n",
            "Instructions for updating:\n",
            "Use `tf.cast` instead.\n",
            "W1225 01:39:42.097934 137911135928320 deprecation.py:364] From /usr/local/lib/python3.10/dist-packages/tensorflow/python/util/dispatch.py:1176: to_float (from tensorflow.python.ops.math_ops) is deprecated and will be removed in a future version.\n",
            "Instructions for updating:\n",
            "Use `tf.cast` instead.\n",
            "2023-12-25 01:39:44.642594: W tensorflow/core/framework/dataset.cc:956] Input of GeneratorDatasetOp::Dataset will not be optimized because the dataset does not implement the AsGraphDefInternal() method needed to apply optimizations.\n",
            "/usr/local/lib/python3.10/dist-packages/keras/src/backend.py:452: UserWarning: `tf.keras.backend.set_learning_phase` is deprecated and will be removed after 2020-10-11. To update it, simply pass a True/False value to the `training` argument of the `__call__` method of your layer or model.\n",
            "  warnings.warn(\n",
            "I1225 01:39:53.257517 137906850084416 api.py:460] feature_map_spatial_dims: [(40, 40), (20, 20), (10, 10), (5, 5), (3, 3)]\n",
            "I1225 01:40:02.167395 137906850084416 api.py:460] feature_map_spatial_dims: [(40, 40), (20, 20), (10, 10), (5, 5), (3, 3)]\n",
            "WARNING:tensorflow:From /usr/local/lib/python3.10/dist-packages/tensorflow/python/util/deprecation.py:648: calling map_fn_v2 (from tensorflow.python.ops.map_fn) with dtype is deprecated and will be removed in a future version.\n",
            "Instructions for updating:\n",
            "Use fn_output_signature instead\n",
            "W1225 01:40:07.980657 137906883655232 deprecation.py:569] From /usr/local/lib/python3.10/dist-packages/tensorflow/python/util/deprecation.py:648: calling map_fn_v2 (from tensorflow.python.ops.map_fn) with dtype is deprecated and will be removed in a future version.\n",
            "Instructions for updating:\n",
            "Use fn_output_signature instead\n",
            "I1225 01:40:09.334739 137906883655232 api.py:460] feature_map_spatial_dims: [(40, 40), (20, 20), (10, 10), (5, 5), (3, 3)]\n",
            "I1225 01:40:15.141399 137906883655232 api.py:460] feature_map_spatial_dims: [(40, 40), (20, 20), (10, 10), (5, 5), (3, 3)]\n",
            "I1225 01:40:20.890896 137906883655232 api.py:460] feature_map_spatial_dims: [(40, 40), (20, 20), (10, 10), (5, 5), (3, 3)]\n",
            "I1225 01:40:26.330098 137906883655232 api.py:460] feature_map_spatial_dims: [(40, 40), (20, 20), (10, 10), (5, 5), (3, 3)]\n",
            "INFO:tensorflow:Step 100 per-step time 1.719s\n",
            "I1225 01:42:59.522289 137911135928320 model_lib_v2.py:705] Step 100 per-step time 1.719s\n",
            "INFO:tensorflow:{'Loss/classification_loss': 0.5307881,\n",
            " 'Loss/localization_loss': 0.48510703,\n",
            " 'Loss/regularization_loss': 0.15452747,\n",
            " 'Loss/total_loss': 1.1704226,\n",
            " 'learning_rate': 0.0319994}\n",
            "I1225 01:42:59.522708 137911135928320 model_lib_v2.py:708] {'Loss/classification_loss': 0.5307881,\n",
            " 'Loss/localization_loss': 0.48510703,\n",
            " 'Loss/regularization_loss': 0.15452747,\n",
            " 'Loss/total_loss': 1.1704226,\n",
            " 'learning_rate': 0.0319994}\n",
            "INFO:tensorflow:Step 200 per-step time 1.407s\n",
            "I1225 01:45:20.236721 137911135928320 model_lib_v2.py:705] Step 200 per-step time 1.407s\n",
            "INFO:tensorflow:{'Loss/classification_loss': 0.2715302,\n",
            " 'Loss/localization_loss': 0.56930894,\n",
            " 'Loss/regularization_loss': 0.15460508,\n",
            " 'Loss/total_loss': 0.99544424,\n",
            " 'learning_rate': 0.0373328}\n",
            "I1225 01:45:20.237068 137911135928320 model_lib_v2.py:708] {'Loss/classification_loss': 0.2715302,\n",
            " 'Loss/localization_loss': 0.56930894,\n",
            " 'Loss/regularization_loss': 0.15460508,\n",
            " 'Loss/total_loss': 0.99544424,\n",
            " 'learning_rate': 0.0373328}\n",
            "INFO:tensorflow:Step 300 per-step time 1.426s\n",
            "I1225 01:47:42.812084 137911135928320 model_lib_v2.py:705] Step 300 per-step time 1.426s\n",
            "INFO:tensorflow:{'Loss/classification_loss': 0.31792828,\n",
            " 'Loss/localization_loss': 0.31203744,\n",
            " 'Loss/regularization_loss': 0.154721,\n",
            " 'Loss/total_loss': 0.7846867,\n",
            " 'learning_rate': 0.0426662}\n",
            "I1225 01:47:42.812431 137911135928320 model_lib_v2.py:708] {'Loss/classification_loss': 0.31792828,\n",
            " 'Loss/localization_loss': 0.31203744,\n",
            " 'Loss/regularization_loss': 0.154721,\n",
            " 'Loss/total_loss': 0.7846867,\n",
            " 'learning_rate': 0.0426662}\n",
            "INFO:tensorflow:Step 400 per-step time 1.390s\n",
            "I1225 01:50:01.782817 137911135928320 model_lib_v2.py:705] Step 400 per-step time 1.390s\n",
            "INFO:tensorflow:{'Loss/classification_loss': 0.26882035,\n",
            " 'Loss/localization_loss': 0.31039876,\n",
            " 'Loss/regularization_loss': 0.15491188,\n",
            " 'Loss/total_loss': 0.734131,\n",
            " 'learning_rate': 0.047999598}\n",
            "I1225 01:50:01.783245 137911135928320 model_lib_v2.py:708] {'Loss/classification_loss': 0.26882035,\n",
            " 'Loss/localization_loss': 0.31039876,\n",
            " 'Loss/regularization_loss': 0.15491188,\n",
            " 'Loss/total_loss': 0.734131,\n",
            " 'learning_rate': 0.047999598}\n",
            "INFO:tensorflow:Step 500 per-step time 1.432s\n",
            "I1225 01:52:25.022474 137911135928320 model_lib_v2.py:705] Step 500 per-step time 1.432s\n",
            "INFO:tensorflow:{'Loss/classification_loss': 0.29558706,\n",
            " 'Loss/localization_loss': 0.31910378,\n",
            " 'Loss/regularization_loss': 0.15493836,\n",
            " 'Loss/total_loss': 0.7696292,\n",
            " 'learning_rate': 0.053333}\n",
            "I1225 01:52:25.022909 137911135928320 model_lib_v2.py:708] {'Loss/classification_loss': 0.29558706,\n",
            " 'Loss/localization_loss': 0.31910378,\n",
            " 'Loss/regularization_loss': 0.15493836,\n",
            " 'Loss/total_loss': 0.7696292,\n",
            " 'learning_rate': 0.053333}\n",
            "INFO:tensorflow:Step 600 per-step time 1.416s\n",
            "I1225 01:54:46.577608 137911135928320 model_lib_v2.py:705] Step 600 per-step time 1.416s\n",
            "INFO:tensorflow:{'Loss/classification_loss': 0.36298046,\n",
            " 'Loss/localization_loss': 0.39485046,\n",
            " 'Loss/regularization_loss': 0.15512179,\n",
            " 'Loss/total_loss': 0.91295266,\n",
            " 'learning_rate': 0.0586664}\n",
            "I1225 01:54:46.578021 137911135928320 model_lib_v2.py:708] {'Loss/classification_loss': 0.36298046,\n",
            " 'Loss/localization_loss': 0.39485046,\n",
            " 'Loss/regularization_loss': 0.15512179,\n",
            " 'Loss/total_loss': 0.91295266,\n",
            " 'learning_rate': 0.0586664}\n",
            "INFO:tensorflow:Step 700 per-step time 1.382s\n",
            "I1225 01:57:04.812588 137911135928320 model_lib_v2.py:705] Step 700 per-step time 1.382s\n",
            "INFO:tensorflow:{'Loss/classification_loss': 0.4211794,\n",
            " 'Loss/localization_loss': 0.32657126,\n",
            " 'Loss/regularization_loss': 0.15535754,\n",
            " 'Loss/total_loss': 0.90310824,\n",
            " 'learning_rate': 0.0639998}\n",
            "I1225 01:57:04.812944 137911135928320 model_lib_v2.py:708] {'Loss/classification_loss': 0.4211794,\n",
            " 'Loss/localization_loss': 0.32657126,\n",
            " 'Loss/regularization_loss': 0.15535754,\n",
            " 'Loss/total_loss': 0.90310824,\n",
            " 'learning_rate': 0.0639998}\n",
            "INFO:tensorflow:Step 800 per-step time 1.410s\n",
            "I1225 01:59:25.854721 137911135928320 model_lib_v2.py:705] Step 800 per-step time 1.410s\n",
            "INFO:tensorflow:{'Loss/classification_loss': 0.22902021,\n",
            " 'Loss/localization_loss': 0.19892697,\n",
            " 'Loss/regularization_loss': 0.15556069,\n",
            " 'Loss/total_loss': 0.5835079,\n",
            " 'learning_rate': 0.069333196}\n",
            "I1225 01:59:25.855075 137911135928320 model_lib_v2.py:708] {'Loss/classification_loss': 0.22902021,\n",
            " 'Loss/localization_loss': 0.19892697,\n",
            " 'Loss/regularization_loss': 0.15556069,\n",
            " 'Loss/total_loss': 0.5835079,\n",
            " 'learning_rate': 0.069333196}\n",
            "INFO:tensorflow:Step 900 per-step time 1.413s\n",
            "I1225 02:01:47.185235 137911135928320 model_lib_v2.py:705] Step 900 per-step time 1.413s\n",
            "INFO:tensorflow:{'Loss/classification_loss': 0.22190012,\n",
            " 'Loss/localization_loss': 0.30369252,\n",
            " 'Loss/regularization_loss': 0.15552035,\n",
            " 'Loss/total_loss': 0.681113,\n",
            " 'learning_rate': 0.074666604}\n",
            "I1225 02:01:47.185685 137911135928320 model_lib_v2.py:708] {'Loss/classification_loss': 0.22190012,\n",
            " 'Loss/localization_loss': 0.30369252,\n",
            " 'Loss/regularization_loss': 0.15552035,\n",
            " 'Loss/total_loss': 0.681113,\n",
            " 'learning_rate': 0.074666604}\n",
            "INFO:tensorflow:Step 1000 per-step time 1.388s\n",
            "I1225 02:04:06.001921 137911135928320 model_lib_v2.py:705] Step 1000 per-step time 1.388s\n",
            "INFO:tensorflow:{'Loss/classification_loss': 0.18280777,\n",
            " 'Loss/localization_loss': 0.12912904,\n",
            " 'Loss/regularization_loss': 0.15547733,\n",
            " 'Loss/total_loss': 0.46741414,\n",
            " 'learning_rate': 0.08}\n",
            "I1225 02:04:06.002300 137911135928320 model_lib_v2.py:708] {'Loss/classification_loss': 0.18280777,\n",
            " 'Loss/localization_loss': 0.12912904,\n",
            " 'Loss/regularization_loss': 0.15547733,\n",
            " 'Loss/total_loss': 0.46741414,\n",
            " 'learning_rate': 0.08}\n",
            "INFO:tensorflow:Step 1100 per-step time 1.434s\n",
            "I1225 02:06:29.365809 137911135928320 model_lib_v2.py:705] Step 1100 per-step time 1.434s\n",
            "INFO:tensorflow:{'Loss/classification_loss': 0.35497135,\n",
            " 'Loss/localization_loss': 0.20563254,\n",
            " 'Loss/regularization_loss': 0.15557858,\n",
            " 'Loss/total_loss': 0.7161825,\n",
            " 'learning_rate': 0.07999918}\n",
            "I1225 02:06:29.366210 137911135928320 model_lib_v2.py:708] {'Loss/classification_loss': 0.35497135,\n",
            " 'Loss/localization_loss': 0.20563254,\n",
            " 'Loss/regularization_loss': 0.15557858,\n",
            " 'Loss/total_loss': 0.7161825,\n",
            " 'learning_rate': 0.07999918}\n",
            "INFO:tensorflow:Step 1200 per-step time 1.427s\n",
            "I1225 02:08:52.114225 137911135928320 model_lib_v2.py:705] Step 1200 per-step time 1.427s\n",
            "INFO:tensorflow:{'Loss/classification_loss': 0.2274478,\n",
            " 'Loss/localization_loss': 0.18102518,\n",
            " 'Loss/regularization_loss': 0.1555313,\n",
            " 'Loss/total_loss': 0.5640043,\n",
            " 'learning_rate': 0.079996705}\n",
            "I1225 02:08:52.114633 137911135928320 model_lib_v2.py:708] {'Loss/classification_loss': 0.2274478,\n",
            " 'Loss/localization_loss': 0.18102518,\n",
            " 'Loss/regularization_loss': 0.1555313,\n",
            " 'Loss/total_loss': 0.5640043,\n",
            " 'learning_rate': 0.079996705}\n",
            "INFO:tensorflow:Step 1300 per-step time 1.395s\n",
            "I1225 02:11:11.600093 137911135928320 model_lib_v2.py:705] Step 1300 per-step time 1.395s\n",
            "INFO:tensorflow:{'Loss/classification_loss': 0.24052548,\n",
            " 'Loss/localization_loss': 0.2723488,\n",
            " 'Loss/regularization_loss': 0.15554915,\n",
            " 'Loss/total_loss': 0.6684234,\n",
            " 'learning_rate': 0.0799926}\n",
            "I1225 02:11:11.600445 137911135928320 model_lib_v2.py:708] {'Loss/classification_loss': 0.24052548,\n",
            " 'Loss/localization_loss': 0.2723488,\n",
            " 'Loss/regularization_loss': 0.15554915,\n",
            " 'Loss/total_loss': 0.6684234,\n",
            " 'learning_rate': 0.0799926}\n",
            "INFO:tensorflow:Step 1400 per-step time 1.415s\n",
            "I1225 02:13:33.065493 137911135928320 model_lib_v2.py:705] Step 1400 per-step time 1.415s\n",
            "INFO:tensorflow:{'Loss/classification_loss': 0.14828876,\n",
            " 'Loss/localization_loss': 0.12503093,\n",
            " 'Loss/regularization_loss': 0.15545952,\n",
            " 'Loss/total_loss': 0.4287792,\n",
            " 'learning_rate': 0.07998685}\n",
            "I1225 02:13:33.065938 137911135928320 model_lib_v2.py:708] {'Loss/classification_loss': 0.14828876,\n",
            " 'Loss/localization_loss': 0.12503093,\n",
            " 'Loss/regularization_loss': 0.15545952,\n",
            " 'Loss/total_loss': 0.4287792,\n",
            " 'learning_rate': 0.07998685}\n",
            "INFO:tensorflow:Step 1500 per-step time 1.406s\n",
            "I1225 02:15:53.615031 137911135928320 model_lib_v2.py:705] Step 1500 per-step time 1.406s\n",
            "INFO:tensorflow:{'Loss/classification_loss': 0.21547411,\n",
            " 'Loss/localization_loss': 0.26016507,\n",
            " 'Loss/regularization_loss': 0.15516925,\n",
            " 'Loss/total_loss': 0.6308085,\n",
            " 'learning_rate': 0.07997945}\n",
            "I1225 02:15:53.615437 137911135928320 model_lib_v2.py:708] {'Loss/classification_loss': 0.21547411,\n",
            " 'Loss/localization_loss': 0.26016507,\n",
            " 'Loss/regularization_loss': 0.15516925,\n",
            " 'Loss/total_loss': 0.6308085,\n",
            " 'learning_rate': 0.07997945}\n",
            "INFO:tensorflow:Step 1600 per-step time 1.388s\n",
            "I1225 02:18:12.386813 137911135928320 model_lib_v2.py:705] Step 1600 per-step time 1.388s\n",
            "INFO:tensorflow:{'Loss/classification_loss': 0.16590817,\n",
            " 'Loss/localization_loss': 0.090509064,\n",
            " 'Loss/regularization_loss': 0.15505432,\n",
            " 'Loss/total_loss': 0.41147155,\n",
            " 'learning_rate': 0.079970405}\n",
            "I1225 02:18:12.387154 137911135928320 model_lib_v2.py:708] {'Loss/classification_loss': 0.16590817,\n",
            " 'Loss/localization_loss': 0.090509064,\n",
            " 'Loss/regularization_loss': 0.15505432,\n",
            " 'Loss/total_loss': 0.41147155,\n",
            " 'learning_rate': 0.079970405}\n",
            "INFO:tensorflow:Step 1700 per-step time 1.426s\n",
            "I1225 02:20:34.949409 137911135928320 model_lib_v2.py:705] Step 1700 per-step time 1.426s\n",
            "INFO:tensorflow:{'Loss/classification_loss': 0.196058,\n",
            " 'Loss/localization_loss': 0.1622961,\n",
            " 'Loss/regularization_loss': 0.154761,\n",
            " 'Loss/total_loss': 0.5131151,\n",
            " 'learning_rate': 0.07995972}\n",
            "I1225 02:20:34.949759 137911135928320 model_lib_v2.py:708] {'Loss/classification_loss': 0.196058,\n",
            " 'Loss/localization_loss': 0.1622961,\n",
            " 'Loss/regularization_loss': 0.154761,\n",
            " 'Loss/total_loss': 0.5131151,\n",
            " 'learning_rate': 0.07995972}\n",
            "INFO:tensorflow:Step 1800 per-step time 1.411s\n",
            "I1225 02:22:56.066283 137911135928320 model_lib_v2.py:705] Step 1800 per-step time 1.411s\n",
            "INFO:tensorflow:{'Loss/classification_loss': 0.25098747,\n",
            " 'Loss/localization_loss': 0.11186856,\n",
            " 'Loss/regularization_loss': 0.15451805,\n",
            " 'Loss/total_loss': 0.5173741,\n",
            " 'learning_rate': 0.0799474}\n",
            "I1225 02:22:56.066698 137911135928320 model_lib_v2.py:708] {'Loss/classification_loss': 0.25098747,\n",
            " 'Loss/localization_loss': 0.11186856,\n",
            " 'Loss/regularization_loss': 0.15451805,\n",
            " 'Loss/total_loss': 0.5173741,\n",
            " 'learning_rate': 0.0799474}\n",
            "INFO:tensorflow:Step 1900 per-step time 1.357s\n",
            "I1225 02:25:11.742318 137911135928320 model_lib_v2.py:705] Step 1900 per-step time 1.357s\n",
            "INFO:tensorflow:{'Loss/classification_loss': 0.19261725,\n",
            " 'Loss/localization_loss': 0.14877398,\n",
            " 'Loss/regularization_loss': 0.15442492,\n",
            " 'Loss/total_loss': 0.49581617,\n",
            " 'learning_rate': 0.07993342}\n",
            "I1225 02:25:11.742757 137911135928320 model_lib_v2.py:708] {'Loss/classification_loss': 0.19261725,\n",
            " 'Loss/localization_loss': 0.14877398,\n",
            " 'Loss/regularization_loss': 0.15442492,\n",
            " 'Loss/total_loss': 0.49581617,\n",
            " 'learning_rate': 0.07993342}\n",
            "INFO:tensorflow:Step 2000 per-step time 1.395s\n",
            "I1225 02:27:31.234684 137911135928320 model_lib_v2.py:705] Step 2000 per-step time 1.395s\n",
            "INFO:tensorflow:{'Loss/classification_loss': 0.22284558,\n",
            " 'Loss/localization_loss': 0.15994543,\n",
            " 'Loss/regularization_loss': 0.15409267,\n",
            " 'Loss/total_loss': 0.5368837,\n",
            " 'learning_rate': 0.07991781}\n",
            "I1225 02:27:31.235032 137911135928320 model_lib_v2.py:708] {'Loss/classification_loss': 0.22284558,\n",
            " 'Loss/localization_loss': 0.15994543,\n",
            " 'Loss/regularization_loss': 0.15409267,\n",
            " 'Loss/total_loss': 0.5368837,\n",
            " 'learning_rate': 0.07991781}\n",
            "INFO:tensorflow:Step 2100 per-step time 1.422s\n",
            "I1225 02:29:53.444089 137911135928320 model_lib_v2.py:705] Step 2100 per-step time 1.422s\n",
            "INFO:tensorflow:{'Loss/classification_loss': 0.15481462,\n",
            " 'Loss/localization_loss': 0.25382596,\n",
            " 'Loss/regularization_loss': 0.15401842,\n",
            " 'Loss/total_loss': 0.56265897,\n",
            " 'learning_rate': 0.07990056}\n",
            "I1225 02:29:53.444454 137911135928320 model_lib_v2.py:708] {'Loss/classification_loss': 0.15481462,\n",
            " 'Loss/localization_loss': 0.25382596,\n",
            " 'Loss/regularization_loss': 0.15401842,\n",
            " 'Loss/total_loss': 0.56265897,\n",
            " 'learning_rate': 0.07990056}\n",
            "INFO:tensorflow:Step 2200 per-step time 1.383s\n",
            "I1225 02:32:11.784212 137911135928320 model_lib_v2.py:705] Step 2200 per-step time 1.383s\n",
            "INFO:tensorflow:{'Loss/classification_loss': 0.19915433,\n",
            " 'Loss/localization_loss': 0.19607145,\n",
            " 'Loss/regularization_loss': 0.15381996,\n",
            " 'Loss/total_loss': 0.54904574,\n",
            " 'learning_rate': 0.07988167}\n",
            "I1225 02:32:11.784600 137911135928320 model_lib_v2.py:708] {'Loss/classification_loss': 0.19915433,\n",
            " 'Loss/localization_loss': 0.19607145,\n",
            " 'Loss/regularization_loss': 0.15381996,\n",
            " 'Loss/total_loss': 0.54904574,\n",
            " 'learning_rate': 0.07988167}\n",
            "INFO:tensorflow:Step 2300 per-step time 1.423s\n",
            "I1225 02:34:34.049382 137911135928320 model_lib_v2.py:705] Step 2300 per-step time 1.423s\n",
            "INFO:tensorflow:{'Loss/classification_loss': 0.10530685,\n",
            " 'Loss/localization_loss': 0.061689045,\n",
            " 'Loss/regularization_loss': 0.15336987,\n",
            " 'Loss/total_loss': 0.3203658,\n",
            " 'learning_rate': 0.07986114}\n",
            "I1225 02:34:34.049845 137911135928320 model_lib_v2.py:708] {'Loss/classification_loss': 0.10530685,\n",
            " 'Loss/localization_loss': 0.061689045,\n",
            " 'Loss/regularization_loss': 0.15336987,\n",
            " 'Loss/total_loss': 0.3203658,\n",
            " 'learning_rate': 0.07986114}\n",
            "INFO:tensorflow:Step 2400 per-step time 1.415s\n",
            "I1225 02:36:55.534945 137911135928320 model_lib_v2.py:705] Step 2400 per-step time 1.415s\n",
            "INFO:tensorflow:{'Loss/classification_loss': 0.14352688,\n",
            " 'Loss/localization_loss': 0.06183814,\n",
            " 'Loss/regularization_loss': 0.15299632,\n",
            " 'Loss/total_loss': 0.35836136,\n",
            " 'learning_rate': 0.07983897}\n",
            "I1225 02:36:55.535353 137911135928320 model_lib_v2.py:708] {'Loss/classification_loss': 0.14352688,\n",
            " 'Loss/localization_loss': 0.06183814,\n",
            " 'Loss/regularization_loss': 0.15299632,\n",
            " 'Loss/total_loss': 0.35836136,\n",
            " 'learning_rate': 0.07983897}\n",
            "INFO:tensorflow:Step 2500 per-step time 1.366s\n",
            "I1225 02:39:12.154338 137911135928320 model_lib_v2.py:705] Step 2500 per-step time 1.366s\n",
            "INFO:tensorflow:{'Loss/classification_loss': 0.0892626,\n",
            " 'Loss/localization_loss': 0.09676932,\n",
            " 'Loss/regularization_loss': 0.15255474,\n",
            " 'Loss/total_loss': 0.33858666,\n",
            " 'learning_rate': 0.079815164}\n",
            "I1225 02:39:12.154756 137911135928320 model_lib_v2.py:708] {'Loss/classification_loss': 0.0892626,\n",
            " 'Loss/localization_loss': 0.09676932,\n",
            " 'Loss/regularization_loss': 0.15255474,\n",
            " 'Loss/total_loss': 0.33858666,\n",
            " 'learning_rate': 0.079815164}\n",
            "INFO:tensorflow:Step 2600 per-step time 1.409s\n",
            "I1225 02:41:33.072971 137911135928320 model_lib_v2.py:705] Step 2600 per-step time 1.409s\n",
            "INFO:tensorflow:{'Loss/classification_loss': 0.27771807,\n",
            " 'Loss/localization_loss': 0.12419666,\n",
            " 'Loss/regularization_loss': 0.15214884,\n",
            " 'Loss/total_loss': 0.55406356,\n",
            " 'learning_rate': 0.07978972}\n",
            "I1225 02:41:33.073318 137911135928320 model_lib_v2.py:708] {'Loss/classification_loss': 0.27771807,\n",
            " 'Loss/localization_loss': 0.12419666,\n",
            " 'Loss/regularization_loss': 0.15214884,\n",
            " 'Loss/total_loss': 0.55406356,\n",
            " 'learning_rate': 0.07978972}\n",
            "INFO:tensorflow:Step 2700 per-step time 1.400s\n",
            "I1225 02:43:53.043629 137911135928320 model_lib_v2.py:705] Step 2700 per-step time 1.400s\n",
            "INFO:tensorflow:{'Loss/classification_loss': 0.26193023,\n",
            " 'Loss/localization_loss': 0.21668795,\n",
            " 'Loss/regularization_loss': 0.15176764,\n",
            " 'Loss/total_loss': 0.6303858,\n",
            " 'learning_rate': 0.07976264}\n",
            "I1225 02:43:53.044011 137911135928320 model_lib_v2.py:708] {'Loss/classification_loss': 0.26193023,\n",
            " 'Loss/localization_loss': 0.21668795,\n",
            " 'Loss/regularization_loss': 0.15176764,\n",
            " 'Loss/total_loss': 0.6303858,\n",
            " 'learning_rate': 0.07976264}\n",
            "INFO:tensorflow:Step 2800 per-step time 1.389s\n",
            "I1225 02:46:11.929587 137911135928320 model_lib_v2.py:705] Step 2800 per-step time 1.389s\n",
            "INFO:tensorflow:{'Loss/classification_loss': 0.15635385,\n",
            " 'Loss/localization_loss': 0.11679827,\n",
            " 'Loss/regularization_loss': 0.15133117,\n",
            " 'Loss/total_loss': 0.4244833,\n",
            " 'learning_rate': 0.07973392}\n",
            "I1225 02:46:11.929928 137911135928320 model_lib_v2.py:708] {'Loss/classification_loss': 0.15635385,\n",
            " 'Loss/localization_loss': 0.11679827,\n",
            " 'Loss/regularization_loss': 0.15133117,\n",
            " 'Loss/total_loss': 0.4244833,\n",
            " 'learning_rate': 0.07973392}\n",
            "INFO:tensorflow:Step 2900 per-step time 1.381s\n",
            "I1225 02:48:30.066436 137911135928320 model_lib_v2.py:705] Step 2900 per-step time 1.381s\n",
            "INFO:tensorflow:{'Loss/classification_loss': 0.19115558,\n",
            " 'Loss/localization_loss': 0.16561417,\n",
            " 'Loss/regularization_loss': 0.15087587,\n",
            " 'Loss/total_loss': 0.5076456,\n",
            " 'learning_rate': 0.07970358}\n",
            "I1225 02:48:30.066877 137911135928320 model_lib_v2.py:708] {'Loss/classification_loss': 0.19115558,\n",
            " 'Loss/localization_loss': 0.16561417,\n",
            " 'Loss/regularization_loss': 0.15087587,\n",
            " 'Loss/total_loss': 0.5076456,\n",
            " 'learning_rate': 0.07970358}\n",
            "INFO:tensorflow:Step 3000 per-step time 1.360s\n",
            "I1225 02:50:46.093642 137911135928320 model_lib_v2.py:705] Step 3000 per-step time 1.360s\n",
            "INFO:tensorflow:{'Loss/classification_loss': 0.20611566,\n",
            " 'Loss/localization_loss': 0.14089444,\n",
            " 'Loss/regularization_loss': 0.15044734,\n",
            " 'Loss/total_loss': 0.49745744,\n",
            " 'learning_rate': 0.0796716}\n",
            "I1225 02:50:46.094012 137911135928320 model_lib_v2.py:708] {'Loss/classification_loss': 0.20611566,\n",
            " 'Loss/localization_loss': 0.14089444,\n",
            " 'Loss/regularization_loss': 0.15044734,\n",
            " 'Loss/total_loss': 0.49745744,\n",
            " 'learning_rate': 0.0796716}\n",
            "INFO:tensorflow:Step 3100 per-step time 1.387s\n",
            "I1225 02:53:04.826577 137911135928320 model_lib_v2.py:705] Step 3100 per-step time 1.387s\n",
            "INFO:tensorflow:{'Loss/classification_loss': 0.15691932,\n",
            " 'Loss/localization_loss': 0.184437,\n",
            " 'Loss/regularization_loss': 0.14999269,\n",
            " 'Loss/total_loss': 0.49134898,\n",
            " 'learning_rate': 0.07963799}\n",
            "I1225 02:53:04.827077 137911135928320 model_lib_v2.py:708] {'Loss/classification_loss': 0.15691932,\n",
            " 'Loss/localization_loss': 0.184437,\n",
            " 'Loss/regularization_loss': 0.14999269,\n",
            " 'Loss/total_loss': 0.49134898,\n",
            " 'learning_rate': 0.07963799}\n",
            "INFO:tensorflow:Step 3200 per-step time 1.389s\n",
            "I1225 02:55:23.676663 137911135928320 model_lib_v2.py:705] Step 3200 per-step time 1.389s\n",
            "INFO:tensorflow:{'Loss/classification_loss': 0.28761888,\n",
            " 'Loss/localization_loss': 0.31084496,\n",
            " 'Loss/regularization_loss': 0.14972326,\n",
            " 'Loss/total_loss': 0.74818707,\n",
            " 'learning_rate': 0.07960275}\n",
            "I1225 02:55:23.677119 137911135928320 model_lib_v2.py:708] {'Loss/classification_loss': 0.28761888,\n",
            " 'Loss/localization_loss': 0.31084496,\n",
            " 'Loss/regularization_loss': 0.14972326,\n",
            " 'Loss/total_loss': 0.74818707,\n",
            " 'learning_rate': 0.07960275}\n",
            "INFO:tensorflow:Step 3300 per-step time 1.345s\n",
            "I1225 02:57:38.132621 137911135928320 model_lib_v2.py:705] Step 3300 per-step time 1.345s\n",
            "INFO:tensorflow:{'Loss/classification_loss': 0.23565279,\n",
            " 'Loss/localization_loss': 0.19560461,\n",
            " 'Loss/regularization_loss': 0.14959149,\n",
            " 'Loss/total_loss': 0.5808489,\n",
            " 'learning_rate': 0.07956588}\n",
            "I1225 02:57:38.132996 137911135928320 model_lib_v2.py:708] {'Loss/classification_loss': 0.23565279,\n",
            " 'Loss/localization_loss': 0.19560461,\n",
            " 'Loss/regularization_loss': 0.14959149,\n",
            " 'Loss/total_loss': 0.5808489,\n",
            " 'learning_rate': 0.07956588}\n",
            "INFO:tensorflow:Step 3400 per-step time 1.396s\n",
            "I1225 02:59:57.756182 137911135928320 model_lib_v2.py:705] Step 3400 per-step time 1.396s\n",
            "INFO:tensorflow:{'Loss/classification_loss': 0.1302757,\n",
            " 'Loss/localization_loss': 0.13224025,\n",
            " 'Loss/regularization_loss': 0.14922412,\n",
            " 'Loss/total_loss': 0.41174006,\n",
            " 'learning_rate': 0.079527386}\n",
            "I1225 02:59:57.756581 137911135928320 model_lib_v2.py:708] {'Loss/classification_loss': 0.1302757,\n",
            " 'Loss/localization_loss': 0.13224025,\n",
            " 'Loss/regularization_loss': 0.14922412,\n",
            " 'Loss/total_loss': 0.41174006,\n",
            " 'learning_rate': 0.079527386}\n",
            "INFO:tensorflow:Step 3500 per-step time 1.364s\n",
            "I1225 03:02:14.113144 137911135928320 model_lib_v2.py:705] Step 3500 per-step time 1.364s\n",
            "INFO:tensorflow:{'Loss/classification_loss': 0.21124569,\n",
            " 'Loss/localization_loss': 0.15505177,\n",
            " 'Loss/regularization_loss': 0.14885852,\n",
            " 'Loss/total_loss': 0.515156,\n",
            " 'learning_rate': 0.07948727}\n",
            "I1225 03:02:14.113541 137911135928320 model_lib_v2.py:708] {'Loss/classification_loss': 0.21124569,\n",
            " 'Loss/localization_loss': 0.15505177,\n",
            " 'Loss/regularization_loss': 0.14885852,\n",
            " 'Loss/total_loss': 0.515156,\n",
            " 'learning_rate': 0.07948727}\n",
            "INFO:tensorflow:Step 3600 per-step time 1.392s\n",
            "I1225 03:04:33.330478 137911135928320 model_lib_v2.py:705] Step 3600 per-step time 1.392s\n",
            "INFO:tensorflow:{'Loss/classification_loss': 0.2018373,\n",
            " 'Loss/localization_loss': 0.1919638,\n",
            " 'Loss/regularization_loss': 0.14846832,\n",
            " 'Loss/total_loss': 0.5422694,\n",
            " 'learning_rate': 0.079445526}\n",
            "I1225 03:04:33.330864 137911135928320 model_lib_v2.py:708] {'Loss/classification_loss': 0.2018373,\n",
            " 'Loss/localization_loss': 0.1919638,\n",
            " 'Loss/regularization_loss': 0.14846832,\n",
            " 'Loss/total_loss': 0.5422694,\n",
            " 'learning_rate': 0.079445526}\n",
            "INFO:tensorflow:Step 3700 per-step time 1.408s\n",
            "I1225 03:06:54.111065 137911135928320 model_lib_v2.py:705] Step 3700 per-step time 1.408s\n",
            "INFO:tensorflow:{'Loss/classification_loss': 0.120022126,\n",
            " 'Loss/localization_loss': 0.104640715,\n",
            " 'Loss/regularization_loss': 0.14800705,\n",
            " 'Loss/total_loss': 0.37266988,\n",
            " 'learning_rate': 0.07940216}\n",
            "I1225 03:06:54.111447 137911135928320 model_lib_v2.py:708] {'Loss/classification_loss': 0.120022126,\n",
            " 'Loss/localization_loss': 0.104640715,\n",
            " 'Loss/regularization_loss': 0.14800705,\n",
            " 'Loss/total_loss': 0.37266988,\n",
            " 'learning_rate': 0.07940216}\n",
            "INFO:tensorflow:Step 3800 per-step time 1.446s\n",
            "I1225 03:09:18.676228 137911135928320 model_lib_v2.py:705] Step 3800 per-step time 1.446s\n",
            "INFO:tensorflow:{'Loss/classification_loss': 0.13952203,\n",
            " 'Loss/localization_loss': 0.10474616,\n",
            " 'Loss/regularization_loss': 0.14758542,\n",
            " 'Loss/total_loss': 0.39185363,\n",
            " 'learning_rate': 0.079357184}\n",
            "I1225 03:09:18.676678 137911135928320 model_lib_v2.py:708] {'Loss/classification_loss': 0.13952203,\n",
            " 'Loss/localization_loss': 0.10474616,\n",
            " 'Loss/regularization_loss': 0.14758542,\n",
            " 'Loss/total_loss': 0.39185363,\n",
            " 'learning_rate': 0.079357184}\n",
            "INFO:tensorflow:Step 3900 per-step time 1.441s\n",
            "I1225 03:11:42.761395 137911135928320 model_lib_v2.py:705] Step 3900 per-step time 1.441s\n",
            "INFO:tensorflow:{'Loss/classification_loss': 0.17104678,\n",
            " 'Loss/localization_loss': 0.12989625,\n",
            " 'Loss/regularization_loss': 0.14712478,\n",
            " 'Loss/total_loss': 0.44806784,\n",
            " 'learning_rate': 0.07931058}\n",
            "I1225 03:11:42.761759 137911135928320 model_lib_v2.py:708] {'Loss/classification_loss': 0.17104678,\n",
            " 'Loss/localization_loss': 0.12989625,\n",
            " 'Loss/regularization_loss': 0.14712478,\n",
            " 'Loss/total_loss': 0.44806784,\n",
            " 'learning_rate': 0.07931058}\n",
            "INFO:tensorflow:Step 4000 per-step time 1.387s\n",
            "I1225 03:14:01.509575 137911135928320 model_lib_v2.py:705] Step 4000 per-step time 1.387s\n",
            "INFO:tensorflow:{'Loss/classification_loss': 0.13405243,\n",
            " 'Loss/localization_loss': 0.09191633,\n",
            " 'Loss/regularization_loss': 0.1467926,\n",
            " 'Loss/total_loss': 0.37276137,\n",
            " 'learning_rate': 0.07926236}\n",
            "I1225 03:14:01.510056 137911135928320 model_lib_v2.py:708] {'Loss/classification_loss': 0.13405243,\n",
            " 'Loss/localization_loss': 0.09191633,\n",
            " 'Loss/regularization_loss': 0.1467926,\n",
            " 'Loss/total_loss': 0.37276137,\n",
            " 'learning_rate': 0.07926236}\n",
            "INFO:tensorflow:Step 4100 per-step time 1.425s\n",
            "I1225 03:16:24.051667 137911135928320 model_lib_v2.py:705] Step 4100 per-step time 1.425s\n",
            "INFO:tensorflow:{'Loss/classification_loss': 0.14714506,\n",
            " 'Loss/localization_loss': 0.13384397,\n",
            " 'Loss/regularization_loss': 0.14645329,\n",
            " 'Loss/total_loss': 0.42744234,\n",
            " 'learning_rate': 0.07921253}\n",
            "I1225 03:16:24.052044 137911135928320 model_lib_v2.py:708] {'Loss/classification_loss': 0.14714506,\n",
            " 'Loss/localization_loss': 0.13384397,\n",
            " 'Loss/regularization_loss': 0.14645329,\n",
            " 'Loss/total_loss': 0.42744234,\n",
            " 'learning_rate': 0.07921253}\n",
            "INFO:tensorflow:Step 4200 per-step time 1.378s\n",
            "I1225 03:18:41.839666 137911135928320 model_lib_v2.py:705] Step 4200 per-step time 1.378s\n",
            "INFO:tensorflow:{'Loss/classification_loss': 0.09930475,\n",
            " 'Loss/localization_loss': 0.06374212,\n",
            " 'Loss/regularization_loss': 0.14621854,\n",
            " 'Loss/total_loss': 0.30926543,\n",
            " 'learning_rate': 0.07916109}\n",
            "I1225 03:18:41.840092 137911135928320 model_lib_v2.py:708] {'Loss/classification_loss': 0.09930475,\n",
            " 'Loss/localization_loss': 0.06374212,\n",
            " 'Loss/regularization_loss': 0.14621854,\n",
            " 'Loss/total_loss': 0.30926543,\n",
            " 'learning_rate': 0.07916109}\n",
            "INFO:tensorflow:Step 4300 per-step time 1.373s\n",
            "I1225 03:20:59.101311 137911135928320 model_lib_v2.py:705] Step 4300 per-step time 1.373s\n",
            "INFO:tensorflow:{'Loss/classification_loss': 0.12805352,\n",
            " 'Loss/localization_loss': 0.08427326,\n",
            " 'Loss/regularization_loss': 0.14584057,\n",
            " 'Loss/total_loss': 0.35816735,\n",
            " 'learning_rate': 0.07910804}\n",
            "I1225 03:20:59.101679 137911135928320 model_lib_v2.py:708] {'Loss/classification_loss': 0.12805352,\n",
            " 'Loss/localization_loss': 0.08427326,\n",
            " 'Loss/regularization_loss': 0.14584057,\n",
            " 'Loss/total_loss': 0.35816735,\n",
            " 'learning_rate': 0.07910804}\n",
            "INFO:tensorflow:Step 4400 per-step time 1.355s\n",
            "I1225 03:23:14.557957 137911135928320 model_lib_v2.py:705] Step 4400 per-step time 1.355s\n",
            "INFO:tensorflow:{'Loss/classification_loss': 0.17068294,\n",
            " 'Loss/localization_loss': 0.19709773,\n",
            " 'Loss/regularization_loss': 0.14545636,\n",
            " 'Loss/total_loss': 0.513237,\n",
            " 'learning_rate': 0.07905338}\n",
            "I1225 03:23:14.558363 137911135928320 model_lib_v2.py:708] {'Loss/classification_loss': 0.17068294,\n",
            " 'Loss/localization_loss': 0.19709773,\n",
            " 'Loss/regularization_loss': 0.14545636,\n",
            " 'Loss/total_loss': 0.513237,\n",
            " 'learning_rate': 0.07905338}\n",
            "INFO:tensorflow:Step 4500 per-step time 1.349s\n",
            "I1225 03:25:29.471858 137911135928320 model_lib_v2.py:705] Step 4500 per-step time 1.349s\n",
            "INFO:tensorflow:{'Loss/classification_loss': 0.21504848,\n",
            " 'Loss/localization_loss': 0.13820446,\n",
            " 'Loss/regularization_loss': 0.1451143,\n",
            " 'Loss/total_loss': 0.49836725,\n",
            " 'learning_rate': 0.07899711}\n",
            "I1225 03:25:29.472209 137911135928320 model_lib_v2.py:708] {'Loss/classification_loss': 0.21504848,\n",
            " 'Loss/localization_loss': 0.13820446,\n",
            " 'Loss/regularization_loss': 0.1451143,\n",
            " 'Loss/total_loss': 0.49836725,\n",
            " 'learning_rate': 0.07899711}\n",
            "INFO:tensorflow:Step 4600 per-step time 1.378s\n",
            "I1225 03:27:47.298152 137911135928320 model_lib_v2.py:705] Step 4600 per-step time 1.378s\n",
            "INFO:tensorflow:{'Loss/classification_loss': 0.103780486,\n",
            " 'Loss/localization_loss': 0.076722644,\n",
            " 'Loss/regularization_loss': 0.14466985,\n",
            " 'Loss/total_loss': 0.32517296,\n",
            " 'learning_rate': 0.078939244}\n",
            "I1225 03:27:47.298595 137911135928320 model_lib_v2.py:708] {'Loss/classification_loss': 0.103780486,\n",
            " 'Loss/localization_loss': 0.076722644,\n",
            " 'Loss/regularization_loss': 0.14466985,\n",
            " 'Loss/total_loss': 0.32517296,\n",
            " 'learning_rate': 0.078939244}\n",
            "INFO:tensorflow:Step 4700 per-step time 1.336s\n",
            "I1225 03:30:00.934354 137911135928320 model_lib_v2.py:705] Step 4700 per-step time 1.336s\n",
            "INFO:tensorflow:{'Loss/classification_loss': 0.12046696,\n",
            " 'Loss/localization_loss': 0.09482918,\n",
            " 'Loss/regularization_loss': 0.14431977,\n",
            " 'Loss/total_loss': 0.35961592,\n",
            " 'learning_rate': 0.07887978}\n",
            "I1225 03:30:00.934711 137911135928320 model_lib_v2.py:708] {'Loss/classification_loss': 0.12046696,\n",
            " 'Loss/localization_loss': 0.09482918,\n",
            " 'Loss/regularization_loss': 0.14431977,\n",
            " 'Loss/total_loss': 0.35961592,\n",
            " 'learning_rate': 0.07887978}\n",
            "INFO:tensorflow:Step 4800 per-step time 1.371s\n",
            "I1225 03:32:18.065213 137911135928320 model_lib_v2.py:705] Step 4800 per-step time 1.371s\n",
            "INFO:tensorflow:{'Loss/classification_loss': 0.17787808,\n",
            " 'Loss/localization_loss': 0.08012073,\n",
            " 'Loss/regularization_loss': 0.14394835,\n",
            " 'Loss/total_loss': 0.40194714,\n",
            " 'learning_rate': 0.07881871}\n",
            "I1225 03:32:18.065644 137911135928320 model_lib_v2.py:708] {'Loss/classification_loss': 0.17787808,\n",
            " 'Loss/localization_loss': 0.08012073,\n",
            " 'Loss/regularization_loss': 0.14394835,\n",
            " 'Loss/total_loss': 0.40194714,\n",
            " 'learning_rate': 0.07881871}\n",
            "INFO:tensorflow:Step 4900 per-step time 1.335s\n",
            "I1225 03:34:31.524729 137911135928320 model_lib_v2.py:705] Step 4900 per-step time 1.335s\n",
            "INFO:tensorflow:{'Loss/classification_loss': 0.08610718,\n",
            " 'Loss/localization_loss': 0.089440145,\n",
            " 'Loss/regularization_loss': 0.14351411,\n",
            " 'Loss/total_loss': 0.31906146,\n",
            " 'learning_rate': 0.07875605}\n",
            "I1225 03:34:31.525120 137911135928320 model_lib_v2.py:708] {'Loss/classification_loss': 0.08610718,\n",
            " 'Loss/localization_loss': 0.089440145,\n",
            " 'Loss/regularization_loss': 0.14351411,\n",
            " 'Loss/total_loss': 0.31906146,\n",
            " 'learning_rate': 0.07875605}\n",
            "INFO:tensorflow:Step 5000 per-step time 1.385s\n",
            "I1225 03:36:49.979884 137911135928320 model_lib_v2.py:705] Step 5000 per-step time 1.385s\n",
            "INFO:tensorflow:{'Loss/classification_loss': 0.10730895,\n",
            " 'Loss/localization_loss': 0.08699199,\n",
            " 'Loss/regularization_loss': 0.14298087,\n",
            " 'Loss/total_loss': 0.33728182,\n",
            " 'learning_rate': 0.078691795}\n",
            "I1225 03:36:49.980242 137911135928320 model_lib_v2.py:708] {'Loss/classification_loss': 0.10730895,\n",
            " 'Loss/localization_loss': 0.08699199,\n",
            " 'Loss/regularization_loss': 0.14298087,\n",
            " 'Loss/total_loss': 0.33728182,\n",
            " 'learning_rate': 0.078691795}\n",
            "INFO:tensorflow:Step 5100 per-step time 1.398s\n",
            "I1225 03:39:09.822978 137911135928320 model_lib_v2.py:705] Step 5100 per-step time 1.398s\n",
            "INFO:tensorflow:{'Loss/classification_loss': 0.17875415,\n",
            " 'Loss/localization_loss': 0.09720683,\n",
            " 'Loss/regularization_loss': 0.14294565,\n",
            " 'Loss/total_loss': 0.41890663,\n",
            " 'learning_rate': 0.07862595}\n",
            "I1225 03:39:09.823349 137911135928320 model_lib_v2.py:708] {'Loss/classification_loss': 0.17875415,\n",
            " 'Loss/localization_loss': 0.09720683,\n",
            " 'Loss/regularization_loss': 0.14294565,\n",
            " 'Loss/total_loss': 0.41890663,\n",
            " 'learning_rate': 0.07862595}\n",
            "INFO:tensorflow:Step 5200 per-step time 1.333s\n",
            "I1225 03:41:23.084892 137911135928320 model_lib_v2.py:705] Step 5200 per-step time 1.333s\n",
            "INFO:tensorflow:{'Loss/classification_loss': 0.19289432,\n",
            " 'Loss/localization_loss': 0.2403952,\n",
            " 'Loss/regularization_loss': 0.14256021,\n",
            " 'Loss/total_loss': 0.5758497,\n",
            " 'learning_rate': 0.07855851}\n",
            "I1225 03:41:23.085232 137911135928320 model_lib_v2.py:708] {'Loss/classification_loss': 0.19289432,\n",
            " 'Loss/localization_loss': 0.2403952,\n",
            " 'Loss/regularization_loss': 0.14256021,\n",
            " 'Loss/total_loss': 0.5758497,\n",
            " 'learning_rate': 0.07855851}\n",
            "INFO:tensorflow:Step 5300 per-step time 1.391s\n",
            "I1225 03:43:42.172693 137911135928320 model_lib_v2.py:705] Step 5300 per-step time 1.391s\n",
            "INFO:tensorflow:{'Loss/classification_loss': 0.13026091,\n",
            " 'Loss/localization_loss': 0.11210693,\n",
            " 'Loss/regularization_loss': 0.14214991,\n",
            " 'Loss/total_loss': 0.38451776,\n",
            " 'learning_rate': 0.07848949}\n",
            "I1225 03:43:42.173050 137911135928320 model_lib_v2.py:708] {'Loss/classification_loss': 0.13026091,\n",
            " 'Loss/localization_loss': 0.11210693,\n",
            " 'Loss/regularization_loss': 0.14214991,\n",
            " 'Loss/total_loss': 0.38451776,\n",
            " 'learning_rate': 0.07848949}\n",
            "INFO:tensorflow:Step 5400 per-step time 1.352s\n",
            "I1225 03:45:57.379556 137911135928320 model_lib_v2.py:705] Step 5400 per-step time 1.352s\n",
            "INFO:tensorflow:{'Loss/classification_loss': 0.097260624,\n",
            " 'Loss/localization_loss': 0.104719356,\n",
            " 'Loss/regularization_loss': 0.14169092,\n",
            " 'Loss/total_loss': 0.3436709,\n",
            " 'learning_rate': 0.078418896}\n",
            "I1225 03:45:57.379922 137911135928320 model_lib_v2.py:708] {'Loss/classification_loss': 0.097260624,\n",
            " 'Loss/localization_loss': 0.104719356,\n",
            " 'Loss/regularization_loss': 0.14169092,\n",
            " 'Loss/total_loss': 0.3436709,\n",
            " 'learning_rate': 0.078418896}\n",
            "INFO:tensorflow:Step 5500 per-step time 1.361s\n",
            "I1225 03:48:13.477418 137911135928320 model_lib_v2.py:705] Step 5500 per-step time 1.361s\n",
            "INFO:tensorflow:{'Loss/classification_loss': 0.15034926,\n",
            " 'Loss/localization_loss': 0.12125234,\n",
            " 'Loss/regularization_loss': 0.14121008,\n",
            " 'Loss/total_loss': 0.4128117,\n",
            " 'learning_rate': 0.078346714}\n",
            "I1225 03:48:13.477879 137911135928320 model_lib_v2.py:708] {'Loss/classification_loss': 0.15034926,\n",
            " 'Loss/localization_loss': 0.12125234,\n",
            " 'Loss/regularization_loss': 0.14121008,\n",
            " 'Loss/total_loss': 0.4128117,\n",
            " 'learning_rate': 0.078346714}\n",
            "INFO:tensorflow:Step 5600 per-step time 1.343s\n",
            "I1225 03:50:27.739097 137911135928320 model_lib_v2.py:705] Step 5600 per-step time 1.343s\n",
            "INFO:tensorflow:{'Loss/classification_loss': 0.1088387,\n",
            " 'Loss/localization_loss': 0.07607153,\n",
            " 'Loss/regularization_loss': 0.14077726,\n",
            " 'Loss/total_loss': 0.3256875,\n",
            " 'learning_rate': 0.07827295}\n",
            "I1225 03:50:27.739465 137911135928320 model_lib_v2.py:708] {'Loss/classification_loss': 0.1088387,\n",
            " 'Loss/localization_loss': 0.07607153,\n",
            " 'Loss/regularization_loss': 0.14077726,\n",
            " 'Loss/total_loss': 0.3256875,\n",
            " 'learning_rate': 0.07827295}\n",
            "INFO:tensorflow:Step 5700 per-step time 1.381s\n",
            "I1225 03:52:45.818156 137911135928320 model_lib_v2.py:705] Step 5700 per-step time 1.381s\n",
            "INFO:tensorflow:{'Loss/classification_loss': 0.085446045,\n",
            " 'Loss/localization_loss': 0.107251644,\n",
            " 'Loss/regularization_loss': 0.14027938,\n",
            " 'Loss/total_loss': 0.33297706,\n",
            " 'learning_rate': 0.07819763}\n",
            "I1225 03:52:45.818525 137911135928320 model_lib_v2.py:708] {'Loss/classification_loss': 0.085446045,\n",
            " 'Loss/localization_loss': 0.107251644,\n",
            " 'Loss/regularization_loss': 0.14027938,\n",
            " 'Loss/total_loss': 0.33297706,\n",
            " 'learning_rate': 0.07819763}\n",
            "INFO:tensorflow:Step 5800 per-step time 1.360s\n",
            "I1225 03:55:01.829749 137911135928320 model_lib_v2.py:705] Step 5800 per-step time 1.360s\n",
            "INFO:tensorflow:{'Loss/classification_loss': 0.07077114,\n",
            " 'Loss/localization_loss': 0.06266397,\n",
            " 'Loss/regularization_loss': 0.13992041,\n",
            " 'Loss/total_loss': 0.27335554,\n",
            " 'learning_rate': 0.07812072}\n",
            "I1225 03:55:01.830368 137911135928320 model_lib_v2.py:708] {'Loss/classification_loss': 0.07077114,\n",
            " 'Loss/localization_loss': 0.06266397,\n",
            " 'Loss/regularization_loss': 0.13992041,\n",
            " 'Loss/total_loss': 0.27335554,\n",
            " 'learning_rate': 0.07812072}\n",
            "INFO:tensorflow:Step 5900 per-step time 1.358s\n",
            "I1225 03:57:17.605264 137911135928320 model_lib_v2.py:705] Step 5900 per-step time 1.358s\n",
            "INFO:tensorflow:{'Loss/classification_loss': 0.20399557,\n",
            " 'Loss/localization_loss': 0.19697413,\n",
            " 'Loss/regularization_loss': 0.139518,\n",
            " 'Loss/total_loss': 0.5404877,\n",
            " 'learning_rate': 0.078042254}\n",
            "I1225 03:57:17.605629 137911135928320 model_lib_v2.py:708] {'Loss/classification_loss': 0.20399557,\n",
            " 'Loss/localization_loss': 0.19697413,\n",
            " 'Loss/regularization_loss': 0.139518,\n",
            " 'Loss/total_loss': 0.5404877,\n",
            " 'learning_rate': 0.078042254}\n",
            "INFO:tensorflow:Step 6000 per-step time 1.385s\n",
            "I1225 03:59:36.154081 137911135928320 model_lib_v2.py:705] Step 6000 per-step time 1.385s\n",
            "INFO:tensorflow:{'Loss/classification_loss': 0.167715,\n",
            " 'Loss/localization_loss': 0.13561381,\n",
            " 'Loss/regularization_loss': 0.1391932,\n",
            " 'Loss/total_loss': 0.44252205,\n",
            " 'learning_rate': 0.07796223}\n",
            "I1225 03:59:36.154459 137911135928320 model_lib_v2.py:708] {'Loss/classification_loss': 0.167715,\n",
            " 'Loss/localization_loss': 0.13561381,\n",
            " 'Loss/regularization_loss': 0.1391932,\n",
            " 'Loss/total_loss': 0.44252205,\n",
            " 'learning_rate': 0.07796223}\n",
            "INFO:tensorflow:Step 6100 per-step time 1.359s\n",
            "I1225 04:01:52.101063 137911135928320 model_lib_v2.py:705] Step 6100 per-step time 1.359s\n",
            "INFO:tensorflow:{'Loss/classification_loss': 0.11732859,\n",
            " 'Loss/localization_loss': 0.113844514,\n",
            " 'Loss/regularization_loss': 0.13895945,\n",
            " 'Loss/total_loss': 0.37013257,\n",
            " 'learning_rate': 0.077880636}\n",
            "I1225 04:01:52.101443 137911135928320 model_lib_v2.py:708] {'Loss/classification_loss': 0.11732859,\n",
            " 'Loss/localization_loss': 0.113844514,\n",
            " 'Loss/regularization_loss': 0.13895945,\n",
            " 'Loss/total_loss': 0.37013257,\n",
            " 'learning_rate': 0.077880636}\n",
            "INFO:tensorflow:Step 6200 per-step time 1.394s\n",
            "I1225 04:04:11.548155 137911135928320 model_lib_v2.py:705] Step 6200 per-step time 1.394s\n",
            "INFO:tensorflow:{'Loss/classification_loss': 0.08997655,\n",
            " 'Loss/localization_loss': 0.061957434,\n",
            " 'Loss/regularization_loss': 0.13848495,\n",
            " 'Loss/total_loss': 0.29041892,\n",
            " 'learning_rate': 0.07779749}\n",
            "I1225 04:04:11.548573 137911135928320 model_lib_v2.py:708] {'Loss/classification_loss': 0.08997655,\n",
            " 'Loss/localization_loss': 0.061957434,\n",
            " 'Loss/regularization_loss': 0.13848495,\n",
            " 'Loss/total_loss': 0.29041892,\n",
            " 'learning_rate': 0.07779749}\n",
            "INFO:tensorflow:Step 6300 per-step time 1.341s\n",
            "I1225 04:06:25.606095 137911135928320 model_lib_v2.py:705] Step 6300 per-step time 1.341s\n",
            "INFO:tensorflow:{'Loss/classification_loss': 0.07084999,\n",
            " 'Loss/localization_loss': 0.04878334,\n",
            " 'Loss/regularization_loss': 0.13799739,\n",
            " 'Loss/total_loss': 0.2576307,\n",
            " 'learning_rate': 0.07771279}\n",
            "I1225 04:06:25.606483 137911135928320 model_lib_v2.py:708] {'Loss/classification_loss': 0.07084999,\n",
            " 'Loss/localization_loss': 0.04878334,\n",
            " 'Loss/regularization_loss': 0.13799739,\n",
            " 'Loss/total_loss': 0.2576307,\n",
            " 'learning_rate': 0.07771279}\n",
            "INFO:tensorflow:Step 6400 per-step time 1.399s\n",
            "I1225 04:08:45.498369 137911135928320 model_lib_v2.py:705] Step 6400 per-step time 1.399s\n",
            "INFO:tensorflow:{'Loss/classification_loss': 0.22893332,\n",
            " 'Loss/localization_loss': 0.22119637,\n",
            " 'Loss/regularization_loss': 0.1378286,\n",
            " 'Loss/total_loss': 0.5879583,\n",
            " 'learning_rate': 0.077626534}\n",
            "I1225 04:08:45.498746 137911135928320 model_lib_v2.py:708] {'Loss/classification_loss': 0.22893332,\n",
            " 'Loss/localization_loss': 0.22119637,\n",
            " 'Loss/regularization_loss': 0.1378286,\n",
            " 'Loss/total_loss': 0.5879583,\n",
            " 'learning_rate': 0.077626534}\n",
            "INFO:tensorflow:Step 6500 per-step time 1.366s\n",
            "I1225 04:11:02.112650 137911135928320 model_lib_v2.py:705] Step 6500 per-step time 1.366s\n",
            "INFO:tensorflow:{'Loss/classification_loss': 0.11220815,\n",
            " 'Loss/localization_loss': 0.06010453,\n",
            " 'Loss/regularization_loss': 0.1375243,\n",
            " 'Loss/total_loss': 0.30983698,\n",
            " 'learning_rate': 0.077538736}\n",
            "I1225 04:11:02.113065 137911135928320 model_lib_v2.py:708] {'Loss/classification_loss': 0.11220815,\n",
            " 'Loss/localization_loss': 0.06010453,\n",
            " 'Loss/regularization_loss': 0.1375243,\n",
            " 'Loss/total_loss': 0.30983698,\n",
            " 'learning_rate': 0.077538736}\n",
            "INFO:tensorflow:Step 6600 per-step time 1.370s\n",
            "I1225 04:13:19.066955 137911135928320 model_lib_v2.py:705] Step 6600 per-step time 1.370s\n",
            "INFO:tensorflow:{'Loss/classification_loss': 0.096541874,\n",
            " 'Loss/localization_loss': 0.08529186,\n",
            " 'Loss/regularization_loss': 0.13704346,\n",
            " 'Loss/total_loss': 0.3188772,\n",
            " 'learning_rate': 0.07744939}\n",
            "I1225 04:13:19.067387 137911135928320 model_lib_v2.py:708] {'Loss/classification_loss': 0.096541874,\n",
            " 'Loss/localization_loss': 0.08529186,\n",
            " 'Loss/regularization_loss': 0.13704346,\n",
            " 'Loss/total_loss': 0.3188772,\n",
            " 'learning_rate': 0.07744939}\n",
            "INFO:tensorflow:Step 6700 per-step time 1.370s\n",
            "I1225 04:15:36.114057 137911135928320 model_lib_v2.py:705] Step 6700 per-step time 1.370s\n",
            "INFO:tensorflow:{'Loss/classification_loss': 0.113764785,\n",
            " 'Loss/localization_loss': 0.07560328,\n",
            " 'Loss/regularization_loss': 0.13656482,\n",
            " 'Loss/total_loss': 0.3259329,\n",
            " 'learning_rate': 0.077358514}\n",
            "I1225 04:15:36.114449 137911135928320 model_lib_v2.py:708] {'Loss/classification_loss': 0.113764785,\n",
            " 'Loss/localization_loss': 0.07560328,\n",
            " 'Loss/regularization_loss': 0.13656482,\n",
            " 'Loss/total_loss': 0.3259329,\n",
            " 'learning_rate': 0.077358514}\n",
            "INFO:tensorflow:Step 6800 per-step time 1.352s\n",
            "I1225 04:17:51.358684 137911135928320 model_lib_v2.py:705] Step 6800 per-step time 1.352s\n",
            "INFO:tensorflow:{'Loss/classification_loss': 0.15738852,\n",
            " 'Loss/localization_loss': 0.13500614,\n",
            " 'Loss/regularization_loss': 0.13605538,\n",
            " 'Loss/total_loss': 0.42845005,\n",
            " 'learning_rate': 0.0772661}\n",
            "I1225 04:17:51.359045 137911135928320 model_lib_v2.py:708] {'Loss/classification_loss': 0.15738852,\n",
            " 'Loss/localization_loss': 0.13500614,\n",
            " 'Loss/regularization_loss': 0.13605538,\n",
            " 'Loss/total_loss': 0.42845005,\n",
            " 'learning_rate': 0.0772661}\n",
            "INFO:tensorflow:Step 6900 per-step time 1.366s\n",
            "I1225 04:20:07.930328 137911135928320 model_lib_v2.py:705] Step 6900 per-step time 1.366s\n",
            "INFO:tensorflow:{'Loss/classification_loss': 0.10689408,\n",
            " 'Loss/localization_loss': 0.100648426,\n",
            " 'Loss/regularization_loss': 0.1355,\n",
            " 'Loss/total_loss': 0.3430425,\n",
            " 'learning_rate': 0.077172145}\n",
            "I1225 04:20:07.930718 137911135928320 model_lib_v2.py:708] {'Loss/classification_loss': 0.10689408,\n",
            " 'Loss/localization_loss': 0.100648426,\n",
            " 'Loss/regularization_loss': 0.1355,\n",
            " 'Loss/total_loss': 0.3430425,\n",
            " 'learning_rate': 0.077172145}\n",
            "INFO:tensorflow:Step 7000 per-step time 1.362s\n",
            "I1225 04:22:24.165305 137911135928320 model_lib_v2.py:705] Step 7000 per-step time 1.362s\n",
            "INFO:tensorflow:{'Loss/classification_loss': 0.12955093,\n",
            " 'Loss/localization_loss': 0.093152426,\n",
            " 'Loss/regularization_loss': 0.134973,\n",
            " 'Loss/total_loss': 0.35767636,\n",
            " 'learning_rate': 0.07707667}\n",
            "I1225 04:22:24.165755 137911135928320 model_lib_v2.py:708] {'Loss/classification_loss': 0.12955093,\n",
            " 'Loss/localization_loss': 0.093152426,\n",
            " 'Loss/regularization_loss': 0.134973,\n",
            " 'Loss/total_loss': 0.35767636,\n",
            " 'learning_rate': 0.07707667}\n",
            "INFO:tensorflow:Step 7100 per-step time 1.423s\n",
            "I1225 04:24:46.496753 137911135928320 model_lib_v2.py:705] Step 7100 per-step time 1.423s\n",
            "INFO:tensorflow:{'Loss/classification_loss': 0.19051816,\n",
            " 'Loss/localization_loss': 0.06924009,\n",
            " 'Loss/regularization_loss': 0.13491347,\n",
            " 'Loss/total_loss': 0.39467174,\n",
            " 'learning_rate': 0.07697967}\n",
            "I1225 04:24:46.497121 137911135928320 model_lib_v2.py:708] {'Loss/classification_loss': 0.19051816,\n",
            " 'Loss/localization_loss': 0.06924009,\n",
            " 'Loss/regularization_loss': 0.13491347,\n",
            " 'Loss/total_loss': 0.39467174,\n",
            " 'learning_rate': 0.07697967}\n",
            "INFO:tensorflow:Step 7200 per-step time 1.354s\n",
            "I1225 04:27:01.881246 137911135928320 model_lib_v2.py:705] Step 7200 per-step time 1.354s\n",
            "INFO:tensorflow:{'Loss/classification_loss': 0.08179432,\n",
            " 'Loss/localization_loss': 0.05988644,\n",
            " 'Loss/regularization_loss': 0.13469402,\n",
            " 'Loss/total_loss': 0.2763748,\n",
            " 'learning_rate': 0.07688115}\n",
            "I1225 04:27:01.881618 137911135928320 model_lib_v2.py:708] {'Loss/classification_loss': 0.08179432,\n",
            " 'Loss/localization_loss': 0.05988644,\n",
            " 'Loss/regularization_loss': 0.13469402,\n",
            " 'Loss/total_loss': 0.2763748,\n",
            " 'learning_rate': 0.07688115}\n",
            "INFO:tensorflow:Step 7300 per-step time 1.361s\n",
            "I1225 04:29:17.977027 137911135928320 model_lib_v2.py:705] Step 7300 per-step time 1.361s\n",
            "INFO:tensorflow:{'Loss/classification_loss': 0.15823658,\n",
            " 'Loss/localization_loss': 0.06522397,\n",
            " 'Loss/regularization_loss': 0.13423927,\n",
            " 'Loss/total_loss': 0.3576998,\n",
            " 'learning_rate': 0.07678111}\n",
            "I1225 04:29:17.977495 137911135928320 model_lib_v2.py:708] {'Loss/classification_loss': 0.15823658,\n",
            " 'Loss/localization_loss': 0.06522397,\n",
            " 'Loss/regularization_loss': 0.13423927,\n",
            " 'Loss/total_loss': 0.3576998,\n",
            " 'learning_rate': 0.07678111}\n",
            "INFO:tensorflow:Step 7400 per-step time 1.334s\n",
            "I1225 04:31:31.354398 137911135928320 model_lib_v2.py:705] Step 7400 per-step time 1.334s\n",
            "INFO:tensorflow:{'Loss/classification_loss': 0.121909775,\n",
            " 'Loss/localization_loss': 0.07546538,\n",
            " 'Loss/regularization_loss': 0.13385347,\n",
            " 'Loss/total_loss': 0.3312286,\n",
            " 'learning_rate': 0.076679565}\n",
            "I1225 04:31:31.354774 137911135928320 model_lib_v2.py:708] {'Loss/classification_loss': 0.121909775,\n",
            " 'Loss/localization_loss': 0.07546538,\n",
            " 'Loss/regularization_loss': 0.13385347,\n",
            " 'Loss/total_loss': 0.3312286,\n",
            " 'learning_rate': 0.076679565}\n",
            "INFO:tensorflow:Step 7500 per-step time 1.368s\n",
            "I1225 04:33:48.140927 137911135928320 model_lib_v2.py:705] Step 7500 per-step time 1.368s\n",
            "INFO:tensorflow:{'Loss/classification_loss': 0.12648089,\n",
            " 'Loss/localization_loss': 0.11134301,\n",
            " 'Loss/regularization_loss': 0.13335805,\n",
            " 'Loss/total_loss': 0.37118196,\n",
            " 'learning_rate': 0.0765765}\n",
            "I1225 04:33:48.141290 137911135928320 model_lib_v2.py:708] {'Loss/classification_loss': 0.12648089,\n",
            " 'Loss/localization_loss': 0.11134301,\n",
            " 'Loss/regularization_loss': 0.13335805,\n",
            " 'Loss/total_loss': 0.37118196,\n",
            " 'learning_rate': 0.0765765}\n",
            "INFO:tensorflow:Step 7600 per-step time 1.345s\n",
            "I1225 04:36:02.646062 137911135928320 model_lib_v2.py:705] Step 7600 per-step time 1.345s\n",
            "INFO:tensorflow:{'Loss/classification_loss': 0.06020421,\n",
            " 'Loss/localization_loss': 0.047006674,\n",
            " 'Loss/regularization_loss': 0.13289873,\n",
            " 'Loss/total_loss': 0.24010962,\n",
            " 'learning_rate': 0.07647194}\n",
            "I1225 04:36:02.646564 137911135928320 model_lib_v2.py:708] {'Loss/classification_loss': 0.06020421,\n",
            " 'Loss/localization_loss': 0.047006674,\n",
            " 'Loss/regularization_loss': 0.13289873,\n",
            " 'Loss/total_loss': 0.24010962,\n",
            " 'learning_rate': 0.07647194}\n",
            "INFO:tensorflow:Step 7700 per-step time 1.354s\n",
            "I1225 04:38:18.024838 137911135928320 model_lib_v2.py:705] Step 7700 per-step time 1.354s\n",
            "INFO:tensorflow:{'Loss/classification_loss': 0.08542269,\n",
            " 'Loss/localization_loss': 0.039576497,\n",
            " 'Loss/regularization_loss': 0.13242917,\n",
            " 'Loss/total_loss': 0.25742835,\n",
            " 'learning_rate': 0.07636588}\n",
            "I1225 04:38:18.025194 137911135928320 model_lib_v2.py:708] {'Loss/classification_loss': 0.08542269,\n",
            " 'Loss/localization_loss': 0.039576497,\n",
            " 'Loss/regularization_loss': 0.13242917,\n",
            " 'Loss/total_loss': 0.25742835,\n",
            " 'learning_rate': 0.07636588}\n",
            "INFO:tensorflow:Step 7800 per-step time 1.401s\n",
            "I1225 04:40:38.092535 137911135928320 model_lib_v2.py:705] Step 7800 per-step time 1.401s\n",
            "INFO:tensorflow:{'Loss/classification_loss': 0.095492564,\n",
            " 'Loss/localization_loss': 0.06158861,\n",
            " 'Loss/regularization_loss': 0.13193469,\n",
            " 'Loss/total_loss': 0.28901586,\n",
            " 'learning_rate': 0.07625833}\n",
            "I1225 04:40:38.092969 137911135928320 model_lib_v2.py:708] {'Loss/classification_loss': 0.095492564,\n",
            " 'Loss/localization_loss': 0.06158861,\n",
            " 'Loss/regularization_loss': 0.13193469,\n",
            " 'Loss/total_loss': 0.28901586,\n",
            " 'learning_rate': 0.07625833}\n",
            "INFO:tensorflow:Step 7900 per-step time 1.348s\n",
            "I1225 04:42:52.882674 137911135928320 model_lib_v2.py:705] Step 7900 per-step time 1.348s\n",
            "INFO:tensorflow:{'Loss/classification_loss': 0.06660519,\n",
            " 'Loss/localization_loss': 0.03736516,\n",
            " 'Loss/regularization_loss': 0.13145137,\n",
            " 'Loss/total_loss': 0.23542172,\n",
            " 'learning_rate': 0.07614928}\n",
            "I1225 04:42:52.883080 137911135928320 model_lib_v2.py:708] {'Loss/classification_loss': 0.06660519,\n",
            " 'Loss/localization_loss': 0.03736516,\n",
            " 'Loss/regularization_loss': 0.13145137,\n",
            " 'Loss/total_loss': 0.23542172,\n",
            " 'learning_rate': 0.07614928}\n",
            "INFO:tensorflow:Step 8000 per-step time 1.389s\n",
            "I1225 04:45:11.821953 137911135928320 model_lib_v2.py:705] Step 8000 per-step time 1.389s\n",
            "INFO:tensorflow:{'Loss/classification_loss': 0.07910368,\n",
            " 'Loss/localization_loss': 0.06199448,\n",
            " 'Loss/regularization_loss': 0.13096787,\n",
            " 'Loss/total_loss': 0.27206603,\n",
            " 'learning_rate': 0.07603875}\n",
            "I1225 04:45:11.822309 137911135928320 model_lib_v2.py:708] {'Loss/classification_loss': 0.07910368,\n",
            " 'Loss/localization_loss': 0.06199448,\n",
            " 'Loss/regularization_loss': 0.13096787,\n",
            " 'Loss/total_loss': 0.27206603,\n",
            " 'learning_rate': 0.07603875}\n",
            "INFO:tensorflow:Step 8100 per-step time 1.371s\n",
            "I1225 04:47:28.908101 137911135928320 model_lib_v2.py:705] Step 8100 per-step time 1.371s\n",
            "INFO:tensorflow:{'Loss/classification_loss': 0.087049514,\n",
            " 'Loss/localization_loss': 0.06165107,\n",
            " 'Loss/regularization_loss': 0.13051778,\n",
            " 'Loss/total_loss': 0.27921838,\n",
            " 'learning_rate': 0.07592674}\n",
            "I1225 04:47:28.908513 137911135928320 model_lib_v2.py:708] {'Loss/classification_loss': 0.087049514,\n",
            " 'Loss/localization_loss': 0.06165107,\n",
            " 'Loss/regularization_loss': 0.13051778,\n",
            " 'Loss/total_loss': 0.27921838,\n",
            " 'learning_rate': 0.07592674}\n",
            "INFO:tensorflow:Step 8200 per-step time 1.385s\n",
            "I1225 04:49:47.448884 137911135928320 model_lib_v2.py:705] Step 8200 per-step time 1.385s\n",
            "INFO:tensorflow:{'Loss/classification_loss': 0.05997729,\n",
            " 'Loss/localization_loss': 0.029045975,\n",
            " 'Loss/regularization_loss': 0.13005182,\n",
            " 'Loss/total_loss': 0.21907508,\n",
            " 'learning_rate': 0.075813256}\n",
            "I1225 04:49:47.449285 137911135928320 model_lib_v2.py:708] {'Loss/classification_loss': 0.05997729,\n",
            " 'Loss/localization_loss': 0.029045975,\n",
            " 'Loss/regularization_loss': 0.13005182,\n",
            " 'Loss/total_loss': 0.21907508,\n",
            " 'learning_rate': 0.075813256}\n",
            "INFO:tensorflow:Step 8300 per-step time 1.355s\n",
            "I1225 04:52:02.917641 137911135928320 model_lib_v2.py:705] Step 8300 per-step time 1.355s\n",
            "INFO:tensorflow:{'Loss/classification_loss': 0.15465005,\n",
            " 'Loss/localization_loss': 0.12432526,\n",
            " 'Loss/regularization_loss': 0.12956177,\n",
            " 'Loss/total_loss': 0.4085371,\n",
            " 'learning_rate': 0.07569829}\n",
            "I1225 04:52:02.918014 137911135928320 model_lib_v2.py:708] {'Loss/classification_loss': 0.15465005,\n",
            " 'Loss/localization_loss': 0.12432526,\n",
            " 'Loss/regularization_loss': 0.12956177,\n",
            " 'Loss/total_loss': 0.4085371,\n",
            " 'learning_rate': 0.07569829}\n",
            "INFO:tensorflow:Step 8400 per-step time 1.411s\n",
            "I1225 04:54:24.024196 137911135928320 model_lib_v2.py:705] Step 8400 per-step time 1.411s\n",
            "INFO:tensorflow:{'Loss/classification_loss': 0.10187838,\n",
            " 'Loss/localization_loss': 0.07137706,\n",
            " 'Loss/regularization_loss': 0.129205,\n",
            " 'Loss/total_loss': 0.30246043,\n",
            " 'learning_rate': 0.07558186}\n",
            "I1225 04:54:24.024570 137911135928320 model_lib_v2.py:708] {'Loss/classification_loss': 0.10187838,\n",
            " 'Loss/localization_loss': 0.07137706,\n",
            " 'Loss/regularization_loss': 0.129205,\n",
            " 'Loss/total_loss': 0.30246043,\n",
            " 'learning_rate': 0.07558186}\n",
            "INFO:tensorflow:Step 8500 per-step time 1.378s\n",
            "I1225 04:56:41.785299 137911135928320 model_lib_v2.py:705] Step 8500 per-step time 1.378s\n",
            "INFO:tensorflow:{'Loss/classification_loss': 0.124226965,\n",
            " 'Loss/localization_loss': 0.11035236,\n",
            " 'Loss/regularization_loss': 0.12871487,\n",
            " 'Loss/total_loss': 0.36329418,\n",
            " 'learning_rate': 0.07546397}\n",
            "I1225 04:56:41.785687 137911135928320 model_lib_v2.py:708] {'Loss/classification_loss': 0.124226965,\n",
            " 'Loss/localization_loss': 0.11035236,\n",
            " 'Loss/regularization_loss': 0.12871487,\n",
            " 'Loss/total_loss': 0.36329418,\n",
            " 'learning_rate': 0.07546397}\n",
            "INFO:tensorflow:Step 8600 per-step time 1.409s\n",
            "I1225 04:59:02.717797 137911135928320 model_lib_v2.py:705] Step 8600 per-step time 1.409s\n",
            "INFO:tensorflow:{'Loss/classification_loss': 0.13267004,\n",
            " 'Loss/localization_loss': 0.092603505,\n",
            " 'Loss/regularization_loss': 0.12843883,\n",
            " 'Loss/total_loss': 0.35371238,\n",
            " 'learning_rate': 0.075344615}\n",
            "I1225 04:59:02.718175 137911135928320 model_lib_v2.py:708] {'Loss/classification_loss': 0.13267004,\n",
            " 'Loss/localization_loss': 0.092603505,\n",
            " 'Loss/regularization_loss': 0.12843883,\n",
            " 'Loss/total_loss': 0.35371238,\n",
            " 'learning_rate': 0.075344615}\n",
            "INFO:tensorflow:Step 8700 per-step time 1.357s\n",
            "I1225 05:01:18.379253 137911135928320 model_lib_v2.py:705] Step 8700 per-step time 1.357s\n",
            "INFO:tensorflow:{'Loss/classification_loss': 0.12745011,\n",
            " 'Loss/localization_loss': 0.17251071,\n",
            " 'Loss/regularization_loss': 0.1279473,\n",
            " 'Loss/total_loss': 0.42790812,\n",
            " 'learning_rate': 0.07522382}\n",
            "I1225 05:01:18.379693 137911135928320 model_lib_v2.py:708] {'Loss/classification_loss': 0.12745011,\n",
            " 'Loss/localization_loss': 0.17251071,\n",
            " 'Loss/regularization_loss': 0.1279473,\n",
            " 'Loss/total_loss': 0.42790812,\n",
            " 'learning_rate': 0.07522382}\n",
            "INFO:tensorflow:Step 8800 per-step time 1.386s\n",
            "I1225 05:03:37.003683 137911135928320 model_lib_v2.py:705] Step 8800 per-step time 1.386s\n",
            "INFO:tensorflow:{'Loss/classification_loss': 0.10432045,\n",
            " 'Loss/localization_loss': 0.04812579,\n",
            " 'Loss/regularization_loss': 0.12748955,\n",
            " 'Loss/total_loss': 0.27993578,\n",
            " 'learning_rate': 0.07510157}\n",
            "I1225 05:03:37.004038 137911135928320 model_lib_v2.py:708] {'Loss/classification_loss': 0.10432045,\n",
            " 'Loss/localization_loss': 0.04812579,\n",
            " 'Loss/regularization_loss': 0.12748955,\n",
            " 'Loss/total_loss': 0.27993578,\n",
            " 'learning_rate': 0.07510157}\n",
            "INFO:tensorflow:Step 8900 per-step time 1.363s\n",
            "I1225 05:05:53.262377 137911135928320 model_lib_v2.py:705] Step 8900 per-step time 1.363s\n",
            "INFO:tensorflow:{'Loss/classification_loss': 0.08136079,\n",
            " 'Loss/localization_loss': 0.042876136,\n",
            " 'Loss/regularization_loss': 0.12740783,\n",
            " 'Loss/total_loss': 0.25164476,\n",
            " 'learning_rate': 0.074977875}\n",
            "I1225 05:05:53.262755 137911135928320 model_lib_v2.py:708] {'Loss/classification_loss': 0.08136079,\n",
            " 'Loss/localization_loss': 0.042876136,\n",
            " 'Loss/regularization_loss': 0.12740783,\n",
            " 'Loss/total_loss': 0.25164476,\n",
            " 'learning_rate': 0.074977875}\n",
            "INFO:tensorflow:Step 9000 per-step time 1.388s\n",
            "I1225 05:08:12.075835 137911135928320 model_lib_v2.py:705] Step 9000 per-step time 1.388s\n",
            "INFO:tensorflow:{'Loss/classification_loss': 0.07648186,\n",
            " 'Loss/localization_loss': 0.025228724,\n",
            " 'Loss/regularization_loss': 0.12702128,\n",
            " 'Loss/total_loss': 0.22873186,\n",
            " 'learning_rate': 0.07485275}\n",
            "I1225 05:08:12.076280 137911135928320 model_lib_v2.py:708] {'Loss/classification_loss': 0.07648186,\n",
            " 'Loss/localization_loss': 0.025228724,\n",
            " 'Loss/regularization_loss': 0.12702128,\n",
            " 'Loss/total_loss': 0.22873186,\n",
            " 'learning_rate': 0.07485275}\n",
            "INFO:tensorflow:Step 9100 per-step time 1.350s\n",
            "I1225 05:10:27.040550 137911135928320 model_lib_v2.py:705] Step 9100 per-step time 1.350s\n",
            "INFO:tensorflow:{'Loss/classification_loss': 0.11735505,\n",
            " 'Loss/localization_loss': 0.096708536,\n",
            " 'Loss/regularization_loss': 0.12653719,\n",
            " 'Loss/total_loss': 0.3406008,\n",
            " 'learning_rate': 0.07472619}\n",
            "I1225 05:10:27.040924 137911135928320 model_lib_v2.py:708] {'Loss/classification_loss': 0.11735505,\n",
            " 'Loss/localization_loss': 0.096708536,\n",
            " 'Loss/regularization_loss': 0.12653719,\n",
            " 'Loss/total_loss': 0.3406008,\n",
            " 'learning_rate': 0.07472619}\n",
            "INFO:tensorflow:Step 9200 per-step time 1.384s\n",
            "I1225 05:12:45.413655 137911135928320 model_lib_v2.py:705] Step 9200 per-step time 1.384s\n",
            "INFO:tensorflow:{'Loss/classification_loss': 0.05527502,\n",
            " 'Loss/localization_loss': 0.05529971,\n",
            " 'Loss/regularization_loss': 0.1261165,\n",
            " 'Loss/total_loss': 0.23669124,\n",
            " 'learning_rate': 0.07459819}\n",
            "I1225 05:12:45.414019 137911135928320 model_lib_v2.py:708] {'Loss/classification_loss': 0.05527502,\n",
            " 'Loss/localization_loss': 0.05529971,\n",
            " 'Loss/regularization_loss': 0.1261165,\n",
            " 'Loss/total_loss': 0.23669124,\n",
            " 'learning_rate': 0.07459819}\n",
            "INFO:tensorflow:Step 9300 per-step time 1.369s\n",
            "I1225 05:15:02.308651 137911135928320 model_lib_v2.py:705] Step 9300 per-step time 1.369s\n",
            "INFO:tensorflow:{'Loss/classification_loss': 0.08679725,\n",
            " 'Loss/localization_loss': 0.079251915,\n",
            " 'Loss/regularization_loss': 0.12569383,\n",
            " 'Loss/total_loss': 0.29174298,\n",
            " 'learning_rate': 0.074468784}\n",
            "I1225 05:15:02.309062 137911135928320 model_lib_v2.py:708] {'Loss/classification_loss': 0.08679725,\n",
            " 'Loss/localization_loss': 0.079251915,\n",
            " 'Loss/regularization_loss': 0.12569383,\n",
            " 'Loss/total_loss': 0.29174298,\n",
            " 'learning_rate': 0.074468784}\n",
            "INFO:tensorflow:Step 9400 per-step time 1.375s\n",
            "I1225 05:17:19.784289 137911135928320 model_lib_v2.py:705] Step 9400 per-step time 1.375s\n",
            "INFO:tensorflow:{'Loss/classification_loss': 0.12303419,\n",
            " 'Loss/localization_loss': 0.09192991,\n",
            " 'Loss/regularization_loss': 0.12535821,\n",
            " 'Loss/total_loss': 0.34032232,\n",
            " 'learning_rate': 0.074337944}\n",
            "I1225 05:17:19.784677 137911135928320 model_lib_v2.py:708] {'Loss/classification_loss': 0.12303419,\n",
            " 'Loss/localization_loss': 0.09192991,\n",
            " 'Loss/regularization_loss': 0.12535821,\n",
            " 'Loss/total_loss': 0.34032232,\n",
            " 'learning_rate': 0.074337944}\n",
            "INFO:tensorflow:Step 9500 per-step time 1.357s\n",
            "I1225 05:19:35.502432 137911135928320 model_lib_v2.py:705] Step 9500 per-step time 1.357s\n",
            "INFO:tensorflow:{'Loss/classification_loss': 0.09700997,\n",
            " 'Loss/localization_loss': 0.062000692,\n",
            " 'Loss/regularization_loss': 0.12491385,\n",
            " 'Loss/total_loss': 0.28392452,\n",
            " 'learning_rate': 0.074205704}\n",
            "I1225 05:19:35.502792 137911135928320 model_lib_v2.py:708] {'Loss/classification_loss': 0.09700997,\n",
            " 'Loss/localization_loss': 0.062000692,\n",
            " 'Loss/regularization_loss': 0.12491385,\n",
            " 'Loss/total_loss': 0.28392452,\n",
            " 'learning_rate': 0.074205704}\n",
            "INFO:tensorflow:Step 9600 per-step time 1.383s\n",
            "I1225 05:21:53.831532 137911135928320 model_lib_v2.py:705] Step 9600 per-step time 1.383s\n",
            "INFO:tensorflow:{'Loss/classification_loss': 0.42391175,\n",
            " 'Loss/localization_loss': 0.23905383,\n",
            " 'Loss/regularization_loss': 0.12446283,\n",
            " 'Loss/total_loss': 0.78742844,\n",
            " 'learning_rate': 0.07407206}\n",
            "I1225 05:21:53.831942 137911135928320 model_lib_v2.py:708] {'Loss/classification_loss': 0.42391175,\n",
            " 'Loss/localization_loss': 0.23905383,\n",
            " 'Loss/regularization_loss': 0.12446283,\n",
            " 'Loss/total_loss': 0.78742844,\n",
            " 'learning_rate': 0.07407206}\n",
            "INFO:tensorflow:Step 9700 per-step time 1.345s\n",
            "I1225 05:24:08.288007 137911135928320 model_lib_v2.py:705] Step 9700 per-step time 1.345s\n",
            "INFO:tensorflow:{'Loss/classification_loss': 0.20948356,\n",
            " 'Loss/localization_loss': 0.2191747,\n",
            " 'Loss/regularization_loss': 0.1240562,\n",
            " 'Loss/total_loss': 0.55271447,\n",
            " 'learning_rate': 0.073937014}\n",
            "I1225 05:24:08.288370 137911135928320 model_lib_v2.py:708] {'Loss/classification_loss': 0.20948356,\n",
            " 'Loss/localization_loss': 0.2191747,\n",
            " 'Loss/regularization_loss': 0.1240562,\n",
            " 'Loss/total_loss': 0.55271447,\n",
            " 'learning_rate': 0.073937014}\n",
            "INFO:tensorflow:Step 9800 per-step time 1.384s\n",
            "I1225 05:26:26.659998 137911135928320 model_lib_v2.py:705] Step 9800 per-step time 1.384s\n",
            "INFO:tensorflow:{'Loss/classification_loss': 0.10163832,\n",
            " 'Loss/localization_loss': 0.10634479,\n",
            " 'Loss/regularization_loss': 0.12380167,\n",
            " 'Loss/total_loss': 0.33178478,\n",
            " 'learning_rate': 0.07380057}\n",
            "I1225 05:26:26.660342 137911135928320 model_lib_v2.py:708] {'Loss/classification_loss': 0.10163832,\n",
            " 'Loss/localization_loss': 0.10634479,\n",
            " 'Loss/regularization_loss': 0.12380167,\n",
            " 'Loss/total_loss': 0.33178478,\n",
            " 'learning_rate': 0.07380057}\n",
            "INFO:tensorflow:Step 9900 per-step time 1.354s\n",
            "I1225 05:28:42.013496 137911135928320 model_lib_v2.py:705] Step 9900 per-step time 1.354s\n",
            "INFO:tensorflow:{'Loss/classification_loss': 0.083818555,\n",
            " 'Loss/localization_loss': 0.09439808,\n",
            " 'Loss/regularization_loss': 0.123409934,\n",
            " 'Loss/total_loss': 0.30162656,\n",
            " 'learning_rate': 0.073662736}\n",
            "I1225 05:28:42.013891 137911135928320 model_lib_v2.py:708] {'Loss/classification_loss': 0.083818555,\n",
            " 'Loss/localization_loss': 0.09439808,\n",
            " 'Loss/regularization_loss': 0.123409934,\n",
            " 'Loss/total_loss': 0.30162656,\n",
            " 'learning_rate': 0.073662736}\n",
            "INFO:tensorflow:Step 10000 per-step time 1.368s\n",
            "I1225 05:30:58.837498 137911135928320 model_lib_v2.py:705] Step 10000 per-step time 1.368s\n",
            "INFO:tensorflow:{'Loss/classification_loss': 0.09365309,\n",
            " 'Loss/localization_loss': 0.040069904,\n",
            " 'Loss/regularization_loss': 0.12302492,\n",
            " 'Loss/total_loss': 0.2567479,\n",
            " 'learning_rate': 0.07352352}\n",
            "I1225 05:30:58.837845 137911135928320 model_lib_v2.py:708] {'Loss/classification_loss': 0.09365309,\n",
            " 'Loss/localization_loss': 0.040069904,\n",
            " 'Loss/regularization_loss': 0.12302492,\n",
            " 'Loss/total_loss': 0.2567479,\n",
            " 'learning_rate': 0.07352352}\n"
          ]
        }
      ],
      "source": [
        "!{command}"
      ]
    },
    {
      "cell_type": "markdown",
      "metadata": {
        "id": "4_YRZu7npfDH"
      },
      "source": [
        "# 7. Evaluate the Model"
      ]
    },
    {
      "cell_type": "code",
      "execution_count": null,
      "metadata": {
        "id": "80L7-fdPpfDH"
      },
      "outputs": [],
      "source": [
        "command = \"python {} --model_dir={} --pipeline_config_path={} --checkpoint_dir={}\".format(TRAINING_SCRIPT, paths['CHECKPOINT_PATH'],files['PIPELINE_CONFIG'], paths['CHECKPOINT_PATH'])"
      ]
    },
    {
      "cell_type": "code",
      "execution_count": null,
      "metadata": {
        "id": "lYsgEPx9pfDH"
      },
      "outputs": [],
      "source": [
        "print(command)"
      ]
    },
    {
      "cell_type": "code",
      "execution_count": null,
      "metadata": {
        "id": "lqTV2jGBpfDH"
      },
      "outputs": [],
      "source": [
        "!{command}"
      ]
    },
    {
      "cell_type": "markdown",
      "metadata": {
        "id": "orvRk02UpfDI"
      },
      "source": [
        "# 8. Load Train Model From Checkpoint"
      ]
    },
    {
      "cell_type": "code",
      "execution_count": 85,
      "metadata": {
        "id": "8TYk4_oIpfDI"
      },
      "outputs": [],
      "source": [
        "import os\n",
        "import tensorflow as tf\n",
        "from object_detection.utils import label_map_util\n",
        "from object_detection.utils import visualization_utils as viz_utils\n",
        "from object_detection.builders import model_builder\n",
        "from object_detection.utils import config_util"
      ]
    },
    {
      "cell_type": "code",
      "execution_count": 86,
      "metadata": {
        "id": "aRBMI6w5tr3B"
      },
      "outputs": [],
      "source": [
        "# Prevent GPU complete consumption\n",
        "gpus = tf.config.list_physical_devices('GPU')\n",
        "if gpus:\n",
        "    try:\n",
        "        tf.config.experimental.set_virtual_device_configuration(\n",
        "            gpus[0], [tf.config.experimental.VirtualDeviceConfiguration(memory_limit=5120)])\n",
        "    except RunTimeError as e:\n",
        "        print(e)"
      ]
    },
    {
      "cell_type": "code",
      "execution_count": 87,
      "metadata": {
        "id": "tDnQg-cYpfDI"
      },
      "outputs": [],
      "source": [
        "# Load pipeline config and build a detection model\n",
        "configs = config_util.get_configs_from_pipeline_file(files['PIPELINE_CONFIG'])\n",
        "detection_model = model_builder.build(model_config=configs['model'], is_training=False)\n",
        "\n",
        "# Restore checkpoint\n",
        "ckpt = tf.compat.v2.train.Checkpoint(model=detection_model)\n",
        "ckpt.restore(os.path.join(paths['CHECKPOINT_PATH'], 'ckpt-11')).expect_partial()\n",
        "\n",
        "@tf.function\n",
        "def detect_fn(image):\n",
        "    image, shapes = detection_model.preprocess(image)\n",
        "    prediction_dict = detection_model.predict(image, shapes)\n",
        "    detections = detection_model.postprocess(prediction_dict, shapes)\n",
        "    return detections"
      ]
    },
    {
      "cell_type": "markdown",
      "metadata": {
        "id": "0EmsmbBZpfDI"
      },
      "source": [
        "# 9. Detect from an Image"
      ]
    },
    {
      "cell_type": "code",
      "execution_count": 88,
      "metadata": {
        "id": "Y_MKiuZ4pfDI"
      },
      "outputs": [],
      "source": [
        "import cv2\n",
        "import numpy as np\n",
        "from matplotlib import pyplot as plt\n",
        "%matplotlib inline"
      ]
    },
    {
      "cell_type": "code",
      "execution_count": 89,
      "metadata": {
        "id": "cBDbIhNapfDI"
      },
      "outputs": [],
      "source": [
        "category_index = label_map_util.create_category_index_from_labelmap(files['LABELMAP'])"
      ]
    },
    {
      "cell_type": "code",
      "execution_count": 90,
      "metadata": {
        "id": "Lx3crOhOzITB"
      },
      "outputs": [],
      "source": [
        "IMAGE_PATH = os.path.join(paths['IMAGE_PATH'],'test','Cars411.png')"
      ]
    },
    {
      "cell_type": "code",
      "execution_count": 91,
      "metadata": {
        "id": "Tpzn1SMry1yK",
        "colab": {
          "base_uri": "https://localhost:8080/",
          "height": 397
        },
        "outputId": "e7a78826-ca88-4b85-9114-1292fb19e997"
      },
      "outputs": [
        {
          "output_type": "display_data",
          "data": {
            "text/plain": [
              "<Figure size 640x480 with 1 Axes>"
            ],
            "image/png": "[encoded data removed]"
          },
          "metadata": {}
        }
      ],
      "source": [
        "img = cv2.imread(IMAGE_PATH)\n",
        "image_np = np.array(img)\n",
        "\n",
        "input_tensor = tf.convert_to_tensor(np.expand_dims(image_np, 0), dtype=tf.float32)\n",
        "detections = detect_fn(input_tensor)\n",
        "\n",
        "num_detections = int(detections.pop('num_detections'))\n",
        "detections = {key: value[0, :num_detections].numpy()\n",
        "              for key, value in detections.items()}\n",
        "detections['num_detections'] = num_detections\n",
        "\n",
        "# detection_classes should be ints.\n",
        "detections['detection_classes'] = detections['detection_classes'].astype(np.int64)\n",
        "\n",
        "label_id_offset = 1\n",
        "image_np_with_detections = image_np.copy()\n",
        "\n",
        "viz_utils.visualize_boxes_and_labels_on_image_array(\n",
        "            image_np_with_detections,\n",
        "            detections['detection_boxes'],\n",
        "            detections['detection_classes']+label_id_offset,\n",
        "            detections['detection_scores'],\n",
        "            category_index,\n",
        "            use_normalized_coordinates=True,\n",
        "            max_boxes_to_draw=5,\n",
        "            min_score_thresh=.8,\n",
        "            agnostic_mode=False)\n",
        "\n",
        "plt.imshow(cv2.cvtColor(image_np_with_detections, cv2.COLOR_BGR2RGB))\n",
        "plt.show()"
      ]
    },
    {
      "cell_type": "code",
      "execution_count": 92,
      "metadata": {
        "id": "cLRUBZXttr3C",
        "colab": {
          "base_uri": "https://localhost:8080/"
        },
        "outputId": "ad35a4f3-a51d-4a30-dd40-ec893095382c"
      },
      "outputs": [
        {
          "output_type": "execute_result",
          "data": {
            "text/plain": [
              "dict_keys(['detection_boxes', 'detection_scores', 'detection_classes', 'raw_detection_boxes', 'raw_detection_scores', 'detection_multiclass_scores', 'detection_anchor_indices', 'num_detections'])"
            ]
          },
          "metadata": {},
          "execution_count": 92
        }
      ],
      "source": [
        "detections.keys()"
      ]
    },
    {
      "cell_type": "markdown",
      "metadata": {
        "id": "k8Ysk66Str3C"
      },
      "source": [
        "# Apply OCR to Detection"
      ]
    },
    {
      "cell_type": "code",
      "execution_count": 93,
      "metadata": {
        "id": "tDsWsEEytr3C",
        "colab": {
          "base_uri": "https://localhost:8080/"
        },
        "outputId": "6b718a28-bfff-490d-8e41-758493c3e08e"
      },
      "outputs": [
        {
          "output_type": "stream",
          "name": "stdout",
          "text": [
            "Collecting easyocr\n",
            "  Downloading easyocr-1.7.1-py3-none-any.whl (2.9 MB)\n",
            "\u001b[2K     \u001b[90m━━━━━━━━━━━━━━━━━━━━━━━━━━━━━━━━━━━━━━━━\u001b[0m \u001b[32m2.9/2.9 MB\u001b[0m \u001b[31m26.4 MB/s\u001b[0m eta \u001b[36m0:00:00\u001b[0m\n",
            "\u001b[?25hRequirement already satisfied: torch in /usr/local/lib/python3.10/dist-packages (from easyocr) (2.1.0+cu121)\n",
            "Requirement already satisfied: torchvision>=0.5 in /usr/local/lib/python3.10/dist-packages (from easyocr) (0.16.0+cu121)\n",
            "Requirement already satisfied: opencv-python-headless in /usr/local/lib/python3.10/dist-packages (from easyocr) (4.8.1.78)\n",
            "Requirement already satisfied: scipy in /usr/local/lib/python3.10/dist-packages (from easyocr) (1.11.4)\n",
            "Requirement already satisfied: numpy in /usr/local/lib/python3.10/dist-packages (from easyocr) (1.23.5)\n",
            "Requirement already satisfied: Pillow in /usr/local/lib/python3.10/dist-packages (from easyocr) (9.4.0)\n",
            "Requirement already satisfied: scikit-image in /usr/local/lib/python3.10/dist-packages (from easyocr) (0.19.3)\n",
            "Collecting python-bidi (from easyocr)\n",
            "  Downloading python_bidi-0.4.2-py2.py3-none-any.whl (30 kB)\n",
            "Requirement already satisfied: PyYAML in /usr/local/lib/python3.10/dist-packages (from easyocr) (6.0.1)\n",
            "Requirement already satisfied: Shapely in /usr/local/lib/python3.10/dist-packages (from easyocr) (2.0.2)\n",
            "Collecting pyclipper (from easyocr)\n",
            "  Downloading pyclipper-1.3.0.post5-cp310-cp310-manylinux_2_12_x86_64.manylinux2010_x86_64.whl (908 kB)\n",
            "\u001b[2K     \u001b[90m━━━━━━━━━━━━━━━━━━━━━━━━━━━━━━━━━━━━━━━━\u001b[0m \u001b[32m908.3/908.3 kB\u001b[0m \u001b[31m65.8 MB/s\u001b[0m eta \u001b[36m0:00:00\u001b[0m\n",
            "\u001b[?25hCollecting ninja (from easyocr)\n",
            "  Downloading ninja-1.11.1.1-py2.py3-none-manylinux1_x86_64.manylinux_2_5_x86_64.whl (307 kB)\n",
            "\u001b[2K     \u001b[90m━━━━━━━━━━━━━━━━━━━━━━━━━━━━━━━━━━━━━━━━\u001b[0m \u001b[32m307.2/307.2 kB\u001b[0m \u001b[31m35.0 MB/s\u001b[0m eta \u001b[36m0:00:00\u001b[0m\n",
            "\u001b[?25hRequirement already satisfied: requests in /usr/local/lib/python3.10/dist-packages (from torchvision>=0.5->easyocr) (2.31.0)\n",
            "Requirement already satisfied: filelock in /usr/local/lib/python3.10/dist-packages (from torch->easyocr) (3.13.1)\n",
            "Requirement already satisfied: typing-extensions in /usr/local/lib/python3.10/dist-packages (from torch->easyocr) (4.5.0)\n",
            "Requirement already satisfied: sympy in /usr/local/lib/python3.10/dist-packages (from torch->easyocr) (1.12)\n",
            "Requirement already satisfied: networkx in /usr/local/lib/python3.10/dist-packages (from torch->easyocr) (3.2.1)\n",
            "Requirement already satisfied: jinja2 in /usr/local/lib/python3.10/dist-packages (from torch->easyocr) (3.1.2)\n",
            "Requirement already satisfied: fsspec in /usr/local/lib/python3.10/dist-packages (from torch->easyocr) (2023.6.0)\n",
            "Requirement already satisfied: triton==2.1.0 in /usr/local/lib/python3.10/dist-packages (from torch->easyocr) (2.1.0)\n",
            "Requirement already satisfied: six in /usr/local/lib/python3.10/dist-packages (from python-bidi->easyocr) (1.16.0)\n",
            "Requirement already satisfied: imageio>=2.4.1 in /usr/local/lib/python3.10/dist-packages (from scikit-image->easyocr) (2.31.6)\n",
            "Requirement already satisfied: tifffile>=2019.7.26 in /usr/local/lib/python3.10/dist-packages (from scikit-image->easyocr) (2023.12.9)\n",
            "Requirement already satisfied: PyWavelets>=1.1.1 in /usr/local/lib/python3.10/dist-packages (from scikit-image->easyocr) (1.5.0)\n",
            "Requirement already satisfied: packaging>=20.0 in /usr/local/lib/python3.10/dist-packages (from scikit-image->easyocr) (23.2)\n",
            "Requirement already satisfied: MarkupSafe>=2.0 in /usr/local/lib/python3.10/dist-packages (from jinja2->torch->easyocr) (2.1.3)\n",
            "Requirement already satisfied: charset-normalizer<4,>=2 in /usr/local/lib/python3.10/dist-packages (from requests->torchvision>=0.5->easyocr) (3.3.2)\n",
            "Requirement already satisfied: idna<4,>=2.5 in /usr/local/lib/python3.10/dist-packages (from requests->torchvision>=0.5->easyocr) (3.6)\n",
            "Requirement already satisfied: urllib3<3,>=1.21.1 in /usr/local/lib/python3.10/dist-packages (from requests->torchvision>=0.5->easyocr) (2.0.7)\n",
            "Requirement already satisfied: certifi>=2017.4.17 in /usr/local/lib/python3.10/dist-packages (from requests->torchvision>=0.5->easyocr) (2023.11.17)\n",
            "Requirement already satisfied: mpmath>=0.19 in /usr/local/lib/python3.10/dist-packages (from sympy->torch->easyocr) (1.3.0)\n",
            "Installing collected packages: pyclipper, ninja, python-bidi, easyocr\n",
            "Successfully installed easyocr-1.7.1 ninja-1.11.1.1 pyclipper-1.3.0.post5 python-bidi-0.4.2\n"
          ]
        }
      ],
      "source": [
        "!pip install easyocr"
      ]
    },
    {
      "cell_type": "code",
      "execution_count": 94,
      "metadata": {
        "id": "cHahwwfPtr3C",
        "colab": {
          "base_uri": "https://localhost:8080/"
        },
        "outputId": "b2777822-b5b6-4701-d868-500cf6f401e8"
      },
      "outputs": [
        {
          "output_type": "stream",
          "name": "stdout",
          "text": [
            "Looking in links: https://download.pytorch.org/whl/torch_stable.html\n",
            "\u001b[31mERROR: Could not find a version that satisfies the requirement torch==1.8.1+cu111 (from versions: 1.11.0, 1.11.0+cpu, 1.11.0+cu102, 1.11.0+cu113, 1.11.0+cu115, 1.11.0+rocm4.3.1, 1.11.0+rocm4.5.2, 1.12.0, 1.12.0+cpu, 1.12.0+cu102, 1.12.0+cu113, 1.12.0+cu116, 1.12.0+rocm5.0, 1.12.0+rocm5.1.1, 1.12.1, 1.12.1+cpu, 1.12.1+cu102, 1.12.1+cu113, 1.12.1+cu116, 1.12.1+rocm5.0, 1.12.1+rocm5.1.1, 1.13.0, 1.13.0+cpu, 1.13.0+cu116, 1.13.0+cu117, 1.13.0+cu117.with.pypi.cudnn, 1.13.0+rocm5.1.1, 1.13.0+rocm5.2, 1.13.1, 1.13.1+cpu, 1.13.1+cu116, 1.13.1+cu117, 1.13.1+cu117.with.pypi.cudnn, 1.13.1+rocm5.1.1, 1.13.1+rocm5.2, 2.0.0, 2.0.0+cpu, 2.0.0+cpu.cxx11.abi, 2.0.0+cu117, 2.0.0+cu117.with.pypi.cudnn, 2.0.0+cu118, 2.0.0+rocm5.3, 2.0.0+rocm5.4.2, 2.0.1, 2.0.1+cpu, 2.0.1+cpu.cxx11.abi, 2.0.1+cu117, 2.0.1+cu117.with.pypi.cudnn, 2.0.1+cu118, 2.0.1+rocm5.3, 2.0.1+rocm5.4.2, 2.1.0, 2.1.0+cpu, 2.1.0+cpu.cxx11.abi, 2.1.0+cu118, 2.1.0+cu121, 2.1.0+cu121.with.pypi.cudnn, 2.1.0+rocm5.5, 2.1.0+rocm5.6, 2.1.1, 2.1.1+cpu, 2.1.1+cpu.cxx11.abi, 2.1.1+cu118, 2.1.1+cu121, 2.1.1+cu121.with.pypi.cudnn, 2.1.1+rocm5.5, 2.1.1+rocm5.6, 2.1.2, 2.1.2+cpu, 2.1.2+cpu.cxx11.abi, 2.1.2+cu118, 2.1.2+cu121, 2.1.2+cu121.with.pypi.cudnn, 2.1.2+rocm5.5, 2.1.2+rocm5.6)\u001b[0m\u001b[31m\n",
            "\u001b[0m\u001b[31mERROR: No matching distribution found for torch==1.8.1+cu111\u001b[0m\u001b[31m\n",
            "\u001b[0m"
          ]
        }
      ],
      "source": [
        "!pip install torch==1.8.1+cu111 torchvision==0.9.1+cu111 torchaudio===0.8.1 -f https://download.pytorch.org/whl/torch_stable.html"
      ]
    },
    {
      "cell_type": "code",
      "execution_count": 95,
      "metadata": {
        "id": "auNaNkHttr3C"
      },
      "outputs": [],
      "source": [
        "import easyocr"
      ]
    },
    {
      "cell_type": "code",
      "execution_count": 96,
      "metadata": {
        "id": "tSBG_lqCtr3C"
      },
      "outputs": [],
      "source": [
        "detection_threshold = 0.7"
      ]
    },
    {
      "cell_type": "code",
      "execution_count": 97,
      "metadata": {
        "id": "Guko0Hyktr3C"
      },
      "outputs": [],
      "source": [
        "image = image_np_with_detections\n",
        "scores = list(filter(lambda x: x> detection_threshold, detections['detection_scores']))\n",
        "boxes = detections['detection_boxes'][:len(scores)]\n",
        "classes = detections['detection_classes'][:len(scores)]"
      ]
    },
    {
      "cell_type": "code",
      "execution_count": 98,
      "metadata": {
        "id": "fv6kJLVPtr3D"
      },
      "outputs": [],
      "source": [
        "width = image.shape[1]\n",
        "height = image.shape[0]"
      ]
    },
    {
      "cell_type": "code",
      "execution_count": 99,
      "metadata": {
        "id": "h7AbHVs7tr3D",
        "colab": {
          "base_uri": "https://localhost:8080/",
          "height": 409
        },
        "outputId": "865725fe-d917-4413-d192-40bfe0608d13"
      },
      "outputs": [
        {
          "output_type": "stream",
          "name": "stderr",
          "text": [
            "WARNING:easyocr.easyocr:Downloading detection model, please wait. This may take several minutes depending upon your network connection.\n"
          ]
        },
        {
          "output_type": "stream",
          "name": "stdout",
          "text": [
            "[0.5803992  0.40111497 0.7333637  0.61278915]\n",
            "[155.54698968 160.44598818 196.54146838 245.11566162]\n",
            "Progress: |██████████████████████████████████████████████████| 100.0% Complete"
          ]
        },
        {
          "output_type": "stream",
          "name": "stderr",
          "text": [
            "WARNING:easyocr.easyocr:Downloading recognition model, please wait. This may take several minutes depending upon your network connection.\n"
          ]
        },
        {
          "output_type": "stream",
          "name": "stdout",
          "text": [
            "Progress: |██████████████████████████████████████████████████| 100.0% Complete[([[22, 8], [82, 8], [82, 32], [22, 32]], 'VIPER', 0.999860961123936)]\n"
          ]
        },
        {
          "output_type": "display_data",
          "data": {
            "text/plain": [
              "<Figure size 640x480 with 1 Axes>"
            ],
            "image/png": "[encoded data removed]"
          },
          "metadata": {}
        }
      ],
      "source": [
        "# Apply ROI filtering and OCR\n",
        "for idx, box in enumerate(boxes):\n",
        "    print(box)\n",
        "    roi = box*[height, width, height, width]\n",
        "    print(roi)\n",
        "    region = image[int(roi[0]):int(roi[2]),int(roi[1]):int(roi[3])]\n",
        "    reader = easyocr.Reader(['en'])\n",
        "    ocr_result = reader.readtext(region)\n",
        "    print(ocr_result)\n",
        "    plt.imshow(cv2.cvtColor(region, cv2.COLOR_BGR2RGB))"
      ]
    },
    {
      "cell_type": "code",
      "execution_count": 100,
      "metadata": {
        "id": "2rcfIeOZtr3D",
        "colab": {
          "base_uri": "https://localhost:8080/"
        },
        "outputId": "158e52e5-b022-467f-9f27-36451c5d5d13"
      },
      "outputs": [
        {
          "output_type": "stream",
          "name": "stdout",
          "text": [
            "24\n",
            "VIPER\n"
          ]
        }
      ],
      "source": [
        "for result in ocr_result:\n",
        "    print(np.sum(np.subtract(result[0][2],result[0][1])))\n",
        "    print(result[1])"
      ]
    },
    {
      "cell_type": "markdown",
      "metadata": {
        "id": "5YRJ34vYtr3D"
      },
      "source": [
        "# OCR Filtering"
      ]
    },
    {
      "cell_type": "code",
      "execution_count": 101,
      "metadata": {
        "id": "USBlUxewtr3D"
      },
      "outputs": [],
      "source": [
        "region_threshold = 0.05"
      ]
    },
    {
      "cell_type": "code",
      "execution_count": 102,
      "metadata": {
        "id": "teFWZQA9tr3D"
      },
      "outputs": [],
      "source": [
        "def filter_text(region, ocr_result, region_threshold):\n",
        "    rectangle_size = region.shape[0]*region.shape[1]\n",
        "\n",
        "    plate = []\n",
        "    for result in ocr_result:\n",
        "        length = np.sum(np.subtract(result[0][1], result[0][0]))\n",
        "        height = np.sum(np.subtract(result[0][2], result[0][1]))\n",
        "\n",
        "        if length*height / rectangle_size > region_threshold:\n",
        "            plate.append(result[1])\n",
        "    return plate"
      ]
    },
    {
      "cell_type": "code",
      "execution_count": 103,
      "metadata": {
        "id": "WMO_xrLDtr3D",
        "colab": {
          "base_uri": "https://localhost:8080/"
        },
        "outputId": "d2e5edbf-d0ab-42bb-b188-f2afd4c75543"
      },
      "outputs": [
        {
          "output_type": "execute_result",
          "data": {
            "text/plain": [
              "['VIPER']"
            ]
          },
          "metadata": {},
          "execution_count": 103
        }
      ],
      "source": [
        "filter_text(region, ocr_result, region_threshold)"
      ]
    },
    {
      "cell_type": "markdown",
      "metadata": {
        "id": "tj3YQwjmtr3D"
      },
      "source": [
        "# Bring it Together"
      ]
    },
    {
      "cell_type": "code",
      "execution_count": 104,
      "metadata": {
        "id": "PWL0O2Xbtr3D"
      },
      "outputs": [],
      "source": [
        "region_threshold = 0.6"
      ]
    },
    {
      "cell_type": "code",
      "execution_count": 105,
      "metadata": {
        "id": "3JtnlhP8tr3D"
      },
      "outputs": [],
      "source": [
        "def ocr_it(image, detections, detection_threshold, region_threshold):\n",
        "\n",
        "    # Scores, boxes and classes above threhold\n",
        "    scores = list(filter(lambda x: x> detection_threshold, detections['detection_scores']))\n",
        "    boxes = detections['detection_boxes'][:len(scores)]\n",
        "    classes = detections['detection_classes'][:len(scores)]\n",
        "\n",
        "    # Full image dimensions\n",
        "    width = image.shape[1]\n",
        "    height = image.shape[0]\n",
        "\n",
        "    # Apply ROI filtering and OCR\n",
        "    for idx, box in enumerate(boxes):\n",
        "        roi = box*[height, width, height, width]\n",
        "        region = image[int(roi[0]):int(roi[2]),int(roi[1]):int(roi[3])]\n",
        "        reader = easyocr.Reader(['en'])\n",
        "        ocr_result = reader.readtext(region)\n",
        "\n",
        "        text = filter_text(region, ocr_result, region_threshold)\n",
        "\n",
        "        plt.imshow(cv2.cvtColor(region, cv2.COLOR_BGR2RGB))\n",
        "        plt.show()\n",
        "        print(text)\n",
        "        return text, region"
      ]
    },
    {
      "cell_type": "code",
      "execution_count": 106,
      "metadata": {
        "scrolled": true,
        "id": "jx7hwo_ktr3E",
        "colab": {
          "base_uri": "https://localhost:8080/",
          "height": 319
        },
        "outputId": "ec7d472d-9dc3-49f3-c764-c6a4625cb825"
      },
      "outputs": [
        {
          "output_type": "display_data",
          "data": {
            "text/plain": [
              "<Figure size 640x480 with 1 Axes>"
            ],
            "image/png": "[encoded data removed]"
          },
          "metadata": {}
        },
        {
          "output_type": "stream",
          "name": "stdout",
          "text": [
            "[]\n"
          ]
        }
      ],
      "source": [
        "text, region = ocr_it(image_np_with_detections, detections, detection_threshold, region_threshold)"
      ]
    },
    {
      "cell_type": "markdown",
      "metadata": {
        "id": "6kCuEhTNtr3E"
      },
      "source": [
        "# Save Results"
      ]
    },
    {
      "cell_type": "code",
      "execution_count": 107,
      "metadata": {
        "id": "-w_qgNDttr3E"
      },
      "outputs": [],
      "source": [
        "import csv\n",
        "import uuid"
      ]
    },
    {
      "cell_type": "code",
      "execution_count": 108,
      "metadata": {
        "id": "nFzkGypKtr3E",
        "colab": {
          "base_uri": "https://localhost:8080/",
          "height": 35
        },
        "outputId": "6bbb7094-f67e-4323-88f5-d70a39250af3"
      },
      "outputs": [
        {
          "output_type": "execute_result",
          "data": {
            "text/plain": [
              "'e37003b6-a2eb-11ee-b8ad-0242ac1c000c.jpg'"
            ],
            "application/vnd.google.colaboratory.intrinsic+json": {
              "type": "string"
            }
          },
          "metadata": {},
          "execution_count": 108
        }
      ],
      "source": [
        "'{}.jpg'.format(uuid.uuid1())"
      ]
    },
    {
      "cell_type": "code",
      "execution_count": 109,
      "metadata": {
        "id": "Fg23PRYHtr3E"
      },
      "outputs": [],
      "source": [
        "def save_results(text, region, csv_filename, folder_path):\n",
        "    img_name = '{}.jpg'.format(uuid.uuid1())\n",
        "\n",
        "    cv2.imwrite(os.path.join(folder_path, img_name), region)\n",
        "\n",
        "    with open(csv_filename, mode='a', newline='') as f:\n",
        "        csv_writer = csv.writer(f, delimiter=',', quotechar='\"', quoting=csv.QUOTE_MINIMAL)\n",
        "        csv_writer.writerow([img_name, text])"
      ]
    },
    {
      "cell_type": "code",
      "execution_count": 110,
      "metadata": {
        "id": "GTDNoxxWtr3F",
        "colab": {
          "base_uri": "https://localhost:8080/"
        },
        "outputId": "da4da0eb-c8c7-42e6-8562-f6935845d89b"
      },
      "outputs": [
        {
          "output_type": "execute_result",
          "data": {
            "text/plain": [
              "array([[[199, 182, 159],\n",
              "        [162, 130,  85],\n",
              "        [172, 128,  72],\n",
              "        ...,\n",
              "        [201, 151,  83],\n",
              "        [196, 148,  82],\n",
              "        [190, 148,  83]],\n",
              "\n",
              "       [[185, 163, 123],\n",
              "        [181, 139,  76],\n",
              "        [203, 147,  77],\n",
              "        ...,\n",
              "        [217, 165,  85],\n",
              "        [215, 163,  85],\n",
              "        [213, 163,  86]],\n",
              "\n",
              "       [[194, 172, 134],\n",
              "        [200, 159,  96],\n",
              "        [219, 164,  95],\n",
              "        ...,\n",
              "        [224, 171,  98],\n",
              "        [223, 170,  98],\n",
              "        [225, 174, 103]],\n",
              "\n",
              "       ...,\n",
              "\n",
              "       [[213, 221, 235],\n",
              "        [167, 173, 177],\n",
              "        [165, 171, 167],\n",
              "        ...,\n",
              "        [249, 244, 243],\n",
              "        [249, 244, 243],\n",
              "        [250, 246, 244]],\n",
              "\n",
              "       [[214, 221, 237],\n",
              "        [175, 179, 188],\n",
              "        [168, 170, 170],\n",
              "        ...,\n",
              "        [246, 241, 245],\n",
              "        [245, 240, 245],\n",
              "        [246, 241, 246]],\n",
              "\n",
              "       [[226, 232, 245],\n",
              "        [224, 226, 232],\n",
              "        [220, 221, 220],\n",
              "        ...,\n",
              "        [253, 247, 252],\n",
              "        [252, 246, 252],\n",
              "        [253, 247, 252]]], dtype=uint8)"
            ]
          },
          "metadata": {},
          "execution_count": 110
        }
      ],
      "source": [
        "region"
      ]
    },
    {
      "cell_type": "code",
      "execution_count": 111,
      "metadata": {
        "id": "FGDJk8oatr3F"
      },
      "outputs": [],
      "source": [
        "save_results(text, region, 'detection_results.csv', 'Detection_Images')"
      ]
    },
    {
      "cell_type": "markdown",
      "metadata": {
        "id": "IsNAaYAo0WVL"
      },
      "source": [
        "# 10. Real Time Detections from your Webcam"
      ]
    },
    {
      "cell_type": "code",
      "execution_count": 112,
      "metadata": {
        "id": "igR2rw76tr3F",
        "colab": {
          "base_uri": "https://localhost:8080/"
        },
        "outputId": "0875e74c-130f-4ff2-9b1e-606d0f9a1be8"
      },
      "outputs": [
        {
          "output_type": "stream",
          "name": "stdout",
          "text": [
            "Found existing installation: opencv-python-headless 4.8.1.78\n",
            "Uninstalling opencv-python-headless-4.8.1.78:\n",
            "  Successfully uninstalled opencv-python-headless-4.8.1.78\n"
          ]
        }
      ],
      "source": [
        "!pip uninstall opencv-python-headless -y"
      ]
    },
    {
      "cell_type": "code",
      "execution_count": 113,
      "metadata": {
        "id": "o_grs6OGpfDJ"
      },
      "outputs": [],
      "source": [
        "cap = cv2.VideoCapture(0)\n",
        "width = int(cap.get(cv2.CAP_PROP_FRAME_WIDTH))\n",
        "height = int(cap.get(cv2.CAP_PROP_FRAME_HEIGHT))\n",
        "\n",
        "while cap.isOpened():\n",
        "    ret, frame = cap.read()\n",
        "    image_np = np.array(frame)\n",
        "\n",
        "    input_tensor = tf.convert_to_tensor(np.expand_dims(image_np, 0), dtype=tf.float32)\n",
        "    detections = detect_fn(input_tensor)\n",
        "\n",
        "    num_detections = int(detections.pop('num_detections'))\n",
        "    detections = {key: value[0, :num_detections].numpy()\n",
        "                  for key, value in detections.items()}\n",
        "    detections['num_detections'] = num_detections\n",
        "\n",
        "    # detection_classes should be ints.\n",
        "    detections['detection_classes'] = detections['detection_classes'].astype(np.int64)\n",
        "\n",
        "    label_id_offset = 1\n",
        "    image_np_with_detections = image_np.copy()\n",
        "\n",
        "    viz_utils.visualize_boxes_and_labels_on_image_array(\n",
        "                image_np_with_detections,\n",
        "                detections['detection_boxes'],\n",
        "                detections['detection_classes']+label_id_offset,\n",
        "                detections['detection_scores'],\n",
        "                category_index,\n",
        "                use_normalized_coordinates=True,\n",
        "                max_boxes_to_draw=5,\n",
        "                min_score_thresh=.8,\n",
        "                agnostic_mode=False)\n",
        "\n",
        "    try:\n",
        "        text, region = ocr_it(image_np_with_detections, detections, detection_threshold, region_threshold)\n",
        "        save_results(text, region, 'realtimeresults.csv', 'Detection_Images')\n",
        "    except:\n",
        "        pass\n",
        "\n",
        "    cv2.imshow('object detection',  cv2.resize(image_np_with_detections, (800, 600)))\n",
        "\n",
        "    if cv2.waitKey(10) & 0xFF == ord('q'):\n",
        "        cap.release()\n",
        "        cv2.destroyAllWindows()\n",
        "        break"
      ]
    },
    {
      "cell_type": "markdown",
      "metadata": {
        "id": "rzlM4jt0pfDJ"
      },
      "source": [
        "# 10. Freezing the Graph"
      ]
    },
    {
      "cell_type": "code",
      "execution_count": 114,
      "metadata": {
        "id": "n4olHB2npfDJ"
      },
      "outputs": [],
      "source": [
        "FREEZE_SCRIPT = os.path.join(paths['APIMODEL_PATH'], 'research', 'object_detection', 'exporter_main_v2.py ')"
      ]
    },
    {
      "cell_type": "code",
      "execution_count": 115,
      "metadata": {
        "id": "0AjO93QDpfDJ"
      },
      "outputs": [],
      "source": [
        "command = \"python {} --input_type=image_tensor --pipeline_config_path={} --trained_checkpoint_dir={} --output_directory={}\".format(FREEZE_SCRIPT ,files['PIPELINE_CONFIG'], paths['CHECKPOINT_PATH'], paths['OUTPUT_PATH'])"
      ]
    },
    {
      "cell_type": "code",
      "execution_count": null,
      "metadata": {
        "id": "F6Lsp3tCpfDJ"
      },
      "outputs": [],
      "source": [
        "print(command)"
      ]
    },
    {
      "cell_type": "code",
      "execution_count": null,
      "metadata": {
        "id": "1Sw1ULgHpfDJ"
      },
      "outputs": [],
      "source": [
        "!{command}"
      ]
    },
    {
      "cell_type": "markdown",
      "metadata": {
        "id": "wTPmdqaXpfDK"
      },
      "source": [
        "# 11. Conversion to TFJS"
      ]
    },
    {
      "cell_type": "code",
      "execution_count": null,
      "metadata": {
        "id": "gZ6UzY_fpfDK",
        "scrolled": true
      },
      "outputs": [],
      "source": [
        "!pip install tensorflowjs"
      ]
    },
    {
      "cell_type": "code",
      "execution_count": null,
      "metadata": {
        "id": "0oxbVynHpfDK"
      },
      "outputs": [],
      "source": [
        "command = \"tensorflowjs_converter --input_format=tf_saved_model --output_node_names='detection_boxes,detection_classes,detection_features,detection_multiclass_scores,detection_scores,num_detections,raw_detection_boxes,raw_detection_scores' --output_format=tfjs_graph_model --signature_name=serving_default {} {}\".format(os.path.join(paths['OUTPUT_PATH'], 'saved_model'), paths['TFJS_PATH'])"
      ]
    },
    {
      "cell_type": "code",
      "execution_count": null,
      "metadata": {
        "id": "DB2AGNmJpfDK"
      },
      "outputs": [],
      "source": [
        "print(command)"
      ]
    },
    {
      "cell_type": "code",
      "execution_count": null,
      "metadata": {
        "id": "K7rfT4-hpfDK"
      },
      "outputs": [],
      "source": [
        "!{command}"
      ]
    },
    {
      "cell_type": "code",
      "execution_count": null,
      "metadata": {
        "id": "o8_hm-itpfDK"
      },
      "outputs": [],
      "source": [
        "# Test Code: https://github.com/nicknochnack/RealTimeSignLanguageDetectionwithTFJS"
      ]
    },
    {
      "cell_type": "markdown",
      "metadata": {
        "id": "VtUw73FHpfDK"
      },
      "source": [
        "# 12. Conversion to TFLite"
      ]
    },
    {
      "cell_type": "code",
      "execution_count": null,
      "metadata": {
        "id": "XviMtewLpfDK"
      },
      "outputs": [],
      "source": [
        "TFLITE_SCRIPT = os.path.join(paths['APIMODEL_PATH'], 'research', 'object_detection', 'export_tflite_graph_tf2.py ')"
      ]
    },
    {
      "cell_type": "code",
      "execution_count": null,
      "metadata": {
        "id": "us86cjC4pfDL"
      },
      "outputs": [],
      "source": [
        "command = \"python {} --pipeline_config_path={} --trained_checkpoint_dir={} --output_directory={}\".format(TFLITE_SCRIPT ,files['PIPELINE_CONFIG'], paths['CHECKPOINT_PATH'], paths['TFLITE_PATH'])"
      ]
    },
    {
      "cell_type": "code",
      "execution_count": null,
      "metadata": {
        "id": "n1r5YO3rpfDL"
      },
      "outputs": [],
      "source": [
        "print(command)"
      ]
    },
    {
      "cell_type": "code",
      "execution_count": null,
      "metadata": {
        "id": "I-xWpHN8pfDL"
      },
      "outputs": [],
      "source": [
        "!{command}"
      ]
    },
    {
      "cell_type": "code",
      "execution_count": null,
      "metadata": {
        "id": "iJfYMbN6pfDL"
      },
      "outputs": [],
      "source": [
        "FROZEN_TFLITE_PATH = os.path.join(paths['TFLITE_PATH'], 'saved_model')\n",
        "TFLITE_MODEL = os.path.join(paths['TFLITE_PATH'], 'saved_model', 'detect.tflite')"
      ]
    },
    {
      "cell_type": "code",
      "execution_count": null,
      "metadata": {
        "id": "yBgfBzACtr3H"
      },
      "outputs": [],
      "source": [
        "command = \"tflite_convert \\\n",
        "--saved_model_dir={} \\\n",
        "--output_file={} \\\n",
        "--input_shapes=1,300,300,3 \\\n",
        "--input_arrays=normalized_input_image_tensor \\\n",
        "--output_arrays='TFLite_Detection_PostProcess','TFLite_Detection_PostProcess:1','TFLite_Detection_PostProcess:2','TFLite_Detection_PostProcess:3' \\\n",
        "--inference_type=FLOAT \\\n",
        "--allow_custom_ops\".format(FROZEN_TFLITE_PATH, TFLITE_MODEL, )"
      ]
    },
    {
      "cell_type": "code",
      "execution_count": null,
      "metadata": {
        "id": "E8GwUeoFpfDL"
      },
      "outputs": [],
      "source": [
        "print(command)"
      ]
    },
    {
      "cell_type": "code",
      "execution_count": null,
      "metadata": {
        "id": "Nbd7gqHMpfDL"
      },
      "outputs": [],
      "source": [
        "!{command}"
      ]
    },
    {
      "cell_type": "markdown",
      "metadata": {
        "id": "5NQqZRdA21Uc"
      },
      "source": [
        "# 13. Zip and Export Models"
      ]
    },
    {
      "cell_type": "code",
      "execution_count": null,
      "metadata": {
        "id": "tTVTGCQp2ZJJ"
      },
      "outputs": [],
      "source": [
        "!tar -czf models.tar.gz {paths['CHECKPOINT_PATH']}"
      ]
    },
    {
      "cell_type": "code",
      "execution_count": null,
      "metadata": {
        "colab": {
          "base_uri": "https://localhost:8080/"
        },
        "id": "whShhB0x3PYJ",
        "outputId": "87b870e3-55a1-48ff-cb6a-29ff83baaab3"
      },
      "outputs": [
        {
          "output_type": "stream",
          "name": "stdout",
          "text": [
            "Mounted at /content/drive\n"
          ]
        }
      ],
      "source": [
        "from google.colab import drive\n",
        "drive.mount('/content/drive')"
      ]
    }
  ],
  "metadata": {
    "accelerator": "GPU",
    "colab": {
      "provenance": [],
      "include_colab_link": true
    },
    "kernelspec": {
      "display_name": "anprsys",
      "language": "python",
      "name": "anprsys"
    },
    "language_info": {
      "codemirror_mode": {
        "name": "ipython",
        "version": 3
      },
      "file_extension": ".py",
      "mimetype": "text/x-python",
      "name": "python",
      "nbconvert_exporter": "python",
      "pygments_lexer": "ipython3",
      "version": "3.7.3"
    }
  },
  "nbformat": 4,
  "nbformat_minor": 0
}